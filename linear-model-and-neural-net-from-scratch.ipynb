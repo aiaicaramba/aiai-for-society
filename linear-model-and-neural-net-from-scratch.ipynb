{
 "cells": [
  {
   "cell_type": "markdown",
   "id": "3fbfe8fd",
   "metadata": {
    "papermill": {
     "duration": 0.070833,
     "end_time": "2023-10-16T12:56:50.673365",
     "exception": false,
     "start_time": "2023-10-16T12:56:50.602532",
     "status": "completed"
    },
    "tags": []
   },
   "source": [
    "## Introduction"
   ]
  },
  {
   "cell_type": "markdown",
   "id": "aa41f20b",
   "metadata": {
    "papermill": {
     "duration": 0.065946,
     "end_time": "2023-10-16T12:56:50.812559",
     "exception": false,
     "start_time": "2023-10-16T12:56:50.746613",
     "status": "completed"
    },
    "tags": []
   },
   "source": [
    "In this notebook we're going to build and train a deep learning model \"from scratch\" -- by which I mean that we're not going to use any pre-built architecture, or optimizers, or data loading frameworks, etc.\n",
    "\n",
    "We'll be assuming you already know the basics of how a neural network works. If you don't, read this notebook first: [How does a neural net really work?\n",
    "](https://www.kaggle.com/code/jhoward/how-does-a-neural-net-really-work). We'll be using Kaggle's [Titanic](https://www.kaggle.com/competitions/titanic/) competition in this notebook, because it's very small and simple, but also has displays many of the tricky real-life issues that we need to handle in most practical projects. (Note, however, that this competition is a small \"learner\" competition on Kaggle, so don't expect to actually see much benefits from using a neural net just yet; that will come once we try our some real competitions!)\n",
    "\n",
    "It's great to be able to run the same notebook on your own machine or Colab, as well as Kaggle. To allow for this, we use this code to download the data as needed when not on Kaggle (see [this notebook](https://www.kaggle.com/code/jhoward/getting-started-with-nlp-for-absolute-beginners/) for details about this technique):"
   ]
  },
  {
   "cell_type": "markdown",
   "id": "6bbcba7b",
   "metadata": {
    "hidden": true,
    "papermill": {
     "duration": 0.068527,
     "end_time": "2023-10-16T12:56:51.095131",
     "exception": false,
     "start_time": "2023-10-16T12:56:51.026604",
     "status": "completed"
    },
    "tags": []
   },
   "source": [
    "Note that the data for Kaggle comps always lives in the `../input` folder. The easiest way to get the path is to click the \"K\" button in the top-right of the Kaggle notebook, click on the folder shown there, and click the copy button.\n",
    "\n",
    "We'll be using *numpy* and *pytorch* for array calculations in this notebook, and *pandas* for working with tabular data, so we'll import them and set them to display using a bit more space than they default to."
   ]
  },
  {
   "cell_type": "code",
   "execution_count": null,
   "id": "943b501f",
   "metadata": {
    "execution": {
     "iopub.execute_input": "2023-10-16T12:56:51.231833Z",
     "iopub.status.busy": "2023-10-16T12:56:51.231351Z",
     "iopub.status.idle": "2023-10-16T12:56:52.840263Z",
     "shell.execute_reply": "2023-10-16T12:56:52.838921Z"
    },
    "papermill": {
     "duration": 1.680221,
     "end_time": "2023-10-16T12:56:52.842732",
     "exception": false,
     "start_time": "2023-10-16T12:56:51.162511",
     "status": "completed"
    },
    "tags": []
   },
   "outputs": [],
   "source": [
    "import torch, numpy as np, pandas as pd\n",
    "# np.set_printoptions(linewidth=140)\n",
    "# torch.set_printoptions(linewidth=140, sci_mode=False, edgeitems=7)\n",
    "# pd.set_option('display.width', 140)"
   ]
  },
  {
   "cell_type": "markdown",
   "id": "c180b0b6",
   "metadata": {
    "heading_collapsed": true,
    "papermill": {
     "duration": 0.070385,
     "end_time": "2023-10-16T12:56:52.981633",
     "exception": false,
     "start_time": "2023-10-16T12:56:52.911248",
     "status": "completed"
    },
    "tags": []
   },
   "source": [
    "## Cleaning the data"
   ]
  },
  {
   "cell_type": "markdown",
   "id": "8acb1e8c",
   "metadata": {
    "hidden": true,
    "papermill": {
     "duration": 0.067076,
     "end_time": "2023-10-16T12:56:53.115208",
     "exception": false,
     "start_time": "2023-10-16T12:56:53.048132",
     "status": "completed"
    },
    "tags": []
   },
   "source": [
    "This is a *tabular data* competition -- the data is in the form of a table. It's provided as a Comma Separated Values (CSV) file. We can open it using the *pandas* library, which will create a `DataFrame`."
   ]
  },
  {
   "cell_type": "code",
   "execution_count": null,
   "id": "3677e244",
   "metadata": {
    "execution": {
     "iopub.execute_input": "2023-10-16T12:56:53.253356Z",
     "iopub.status.busy": "2023-10-16T12:56:53.253084Z",
     "iopub.status.idle": "2023-10-16T12:56:53.297846Z",
     "shell.execute_reply": "2023-10-16T12:56:53.296620Z"
    },
    "hidden": true,
    "papermill": {
     "duration": 0.117309,
     "end_time": "2023-10-16T12:56:53.299755",
     "exception": false,
     "start_time": "2023-10-16T12:56:53.182446",
     "status": "completed"
    },
    "scrolled": true,
    "tags": []
   },
   "outputs": [],
   "source": [
    "df = pd.read_csv('data/titanic/train.csv')\n",
    "df"
   ]
  },
  {
   "cell_type": "markdown",
   "id": "5e3f58b7",
   "metadata": {
    "hidden": true,
    "papermill": {
     "duration": 0.070345,
     "end_time": "2023-10-16T12:56:53.441014",
     "exception": false,
     "start_time": "2023-10-16T12:56:53.370669",
     "status": "completed"
    },
    "tags": []
   },
   "source": [
    "As we learned in the *How does a neural net really work* notebook, we going to want to multiply each column by some coefficients. But we can see in the `Cabin` column that there are `NaN` values, which is how Pandas refers to missing values. We can't multiply something by a missing value!\n",
    "\n",
    "Let's check which columns contain `NaN` values. Pandas' `isna()` function returns `True` (which is treated as `1` when used as a number) for `NaN` values, so we can just add them up for each column:"
   ]
  },
  {
   "cell_type": "code",
   "execution_count": null,
   "id": "4a387ad3",
   "metadata": {
    "execution": {
     "iopub.execute_input": "2023-10-16T12:56:53.579692Z",
     "iopub.status.busy": "2023-10-16T12:56:53.579219Z",
     "iopub.status.idle": "2023-10-16T12:56:53.586325Z",
     "shell.execute_reply": "2023-10-16T12:56:53.585676Z"
    },
    "hidden": true,
    "papermill": {
     "duration": 0.079299,
     "end_time": "2023-10-16T12:56:53.588476",
     "exception": false,
     "start_time": "2023-10-16T12:56:53.509177",
     "status": "completed"
    },
    "tags": []
   },
   "outputs": [],
   "source": [
    "df.isna().sum()"
   ]
  },
  {
   "cell_type": "markdown",
   "id": "95bf6f75",
   "metadata": {
    "hidden": true,
    "papermill": {
     "duration": 0.067288,
     "end_time": "2023-10-16T12:56:53.726459",
     "exception": false,
     "start_time": "2023-10-16T12:56:53.659171",
     "status": "completed"
    },
    "tags": []
   },
   "source": [
    "Notice that by default Pandas sums over columns.\n",
    "\n",
    "We'll need to replace the missing values with something. It doesn't generally matter too much what we choose. We'll use the most common value (the \"*mode*\"). We can use the `mode` function for that. One wrinkle is that it returns more than one row in the case of ties, so we just grab the first row with `iloc[0]`:"
   ]
  },
  {
   "cell_type": "code",
   "execution_count": null,
   "id": "d95259c4",
   "metadata": {
    "execution": {
     "iopub.execute_input": "2023-10-16T12:56:53.862714Z",
     "iopub.status.busy": "2023-10-16T12:56:53.862468Z",
     "iopub.status.idle": "2023-10-16T12:56:53.879773Z",
     "shell.execute_reply": "2023-10-16T12:56:53.879185Z"
    },
    "hidden": true,
    "papermill": {
     "duration": 0.087764,
     "end_time": "2023-10-16T12:56:53.881258",
     "exception": false,
     "start_time": "2023-10-16T12:56:53.793494",
     "status": "completed"
    },
    "tags": []
   },
   "outputs": [],
   "source": [
    "modes = df.mode().iloc[0]\n",
    "modes"
   ]
  },
  {
   "cell_type": "markdown",
   "id": "35c3a42b",
   "metadata": {
    "hidden": true,
    "papermill": {
     "duration": 0.069527,
     "end_time": "2023-10-16T12:56:54.020917",
     "exception": false,
     "start_time": "2023-10-16T12:56:53.951390",
     "status": "completed"
    },
    "tags": []
   },
   "source": [
    "BTW, it's never a good idea to use functions without understanding them. So be sure to google for anything you're not familiar with. E.g if you want to learn about `iloc` (which is a very important function indeed!) then Google will give you a link to a [great tutorial](https://www.shanelynn.ie/pandas-iloc-loc-select-rows-and-columns-dataframe/).\n",
    "\n",
    "Now that we've got the mode of each column, we can use `fillna` to replace the missing values with the mode of each column. We'll do it \"in place\" -- meaning that we'll change the dataframe itself, rather than returning a new one."
   ]
  },
  {
   "cell_type": "code",
   "execution_count": null,
   "id": "c3bf6286",
   "metadata": {
    "execution": {
     "iopub.execute_input": "2023-10-16T12:56:54.163023Z",
     "iopub.status.busy": "2023-10-16T12:56:54.162576Z",
     "iopub.status.idle": "2023-10-16T12:56:54.172139Z",
     "shell.execute_reply": "2023-10-16T12:56:54.171630Z"
    },
    "hidden": true,
    "papermill": {
     "duration": 0.08156,
     "end_time": "2023-10-16T12:56:54.173988",
     "exception": false,
     "start_time": "2023-10-16T12:56:54.092428",
     "status": "completed"
    },
    "tags": []
   },
   "outputs": [],
   "source": [
    "df.fillna(modes, inplace=True)"
   ]
  },
  {
   "cell_type": "markdown",
   "id": "b68a3820",
   "metadata": {
    "hidden": true,
    "papermill": {
     "duration": 0.068198,
     "end_time": "2023-10-16T12:56:54.310369",
     "exception": false,
     "start_time": "2023-10-16T12:56:54.242171",
     "status": "completed"
    },
    "tags": []
   },
   "source": [
    "We can now check there's no missing values left:"
   ]
  },
  {
   "cell_type": "code",
   "execution_count": null,
   "id": "e32c8823",
   "metadata": {
    "execution": {
     "iopub.execute_input": "2023-10-16T12:56:54.446941Z",
     "iopub.status.busy": "2023-10-16T12:56:54.446568Z",
     "iopub.status.idle": "2023-10-16T12:56:54.453197Z",
     "shell.execute_reply": "2023-10-16T12:56:54.452555Z"
    },
    "hidden": true,
    "papermill": {
     "duration": 0.075854,
     "end_time": "2023-10-16T12:56:54.455321",
     "exception": false,
     "start_time": "2023-10-16T12:56:54.379467",
     "status": "completed"
    },
    "tags": []
   },
   "outputs": [],
   "source": [
    "df.isna().sum()"
   ]
  },
  {
   "cell_type": "markdown",
   "id": "4ab87ce4",
   "metadata": {
    "hidden": true,
    "papermill": {
     "duration": 0.066551,
     "end_time": "2023-10-16T12:56:54.590548",
     "exception": false,
     "start_time": "2023-10-16T12:56:54.523997",
     "status": "completed"
    },
    "tags": []
   },
   "source": [
    "Here's how we get a quick summary of all the numeric columns in the dataset:"
   ]
  },
  {
   "cell_type": "code",
   "execution_count": null,
   "id": "e1e56411",
   "metadata": {
    "execution": {
     "iopub.execute_input": "2023-10-16T12:56:54.729803Z",
     "iopub.status.busy": "2023-10-16T12:56:54.729196Z",
     "iopub.status.idle": "2023-10-16T12:56:54.754498Z",
     "shell.execute_reply": "2023-10-16T12:56:54.754012Z"
    },
    "hidden": true,
    "papermill": {
     "duration": 0.095834,
     "end_time": "2023-10-16T12:56:54.756027",
     "exception": false,
     "start_time": "2023-10-16T12:56:54.660193",
     "status": "completed"
    },
    "tags": []
   },
   "outputs": [],
   "source": [
    "import numpy as np\n",
    "\n",
    "df.describe(include=(np.number))"
   ]
  },
  {
   "cell_type": "markdown",
   "id": "e14d81d8",
   "metadata": {
    "execution": {
     "iopub.execute_input": "2022-05-13T11:02:34.328433Z",
     "iopub.status.busy": "2022-05-13T11:02:34.327999Z",
     "iopub.status.idle": "2022-05-13T11:02:34.336993Z",
     "shell.execute_reply": "2022-05-13T11:02:34.335466Z",
     "shell.execute_reply.started": "2022-05-13T11:02:34.32838Z"
    },
    "hidden": true,
    "papermill": {
     "duration": 0.068389,
     "end_time": "2023-10-16T12:56:54.893887",
     "exception": false,
     "start_time": "2023-10-16T12:56:54.825498",
     "status": "completed"
    },
    "tags": []
   },
   "source": [
    "We can see that `Fare` contains mainly values of around `0` to `30`, but there's a few really big ones. This is very common with fields contain monetary values, and it can cause problems for our model, because once that column is multiplied by a coefficient later, the few rows with really big values will dominate the result.\n",
    "\n",
    "You can see the issue most clearly visually by looking at a histogram, which shows a long tail to the right (and don't forget: if you're not entirely sure what a histogram is, Google \"[histogram tutorial](https://www.google.com/search?q=histogram+tutorial&oq=histogram+tutorial)\" and do a bit of reading before continuing on):"
   ]
  },
  {
   "cell_type": "code",
   "execution_count": null,
   "id": "dc9451b9",
   "metadata": {
    "execution": {
     "iopub.execute_input": "2023-10-16T12:56:55.038161Z",
     "iopub.status.busy": "2023-10-16T12:56:55.037774Z",
     "iopub.status.idle": "2023-10-16T12:56:55.215325Z",
     "shell.execute_reply": "2023-10-16T12:56:55.214694Z"
    },
    "hidden": true,
    "papermill": {
     "duration": 0.253616,
     "end_time": "2023-10-16T12:56:55.217072",
     "exception": false,
     "start_time": "2023-10-16T12:56:54.963456",
     "status": "completed"
    },
    "tags": []
   },
   "outputs": [],
   "source": [
    "df['Fare'].hist();"
   ]
  },
  {
   "cell_type": "markdown",
   "id": "7542a6a2",
   "metadata": {
    "execution": {
     "iopub.execute_input": "2022-05-13T11:02:34.328433Z",
     "iopub.status.busy": "2022-05-13T11:02:34.327999Z",
     "iopub.status.idle": "2022-05-13T11:02:34.336993Z",
     "shell.execute_reply": "2022-05-13T11:02:34.335466Z",
     "shell.execute_reply.started": "2022-05-13T11:02:34.32838Z"
    },
    "hidden": true,
    "papermill": {
     "duration": 0.072521,
     "end_time": "2023-10-16T12:56:55.361490",
     "exception": false,
     "start_time": "2023-10-16T12:56:55.288969",
     "status": "completed"
    },
    "tags": []
   },
   "source": [
    "To fix this, the most common approach is to take the logarithm, which squishes the big numbers and makes the distribution more reasonable. Note, however, that there are zeros in the `Fare` column, and `log(0)` is infinite -- to fix this, we'll simply add `1` to all values first:"
   ]
  },
  {
   "cell_type": "code",
   "execution_count": null,
   "id": "3d97640c",
   "metadata": {
    "execution": {
     "iopub.execute_input": "2023-10-16T12:56:55.504815Z",
     "iopub.status.busy": "2023-10-16T12:56:55.504478Z",
     "iopub.status.idle": "2023-10-16T12:56:55.510898Z",
     "shell.execute_reply": "2023-10-16T12:56:55.509526Z"
    },
    "hidden": true,
    "papermill": {
     "duration": 0.081001,
     "end_time": "2023-10-16T12:56:55.513013",
     "exception": false,
     "start_time": "2023-10-16T12:56:55.432012",
     "status": "completed"
    },
    "tags": []
   },
   "outputs": [],
   "source": [
    "df['LogFare'] = np.log(df['Fare']+1)"
   ]
  },
  {
   "cell_type": "markdown",
   "id": "d1ade855",
   "metadata": {
    "hidden": true,
    "papermill": {
     "duration": 0.070133,
     "end_time": "2023-10-16T12:56:55.653684",
     "exception": false,
     "start_time": "2023-10-16T12:56:55.583551",
     "status": "completed"
    },
    "tags": []
   },
   "source": [
    "The histogram now shows a more even distribution of values without the long tail:"
   ]
  },
  {
   "cell_type": "code",
   "execution_count": null,
   "id": "24c34000",
   "metadata": {
    "execution": {
     "iopub.execute_input": "2023-10-16T12:56:55.798847Z",
     "iopub.status.busy": "2023-10-16T12:56:55.798435Z",
     "iopub.status.idle": "2023-10-16T12:56:55.913624Z",
     "shell.execute_reply": "2023-10-16T12:56:55.912794Z"
    },
    "hidden": true,
    "papermill": {
     "duration": 0.193173,
     "end_time": "2023-10-16T12:56:55.915608",
     "exception": false,
     "start_time": "2023-10-16T12:56:55.722435",
     "status": "completed"
    },
    "tags": []
   },
   "outputs": [],
   "source": [
    "df['LogFare'].hist();"
   ]
  },
  {
   "cell_type": "markdown",
   "id": "cde50832",
   "metadata": {
    "hidden": true,
    "papermill": {
     "duration": 0.074447,
     "end_time": "2023-10-16T12:56:56.064907",
     "exception": false,
     "start_time": "2023-10-16T12:56:55.990460",
     "status": "completed"
    },
    "tags": []
   },
   "source": [
    "It looks from the `describe()` output like `Pclass` contains just 3 values, which we can confirm by looking at the [Data Dictionary](https://www.kaggle.com/competitions/titanic/data) (which you should always study carefully for any project!) -- "
   ]
  },
  {
   "cell_type": "code",
   "execution_count": null,
   "id": "acdef445",
   "metadata": {
    "execution": {
     "iopub.execute_input": "2023-10-16T12:56:56.205387Z",
     "iopub.status.busy": "2023-10-16T12:56:56.205163Z",
     "iopub.status.idle": "2023-10-16T12:56:56.210846Z",
     "shell.execute_reply": "2023-10-16T12:56:56.209865Z"
    },
    "hidden": true,
    "papermill": {
     "duration": 0.077906,
     "end_time": "2023-10-16T12:56:56.212241",
     "exception": false,
     "start_time": "2023-10-16T12:56:56.134335",
     "status": "completed"
    },
    "tags": []
   },
   "outputs": [],
   "source": [
    "pclasses = sorted(df.Pclass.unique())\n",
    "print(pclasses)"
   ]
  },
  {
   "cell_type": "markdown",
   "id": "6ee9315e",
   "metadata": {
    "hidden": true,
    "papermill": {
     "duration": 0.071874,
     "end_time": "2023-10-16T12:56:56.356289",
     "exception": false,
     "start_time": "2023-10-16T12:56:56.284415",
     "status": "completed"
    },
    "tags": []
   },
   "source": [
    "Here's how we get a quick summary of all the non-numeric columns in the dataset:"
   ]
  },
  {
   "cell_type": "code",
   "execution_count": null,
   "id": "49147d99",
   "metadata": {
    "execution": {
     "iopub.execute_input": "2023-10-16T12:56:56.498163Z",
     "iopub.status.busy": "2023-10-16T12:56:56.497940Z",
     "iopub.status.idle": "2023-10-16T12:56:56.516348Z",
     "shell.execute_reply": "2023-10-16T12:56:56.515214Z"
    },
    "hidden": true,
    "papermill": {
     "duration": 0.091655,
     "end_time": "2023-10-16T12:56:56.517938",
     "exception": false,
     "start_time": "2023-10-16T12:56:56.426283",
     "status": "completed"
    },
    "tags": []
   },
   "outputs": [],
   "source": [
    "df.describe(include=[object])"
   ]
  },
  {
   "cell_type": "markdown",
   "id": "dc2179fd",
   "metadata": {
    "hidden": true,
    "papermill": {
     "duration": 0.069859,
     "end_time": "2023-10-16T12:56:56.657897",
     "exception": false,
     "start_time": "2023-10-16T12:56:56.588038",
     "status": "completed"
    },
    "tags": []
   },
   "source": [
    "Clearly we can't multiply strings like `male` or `S` by coefficients, so we need to replace those with numbers.\n",
    "\n",
    "We do that by creating new columns containing *dummy variables*. A dummy variable is a column that contains a `1` where a particular column contains a particular value, or a `0` otherwise. For instance, we could create a dummy variable for `Sex='male'`, which would be a new column containing `1` for rows where `Sex` is `'male'`, and 0 for rows where it isn't.\n",
    "\n",
    "Pandas can create these automatically using `get_dummies`, which also remove the original columns. We'll create dummy variables for `Pclass`, even although it's numeric, since the numbers `1`, `2`, and `3` correspond to first, second, and third class cabins - not to counts or measures that make sense to multiply by. We'll also create dummies for `Sex` and `Embarked` since we'll want to use those as predictors in our model. On the other hand, `Cabin`, `Name`, and `Ticket` have too many unique values for it to make sense creating dummy variables for them."
   ]
  },
  {
   "cell_type": "code",
   "execution_count": null,
   "id": "80ae6d45",
   "metadata": {
    "execution": {
     "iopub.execute_input": "2023-10-16T12:56:56.799886Z",
     "iopub.status.busy": "2023-10-16T12:56:56.799543Z",
     "iopub.status.idle": "2023-10-16T12:56:56.810716Z",
     "shell.execute_reply": "2023-10-16T12:56:56.809537Z"
    },
    "hidden": true,
    "papermill": {
     "duration": 0.085062,
     "end_time": "2023-10-16T12:56:56.812625",
     "exception": false,
     "start_time": "2023-10-16T12:56:56.727563",
     "status": "completed"
    },
    "tags": []
   },
   "outputs": [],
   "source": [
    "df = pd.get_dummies(df, columns=[\"Sex\",\"Pclass\",\"Embarked\"], dtype=float)\n",
    "df.columns"
   ]
  },
  {
   "cell_type": "markdown",
   "id": "8459b052",
   "metadata": {
    "hidden": true,
    "papermill": {
     "duration": 0.069637,
     "end_time": "2023-10-16T12:56:56.955234",
     "exception": false,
     "start_time": "2023-10-16T12:56:56.885597",
     "status": "completed"
    },
    "tags": []
   },
   "source": [
    "We can see that 5 columns have been added to the end -- one for each of the possible values of each of the three columns we requested, and that those three requested columns have been removed.\n",
    "\n",
    "Here's what the first few rows of those newly added columns look like:"
   ]
  },
  {
   "cell_type": "code",
   "execution_count": null,
   "id": "fc4bac9d",
   "metadata": {
    "execution": {
     "iopub.execute_input": "2023-10-16T12:56:57.099550Z",
     "iopub.status.busy": "2023-10-16T12:56:57.099289Z",
     "iopub.status.idle": "2023-10-16T12:56:57.110737Z",
     "shell.execute_reply": "2023-10-16T12:56:57.109249Z"
    },
    "hidden": true,
    "papermill": {
     "duration": 0.086079,
     "end_time": "2023-10-16T12:56:57.112814",
     "exception": false,
     "start_time": "2023-10-16T12:56:57.026735",
     "status": "completed"
    },
    "tags": []
   },
   "outputs": [],
   "source": [
    "added_cols = ['Sex_male', 'Sex_female', 'Pclass_1', 'Pclass_2', 'Pclass_3', 'Embarked_C', 'Embarked_Q', 'Embarked_S']\n",
    "df[added_cols].head()"
   ]
  },
  {
   "cell_type": "markdown",
   "id": "7ebee037",
   "metadata": {
    "hidden": true,
    "papermill": {
     "duration": 0.071518,
     "end_time": "2023-10-16T12:56:57.256858",
     "exception": false,
     "start_time": "2023-10-16T12:56:57.185340",
     "status": "completed"
    },
    "tags": []
   },
   "source": [
    "Now we can create our independent (predictors) and dependent (target) variables. They both need to be PyTorch tensors. Our dependent variable is `Survived`:"
   ]
  },
  {
   "cell_type": "code",
   "execution_count": null,
   "id": "82b271dc",
   "metadata": {
    "execution": {
     "iopub.execute_input": "2023-10-16T12:56:57.403794Z",
     "iopub.status.busy": "2023-10-16T12:56:57.403044Z",
     "iopub.status.idle": "2023-10-16T12:56:57.416928Z",
     "shell.execute_reply": "2023-10-16T12:56:57.416364Z"
    },
    "hidden": true,
    "papermill": {
     "duration": 0.090481,
     "end_time": "2023-10-16T12:56:57.418986",
     "exception": false,
     "start_time": "2023-10-16T12:56:57.328505",
     "status": "completed"
    },
    "tags": []
   },
   "outputs": [],
   "source": [
    "from torch import tensor\n",
    "\n",
    "t_dep = tensor(df.Survived)"
   ]
  },
  {
   "cell_type": "markdown",
   "id": "1b1305df",
   "metadata": {
    "hidden": true,
    "papermill": {
     "duration": 0.071858,
     "end_time": "2023-10-16T12:56:57.563182",
     "exception": false,
     "start_time": "2023-10-16T12:56:57.491324",
     "status": "completed"
    },
    "tags": []
   },
   "source": [
    "Our independent variables are all the continuous variables of interest plus all the dummy variables we just created:"
   ]
  },
  {
   "cell_type": "code",
   "execution_count": null,
   "id": "d17ecf00",
   "metadata": {
    "execution": {
     "iopub.execute_input": "2023-10-16T12:56:57.708023Z",
     "iopub.status.busy": "2023-10-16T12:56:57.707255Z",
     "iopub.status.idle": "2023-10-16T12:56:57.810372Z",
     "shell.execute_reply": "2023-10-16T12:56:57.809905Z"
    },
    "hidden": true,
    "papermill": {
     "duration": 0.177676,
     "end_time": "2023-10-16T12:56:57.811917",
     "exception": false,
     "start_time": "2023-10-16T12:56:57.634241",
     "status": "completed"
    },
    "tags": []
   },
   "outputs": [],
   "source": [
    "indep_cols = ['Age', 'SibSp', 'Parch', 'LogFare'] + added_cols\n",
    "\n",
    "t_indep = tensor(df[indep_cols].values, dtype=torch.float)\n",
    "t_indep"
   ]
  },
  {
   "cell_type": "markdown",
   "id": "c0a6f59e",
   "metadata": {
    "hidden": true,
    "papermill": {
     "duration": 0.071082,
     "end_time": "2023-10-16T12:56:57.953698",
     "exception": false,
     "start_time": "2023-10-16T12:56:57.882616",
     "status": "completed"
    },
    "tags": []
   },
   "source": [
    "Here's the number of rows and columns we have for our independent variables:"
   ]
  },
  {
   "cell_type": "code",
   "execution_count": null,
   "id": "819d1b66",
   "metadata": {
    "execution": {
     "iopub.execute_input": "2023-10-16T12:56:58.099601Z",
     "iopub.status.busy": "2023-10-16T12:56:58.099155Z",
     "iopub.status.idle": "2023-10-16T12:56:58.103430Z",
     "shell.execute_reply": "2023-10-16T12:56:58.102950Z"
    },
    "hidden": true,
    "papermill": {
     "duration": 0.078609,
     "end_time": "2023-10-16T12:56:58.105194",
     "exception": false,
     "start_time": "2023-10-16T12:56:58.026585",
     "status": "completed"
    },
    "tags": []
   },
   "outputs": [],
   "source": [
    "print(t_indep.shape)"
   ]
  },
  {
   "cell_type": "markdown",
   "id": "95839806",
   "metadata": {
    "papermill": {
     "duration": 0.072295,
     "end_time": "2023-10-16T12:56:58.248334",
     "exception": false,
     "start_time": "2023-10-16T12:56:58.176039",
     "status": "completed"
    },
    "tags": []
   },
   "source": [
    "## Setting up a linear model"
   ]
  },
  {
   "cell_type": "markdown",
   "id": "eeb3c63a",
   "metadata": {
    "papermill": {
     "duration": 0.072964,
     "end_time": "2023-10-16T12:56:58.391367",
     "exception": false,
     "start_time": "2023-10-16T12:56:58.318403",
     "status": "completed"
    },
    "tags": []
   },
   "source": [
    "Now that we've got a matrix of independent variables and a dependent variable vector, we can work on calculating our predictions and our loss. In this section, we're going to manually do a single step of calculating predictions and loss for every row of our data.\n",
    "\n",
    "Our first model will be a simple linear model. We'll need a coefficient for each column in `t_indep`. We'll pick random numbers in the range `(-0.5,0.5)`, and set our manual seed so that my explanations in the prose in this notebook will be consistent with what you see when you run it."
   ]
  },
  {
   "cell_type": "code",
   "execution_count": null,
   "id": "e3a15b4e",
   "metadata": {
    "execution": {
     "iopub.execute_input": "2023-10-16T12:56:58.536102Z",
     "iopub.status.busy": "2023-10-16T12:56:58.535703Z",
     "iopub.status.idle": "2023-10-16T12:56:58.553137Z",
     "shell.execute_reply": "2023-10-16T12:56:58.552702Z"
    },
    "papermill": {
     "duration": 0.090899,
     "end_time": "2023-10-16T12:56:58.555084",
     "exception": false,
     "start_time": "2023-10-16T12:56:58.464185",
     "status": "completed"
    },
    "tags": []
   },
   "outputs": [],
   "source": [
    "torch.manual_seed(442)\n",
    "\n",
    "n_coeff = t_indep.shape[1]\n",
    "coeffs = torch.rand(n_coeff)-0.5\n",
    "print(coeffs)"
   ]
  },
  {
   "cell_type": "markdown",
   "id": "54f391ad",
   "metadata": {
    "papermill": {
     "duration": 0.071545,
     "end_time": "2023-10-16T12:56:58.700817",
     "exception": false,
     "start_time": "2023-10-16T12:56:58.629272",
     "status": "completed"
    },
    "tags": []
   },
   "source": [
    "Our predictions will be calculated by multiplying each row by the coefficients, and adding them up. One interesting point here is that we don't need a separate constant term (also known as a \"bias\" or \"intercept\" term), or a column of all `1`s to give the same effect has having a constant term. That's because our dummy variables already cover the entire dataset -- e.g. there's a column for \"male\" and a column for \"female\", and everyone in the dataset is in exactly one of these; therefore, we don't need a separate intercept term to cover rows that aren't otherwise part of a column.\n",
    "\n",
    "Here's what the multiplication looks like:"
   ]
  },
  {
   "cell_type": "code",
   "execution_count": null,
   "id": "3c38788e",
   "metadata": {
    "execution": {
     "iopub.execute_input": "2023-10-16T12:56:58.846795Z",
     "iopub.status.busy": "2023-10-16T12:56:58.846330Z",
     "iopub.status.idle": "2023-10-16T12:56:58.851535Z",
     "shell.execute_reply": "2023-10-16T12:56:58.850781Z"
    },
    "papermill": {
     "duration": 0.080683,
     "end_time": "2023-10-16T12:56:58.853511",
     "exception": false,
     "start_time": "2023-10-16T12:56:58.772828",
     "status": "completed"
    },
    "tags": []
   },
   "outputs": [],
   "source": [
    "t_indep*coeffs"
   ]
  },
  {
   "cell_type": "markdown",
   "id": "e2138597",
   "metadata": {
    "papermill": {
     "duration": 0.070391,
     "end_time": "2023-10-16T12:56:58.996096",
     "exception": false,
     "start_time": "2023-10-16T12:56:58.925705",
     "status": "completed"
    },
    "tags": []
   },
   "source": [
    "We can see we've got a problem here. The sums of each row will be dominated by the first column, which is `Age`, since that's bigger on average than all the others.\n",
    "\n",
    "Let's make all the columns contain numbers from `0` to `1`, by dividing each column by its `max()`:"
   ]
  },
  {
   "cell_type": "code",
   "execution_count": null,
   "id": "a941c4ab",
   "metadata": {
    "execution": {
     "iopub.execute_input": "2023-10-16T12:56:59.142507Z",
     "iopub.status.busy": "2023-10-16T12:56:59.142062Z",
     "iopub.status.idle": "2023-10-16T12:56:59.149758Z",
     "shell.execute_reply": "2023-10-16T12:56:59.148994Z"
    },
    "papermill": {
     "duration": 0.083317,
     "end_time": "2023-10-16T12:56:59.151902",
     "exception": false,
     "start_time": "2023-10-16T12:56:59.068585",
     "status": "completed"
    },
    "tags": []
   },
   "outputs": [],
   "source": [
    "vals,indices = t_indep.max(dim=0)\n",
    "t_indep = t_indep / vals"
   ]
  },
  {
   "cell_type": "markdown",
   "id": "7a64a8aa",
   "metadata": {
    "papermill": {
     "duration": 0.075386,
     "end_time": "2023-10-16T12:56:59.299737",
     "exception": false,
     "start_time": "2023-10-16T12:56:59.224351",
     "status": "completed"
    },
    "tags": []
   },
   "source": [
    "As we see, that removes the problem of one column dominating all the others:"
   ]
  },
  {
   "cell_type": "code",
   "execution_count": null,
   "id": "1f4a9393",
   "metadata": {
    "execution": {
     "iopub.execute_input": "2023-10-16T12:56:59.468124Z",
     "iopub.status.busy": "2023-10-16T12:56:59.467547Z",
     "iopub.status.idle": "2023-10-16T12:56:59.475090Z",
     "shell.execute_reply": "2023-10-16T12:56:59.473962Z"
    },
    "papermill": {
     "duration": 0.09998,
     "end_time": "2023-10-16T12:56:59.477779",
     "exception": false,
     "start_time": "2023-10-16T12:56:59.377799",
     "status": "completed"
    },
    "tags": []
   },
   "outputs": [],
   "source": [
    "t_indep*coeffs"
   ]
  },
  {
   "cell_type": "markdown",
   "id": "3f8ee6fa",
   "metadata": {
    "papermill": {
     "duration": 0.071789,
     "end_time": "2023-10-16T12:56:59.621372",
     "exception": false,
     "start_time": "2023-10-16T12:56:59.549583",
     "status": "completed"
    },
    "tags": []
   },
   "source": [
    "One thing you hopefully noticed is how amazingly cool this line of code is:\n",
    "\n",
    "    t_indep = t_indep / vals\n",
    "\n",
    "That is dividing a matrix by a vector -- what on earth does that mean?!? The trick here is that we're taking advantage of a technique in numpy and PyTorch (and many other languages, going all the way back to APL) called [broadcasting](https://numpy.org/doc/stable/user/basics.broadcasting.html). In short, this acts as if there's a separate copy of the vector for every row of the matrix, so it divides each row of the matrix by the vector. In practice, it doesn't actually make any copies, and does the whole thing in a highly optimized way, taking full advantage of modern CPUs (or, indeed, GPUs, if we're using them). Broadcasting is one of the most important techniques for making your code concise, maintainable, and fast, so it's well worth studying and practicing.\n",
    "\n",
    "We can now create predictions from our linear model, by adding up the rows of the product:"
   ]
  },
  {
   "cell_type": "code",
   "execution_count": null,
   "id": "bf903301",
   "metadata": {
    "execution": {
     "iopub.execute_input": "2023-10-16T12:56:59.768388Z",
     "iopub.status.busy": "2023-10-16T12:56:59.768075Z",
     "iopub.status.idle": "2023-10-16T12:56:59.776435Z",
     "shell.execute_reply": "2023-10-16T12:56:59.775507Z"
    },
    "papermill": {
     "duration": 0.084028,
     "end_time": "2023-10-16T12:56:59.778612",
     "exception": false,
     "start_time": "2023-10-16T12:56:59.694584",
     "status": "completed"
    },
    "tags": []
   },
   "outputs": [],
   "source": [
    "preds = (t_indep*coeffs).sum(axis=1)"
   ]
  },
  {
   "cell_type": "markdown",
   "id": "162cf142",
   "metadata": {
    "papermill": {
     "duration": 0.072446,
     "end_time": "2023-10-16T12:56:59.923667",
     "exception": false,
     "start_time": "2023-10-16T12:56:59.851221",
     "status": "completed"
    },
    "tags": []
   },
   "source": [
    "Let's take a look at the first few:"
   ]
  },
  {
   "cell_type": "code",
   "execution_count": null,
   "id": "4121c71b",
   "metadata": {
    "execution": {
     "iopub.execute_input": "2023-10-16T12:57:00.073407Z",
     "iopub.status.busy": "2023-10-16T12:57:00.072381Z",
     "iopub.status.idle": "2023-10-16T12:57:00.081775Z",
     "shell.execute_reply": "2023-10-16T12:57:00.080723Z"
    },
    "papermill": {
     "duration": 0.085618,
     "end_time": "2023-10-16T12:57:00.083789",
     "exception": false,
     "start_time": "2023-10-16T12:56:59.998171",
     "status": "completed"
    },
    "tags": []
   },
   "outputs": [],
   "source": [
    "print(preds[:10])"
   ]
  },
  {
   "cell_type": "markdown",
   "id": "3ba46cbb",
   "metadata": {
    "papermill": {
     "duration": 0.073753,
     "end_time": "2023-10-16T12:57:00.228880",
     "exception": false,
     "start_time": "2023-10-16T12:57:00.155127",
     "status": "completed"
    },
    "tags": []
   },
   "source": [
    "Of course, these predictions aren't going to be any use, since our coefficients are random -- they're just a starting point for our gradient descent process.\n",
    "\n",
    "To do gradient descent, we need a loss function. Taking the average error of the rows (i.e. the absolute value of the difference between the prediction and the dependent) is generally a reasonable approach:"
   ]
  },
  {
   "cell_type": "code",
   "execution_count": null,
   "id": "dc54cd5e",
   "metadata": {
    "execution": {
     "iopub.execute_input": "2023-10-16T12:57:00.380150Z",
     "iopub.status.busy": "2023-10-16T12:57:00.379775Z",
     "iopub.status.idle": "2023-10-16T12:57:00.391050Z",
     "shell.execute_reply": "2023-10-16T12:57:00.390440Z"
    },
    "papermill": {
     "duration": 0.090763,
     "end_time": "2023-10-16T12:57:00.393337",
     "exception": false,
     "start_time": "2023-10-16T12:57:00.302574",
     "status": "completed"
    },
    "tags": []
   },
   "outputs": [],
   "source": [
    "loss = torch.abs(preds-t_dep).mean()\n",
    "loss"
   ]
  },
  {
   "cell_type": "markdown",
   "id": "5f0fb8c1",
   "metadata": {
    "papermill": {
     "duration": 0.071272,
     "end_time": "2023-10-16T12:57:00.539378",
     "exception": false,
     "start_time": "2023-10-16T12:57:00.468106",
     "status": "completed"
    },
    "tags": []
   },
   "source": [
    "Now that we've tested out a way of calculating predictions, and loss, let's pop them into functions to make life easier:"
   ]
  },
  {
   "cell_type": "code",
   "execution_count": null,
   "id": "dce60733",
   "metadata": {
    "execution": {
     "iopub.execute_input": "2023-10-16T12:57:00.691515Z",
     "iopub.status.busy": "2023-10-16T12:57:00.690848Z",
     "iopub.status.idle": "2023-10-16T12:57:00.695859Z",
     "shell.execute_reply": "2023-10-16T12:57:00.694832Z"
    },
    "papermill": {
     "duration": 0.082099,
     "end_time": "2023-10-16T12:57:00.698054",
     "exception": false,
     "start_time": "2023-10-16T12:57:00.615955",
     "status": "completed"
    },
    "tags": []
   },
   "outputs": [],
   "source": [
    "def calc_preds(coeffs, indeps): return (indeps*coeffs).sum(axis=1)\n",
    "def calc_loss(coeffs, indeps, deps): return torch.abs(calc_preds(coeffs, indeps)-deps).mean()"
   ]
  },
  {
   "cell_type": "markdown",
   "id": "c200d6fa",
   "metadata": {
    "papermill": {
     "duration": 0.075325,
     "end_time": "2023-10-16T12:57:00.855051",
     "exception": false,
     "start_time": "2023-10-16T12:57:00.779726",
     "status": "completed"
    },
    "tags": []
   },
   "source": [
    "## Doing a gradient descent step"
   ]
  },
  {
   "cell_type": "markdown",
   "id": "e735a52c",
   "metadata": {
    "papermill": {
     "duration": 0.073034,
     "end_time": "2023-10-16T12:57:01.001620",
     "exception": false,
     "start_time": "2023-10-16T12:57:00.928586",
     "status": "completed"
    },
    "tags": []
   },
   "source": [
    "In this section, we're going to do a single \"epoch\" of gradient descent manually. The only thing we're going to automate is calculating gradients, because let's face it that's pretty tedious and entirely pointless to do by hand! To get PyTorch to calculate gradients, we'll need to call `requires_grad_()` on our `coeffs` (if you're not sure why, review the previous notebook, [How does a neural net really work?](https://www.kaggle.com/code/jhoward/how-does-a-neural-net-really-work), before continuing):"
   ]
  },
  {
   "cell_type": "code",
   "execution_count": null,
   "id": "a9ab6a7a",
   "metadata": {
    "execution": {
     "iopub.execute_input": "2023-10-16T12:57:01.151601Z",
     "iopub.status.busy": "2023-10-16T12:57:01.151360Z",
     "iopub.status.idle": "2023-10-16T12:57:01.157406Z",
     "shell.execute_reply": "2023-10-16T12:57:01.156850Z"
    },
    "papermill": {
     "duration": 0.083364,
     "end_time": "2023-10-16T12:57:01.158949",
     "exception": false,
     "start_time": "2023-10-16T12:57:01.075585",
     "status": "completed"
    },
    "tags": []
   },
   "outputs": [],
   "source": [
    "print(coeffs.requires_grad_())"
   ]
  },
  {
   "cell_type": "markdown",
   "id": "da433fb5",
   "metadata": {
    "papermill": {
     "duration": 0.074275,
     "end_time": "2023-10-16T12:57:01.309767",
     "exception": false,
     "start_time": "2023-10-16T12:57:01.235492",
     "status": "completed"
    },
    "tags": []
   },
   "source": [
    "Now when we calculate our loss, PyTorch will keep track of all the steps, so we'll be able to get the gradients afterwards:"
   ]
  },
  {
   "cell_type": "code",
   "execution_count": null,
   "id": "6a0aa9ea",
   "metadata": {
    "execution": {
     "iopub.execute_input": "2023-10-16T12:57:01.459747Z",
     "iopub.status.busy": "2023-10-16T12:57:01.458512Z",
     "iopub.status.idle": "2023-10-16T12:57:01.465751Z",
     "shell.execute_reply": "2023-10-16T12:57:01.464958Z"
    },
    "papermill": {
     "duration": 0.084022,
     "end_time": "2023-10-16T12:57:01.467987",
     "exception": false,
     "start_time": "2023-10-16T12:57:01.383965",
     "status": "completed"
    },
    "tags": []
   },
   "outputs": [],
   "source": [
    "loss = calc_loss(coeffs, t_indep, t_dep)\n",
    "print(loss)"
   ]
  },
  {
   "cell_type": "markdown",
   "id": "06b9297d",
   "metadata": {
    "papermill": {
     "duration": 0.072165,
     "end_time": "2023-10-16T12:57:01.614758",
     "exception": false,
     "start_time": "2023-10-16T12:57:01.542593",
     "status": "completed"
    },
    "tags": []
   },
   "source": [
    "Use `backward()` to ask PyTorch to calculate gradients now:"
   ]
  },
  {
   "cell_type": "code",
   "execution_count": null,
   "id": "ff342e64",
   "metadata": {
    "execution": {
     "iopub.execute_input": "2023-10-16T12:57:01.764373Z",
     "iopub.status.busy": "2023-10-16T12:57:01.763906Z",
     "iopub.status.idle": "2023-10-16T12:57:01.779010Z",
     "shell.execute_reply": "2023-10-16T12:57:01.778146Z"
    },
    "papermill": {
     "duration": 0.092572,
     "end_time": "2023-10-16T12:57:01.780990",
     "exception": false,
     "start_time": "2023-10-16T12:57:01.688418",
     "status": "completed"
    },
    "tags": []
   },
   "outputs": [],
   "source": [
    "loss.backward()"
   ]
  },
  {
   "cell_type": "markdown",
   "id": "d2d38e90",
   "metadata": {
    "papermill": {
     "duration": 0.072686,
     "end_time": "2023-10-16T12:57:01.927557",
     "exception": false,
     "start_time": "2023-10-16T12:57:01.854871",
     "status": "completed"
    },
    "tags": []
   },
   "source": [
    "Let's see what they look like:"
   ]
  },
  {
   "cell_type": "code",
   "execution_count": null,
   "id": "0e8667f2",
   "metadata": {
    "execution": {
     "iopub.execute_input": "2023-10-16T12:57:02.076863Z",
     "iopub.status.busy": "2023-10-16T12:57:02.076174Z",
     "iopub.status.idle": "2023-10-16T12:57:02.081176Z",
     "shell.execute_reply": "2023-10-16T12:57:02.080412Z"
    },
    "papermill": {
     "duration": 0.080889,
     "end_time": "2023-10-16T12:57:02.082515",
     "exception": false,
     "start_time": "2023-10-16T12:57:02.001626",
     "status": "completed"
    },
    "tags": []
   },
   "outputs": [],
   "source": [
    "print(coeffs.grad)"
   ]
  },
  {
   "cell_type": "markdown",
   "id": "076dd435",
   "metadata": {
    "papermill": {
     "duration": 0.071902,
     "end_time": "2023-10-16T12:57:02.229282",
     "exception": false,
     "start_time": "2023-10-16T12:57:02.157380",
     "status": "completed"
    },
    "tags": []
   },
   "source": [
    "Note that each time we call `backward`, the gradients are actually *added* to whatever is in the `.grad` attribute. Let's try running the above steps again:"
   ]
  },
  {
   "cell_type": "code",
   "execution_count": null,
   "id": "090aa759",
   "metadata": {
    "execution": {
     "iopub.execute_input": "2023-10-16T12:57:02.380432Z",
     "iopub.status.busy": "2023-10-16T12:57:02.380015Z",
     "iopub.status.idle": "2023-10-16T12:57:02.387689Z",
     "shell.execute_reply": "2023-10-16T12:57:02.387108Z"
    },
    "papermill": {
     "duration": 0.086694,
     "end_time": "2023-10-16T12:57:02.389199",
     "exception": false,
     "start_time": "2023-10-16T12:57:02.302505",
     "status": "completed"
    },
    "tags": []
   },
   "outputs": [],
   "source": [
    "loss = calc_loss(coeffs, t_indep, t_dep)\n",
    "loss.backward()\n",
    "print(coeffs.grad)"
   ]
  },
  {
   "cell_type": "markdown",
   "id": "08d10ed5",
   "metadata": {
    "papermill": {
     "duration": 0.074078,
     "end_time": "2023-10-16T12:57:02.544110",
     "exception": false,
     "start_time": "2023-10-16T12:57:02.470032",
     "status": "completed"
    },
    "tags": []
   },
   "source": [
    "As you see, our `.grad` values are have doubled. That's because it added the gradients a second time. For this reason, after we use the gradients to do a gradient descent step, we need to set them back to zero.\n",
    "\n",
    "We can now do one gradient descent step, and check that our loss decreases:"
   ]
  },
  {
   "cell_type": "code",
   "execution_count": null,
   "id": "3b1065e0",
   "metadata": {
    "execution": {
     "iopub.execute_input": "2023-10-16T12:57:02.694013Z",
     "iopub.status.busy": "2023-10-16T12:57:02.693719Z",
     "iopub.status.idle": "2023-10-16T12:57:02.699157Z",
     "shell.execute_reply": "2023-10-16T12:57:02.698711Z"
    },
    "papermill": {
     "duration": 0.082088,
     "end_time": "2023-10-16T12:57:02.700874",
     "exception": false,
     "start_time": "2023-10-16T12:57:02.618786",
     "status": "completed"
    },
    "tags": []
   },
   "outputs": [],
   "source": [
    "loss = calc_loss(coeffs, t_indep, t_dep)\n",
    "loss.backward()\n",
    "with torch.no_grad():\n",
    "    coeffs.sub_(coeffs.grad * 0.1)\n",
    "    coeffs.grad.zero_()\n",
    "    print(calc_loss(coeffs, t_indep, t_dep))"
   ]
  },
  {
   "cell_type": "markdown",
   "id": "bf7baca3",
   "metadata": {
    "papermill": {
     "duration": 0.073343,
     "end_time": "2023-10-16T12:57:02.849802",
     "exception": false,
     "start_time": "2023-10-16T12:57:02.776459",
     "status": "completed"
    },
    "tags": []
   },
   "source": [
    "Note that `a.sub_(b)` subtracts `b` from `a` in-place. In PyTorch, any method that ends in `_` changes its object in-place. Similarly, `a.zero_()` sets all elements of a tensor to zero."
   ]
  },
  {
   "cell_type": "markdown",
   "id": "e392a6b4",
   "metadata": {
    "papermill": {
     "duration": 0.07535,
     "end_time": "2023-10-16T12:57:02.999794",
     "exception": false,
     "start_time": "2023-10-16T12:57:02.924444",
     "status": "completed"
    },
    "tags": []
   },
   "source": [
    "## Training the linear model"
   ]
  },
  {
   "cell_type": "markdown",
   "id": "8ae147e1",
   "metadata": {
    "papermill": {
     "duration": 0.073984,
     "end_time": "2023-10-16T12:57:03.153483",
     "exception": false,
     "start_time": "2023-10-16T12:57:03.079499",
     "status": "completed"
    },
    "tags": []
   },
   "source": [
    "Before we begin training our model, we'll need to ensure that we hold out a validation set for calculating our metrics (for details on this, see \"[Getting started with NLP for absolute beginners](https://www.kaggle.com/code/jhoward/getting-started-with-nlp-for-absolute-beginners#Test-and-validation-sets)\".\n",
    "\n",
    "There's lots of different ways we can do this. In the next notebook we'll be comparing our approach here to what the fastai library does, so we'll want to ensure we split the data in the same way. So let's use `RandomSplitter` to get indices that will split our data into training and validation sets:"
   ]
  },
  {
   "cell_type": "code",
   "execution_count": null,
   "id": "a6d3fff2",
   "metadata": {
    "execution": {
     "iopub.execute_input": "2023-10-16T12:57:03.303921Z",
     "iopub.status.busy": "2023-10-16T12:57:03.303692Z",
     "iopub.status.idle": "2023-10-16T12:57:04.568213Z",
     "shell.execute_reply": "2023-10-16T12:57:04.566690Z"
    },
    "papermill": {
     "duration": 1.342746,
     "end_time": "2023-10-16T12:57:04.570294",
     "exception": false,
     "start_time": "2023-10-16T12:57:03.227548",
     "status": "completed"
    },
    "tags": []
   },
   "outputs": [],
   "source": [
    "from fastai.data.transforms import RandomSplitter\n",
    "trn_split,val_split=RandomSplitter(seed=42)(df)"
   ]
  },
  {
   "cell_type": "markdown",
   "id": "c02b975e",
   "metadata": {
    "papermill": {
     "duration": 0.073616,
     "end_time": "2023-10-16T12:57:04.720005",
     "exception": false,
     "start_time": "2023-10-16T12:57:04.646389",
     "status": "completed"
    },
    "tags": []
   },
   "source": [
    "Now we can apply those indicies to our independent and dependent variables:"
   ]
  },
  {
   "cell_type": "code",
   "execution_count": null,
   "id": "2b87e4d0",
   "metadata": {
    "execution": {
     "iopub.execute_input": "2023-10-16T12:57:04.869983Z",
     "iopub.status.busy": "2023-10-16T12:57:04.869555Z",
     "iopub.status.idle": "2023-10-16T12:57:04.876939Z",
     "shell.execute_reply": "2023-10-16T12:57:04.875775Z"
    },
    "papermill": {
     "duration": 0.084266,
     "end_time": "2023-10-16T12:57:04.878572",
     "exception": false,
     "start_time": "2023-10-16T12:57:04.794306",
     "status": "completed"
    },
    "tags": []
   },
   "outputs": [],
   "source": [
    "trn_indep,val_indep = t_indep[trn_split],t_indep[val_split]\n",
    "trn_dep,val_dep = t_dep[trn_split],t_dep[val_split]\n",
    "len(trn_indep),len(val_indep)"
   ]
  },
  {
   "cell_type": "markdown",
   "id": "534c4a9a",
   "metadata": {
    "papermill": {
     "duration": 0.074759,
     "end_time": "2023-10-16T12:57:05.028338",
     "exception": false,
     "start_time": "2023-10-16T12:57:04.953579",
     "status": "completed"
    },
    "tags": []
   },
   "source": [
    "We'll create functions for the three things we did manually above: updating `coeffs`, doing one full gradient descent step, and initilising `coeffs` to random numbers:"
   ]
  },
  {
   "cell_type": "code",
   "execution_count": null,
   "id": "d5a63713",
   "metadata": {
    "execution": {
     "iopub.execute_input": "2023-10-16T12:57:05.177433Z",
     "iopub.status.busy": "2023-10-16T12:57:05.176975Z",
     "iopub.status.idle": "2023-10-16T12:57:05.180178Z",
     "shell.execute_reply": "2023-10-16T12:57:05.179737Z"
    },
    "papermill": {
     "duration": 0.0817,
     "end_time": "2023-10-16T12:57:05.182241",
     "exception": false,
     "start_time": "2023-10-16T12:57:05.100541",
     "status": "completed"
    },
    "tags": []
   },
   "outputs": [],
   "source": [
    "def update_coeffs(coeffs, lr):\n",
    "    coeffs.sub_(coeffs.grad * lr)\n",
    "    coeffs.grad.zero_()"
   ]
  },
  {
   "cell_type": "code",
   "execution_count": null,
   "id": "01eb6af3",
   "metadata": {
    "execution": {
     "iopub.execute_input": "2023-10-16T12:57:05.330562Z",
     "iopub.status.busy": "2023-10-16T12:57:05.330160Z",
     "iopub.status.idle": "2023-10-16T12:57:05.333540Z",
     "shell.execute_reply": "2023-10-16T12:57:05.333110Z"
    },
    "papermill": {
     "duration": 0.079791,
     "end_time": "2023-10-16T12:57:05.335004",
     "exception": false,
     "start_time": "2023-10-16T12:57:05.255213",
     "status": "completed"
    },
    "tags": []
   },
   "outputs": [],
   "source": [
    "def one_epoch(coeffs, lr):\n",
    "    loss = calc_loss(coeffs, trn_indep, trn_dep)\n",
    "    loss.backward()\n",
    "    with torch.no_grad(): update_coeffs(coeffs, lr)\n",
    "    print(f\"{loss:.3f}\", end=\"; \")"
   ]
  },
  {
   "cell_type": "code",
   "execution_count": null,
   "id": "221b0a43",
   "metadata": {
    "execution": {
     "iopub.execute_input": "2023-10-16T12:57:05.489454Z",
     "iopub.status.busy": "2023-10-16T12:57:05.489179Z",
     "iopub.status.idle": "2023-10-16T12:57:05.492947Z",
     "shell.execute_reply": "2023-10-16T12:57:05.492321Z"
    },
    "papermill": {
     "duration": 0.083112,
     "end_time": "2023-10-16T12:57:05.494342",
     "exception": false,
     "start_time": "2023-10-16T12:57:05.411230",
     "status": "completed"
    },
    "tags": []
   },
   "outputs": [],
   "source": [
    "def init_coeffs(): return (torch.rand(n_coeff)-0.5).requires_grad_()"
   ]
  },
  {
   "cell_type": "markdown",
   "id": "228e2ca6",
   "metadata": {
    "papermill": {
     "duration": 0.07941,
     "end_time": "2023-10-16T12:57:05.652349",
     "exception": false,
     "start_time": "2023-10-16T12:57:05.572939",
     "status": "completed"
    },
    "tags": []
   },
   "source": [
    "We can now use these functions to train our model:"
   ]
  },
  {
   "cell_type": "code",
   "execution_count": null,
   "id": "f585d31c",
   "metadata": {
    "execution": {
     "iopub.execute_input": "2023-10-16T12:57:05.804090Z",
     "iopub.status.busy": "2023-10-16T12:57:05.803808Z",
     "iopub.status.idle": "2023-10-16T12:57:05.808551Z",
     "shell.execute_reply": "2023-10-16T12:57:05.807536Z"
    },
    "papermill": {
     "duration": 0.082748,
     "end_time": "2023-10-16T12:57:05.809978",
     "exception": false,
     "start_time": "2023-10-16T12:57:05.727230",
     "status": "completed"
    },
    "tags": []
   },
   "outputs": [],
   "source": [
    "def train_model(epochs=30, lr=0.01):\n",
    "    torch.manual_seed(442)\n",
    "    coeffs = init_coeffs()\n",
    "    for i in range(epochs): one_epoch(coeffs, lr=lr)\n",
    "    return coeffs"
   ]
  },
  {
   "cell_type": "markdown",
   "id": "6f12d9cc",
   "metadata": {
    "papermill": {
     "duration": 0.076527,
     "end_time": "2023-10-16T12:57:05.961623",
     "exception": false,
     "start_time": "2023-10-16T12:57:05.885096",
     "status": "completed"
    },
    "tags": []
   },
   "source": [
    "Let's try it. Our loss will print at the end of every step, so we hope we'll see it going down:"
   ]
  },
  {
   "cell_type": "code",
   "execution_count": null,
   "id": "0b2c644d",
   "metadata": {
    "execution": {
     "iopub.execute_input": "2023-10-16T12:57:06.113225Z",
     "iopub.status.busy": "2023-10-16T12:57:06.112907Z",
     "iopub.status.idle": "2023-10-16T12:57:06.127205Z",
     "shell.execute_reply": "2023-10-16T12:57:06.126029Z"
    },
    "papermill": {
     "duration": 0.092624,
     "end_time": "2023-10-16T12:57:06.129178",
     "exception": false,
     "start_time": "2023-10-16T12:57:06.036554",
     "status": "completed"
    },
    "tags": []
   },
   "outputs": [],
   "source": [
    "coeffs = train_model(18, lr=0.2)"
   ]
  },
  {
   "cell_type": "markdown",
   "id": "e633979d",
   "metadata": {
    "papermill": {
     "duration": 0.075186,
     "end_time": "2023-10-16T12:57:06.280178",
     "exception": false,
     "start_time": "2023-10-16T12:57:06.204992",
     "status": "completed"
    },
    "tags": []
   },
   "source": [
    "It does!\n",
    "\n",
    "Let's take a look at the coefficients for each column:"
   ]
  },
  {
   "cell_type": "code",
   "execution_count": null,
   "id": "f0452167",
   "metadata": {
    "execution": {
     "iopub.execute_input": "2023-10-16T12:57:06.435489Z",
     "iopub.status.busy": "2023-10-16T12:57:06.435241Z",
     "iopub.status.idle": "2023-10-16T12:57:06.442693Z",
     "shell.execute_reply": "2023-10-16T12:57:06.442201Z"
    },
    "papermill": {
     "duration": 0.088251,
     "end_time": "2023-10-16T12:57:06.444120",
     "exception": false,
     "start_time": "2023-10-16T12:57:06.355869",
     "status": "completed"
    },
    "tags": []
   },
   "outputs": [],
   "source": [
    "def show_coeffs(): return dict(zip(indep_cols, coeffs.requires_grad_(False)))\n",
    "show_coeffs()"
   ]
  },
  {
   "cell_type": "markdown",
   "id": "695e6e50",
   "metadata": {
    "papermill": {
     "duration": 0.07612,
     "end_time": "2023-10-16T12:57:06.597184",
     "exception": false,
     "start_time": "2023-10-16T12:57:06.521064",
     "status": "completed"
    },
    "tags": []
   },
   "source": [
    "## Measuring accuracy"
   ]
  },
  {
   "cell_type": "markdown",
   "id": "6cf9b471",
   "metadata": {
    "papermill": {
     "duration": 0.075718,
     "end_time": "2023-10-16T12:57:06.749212",
     "exception": false,
     "start_time": "2023-10-16T12:57:06.673494",
     "status": "completed"
    },
    "tags": []
   },
   "source": [
    "The Kaggle competition is not, however, scored by absolute error (which is our loss function). It's scored by *accuracy* -- the proportion of rows where we correctly predict survival. Let's see how accurate we were on the validation set. First, calculate the predictions:"
   ]
  },
  {
   "cell_type": "code",
   "execution_count": null,
   "id": "63c75f98",
   "metadata": {
    "execution": {
     "iopub.execute_input": "2023-10-16T12:57:06.902474Z",
     "iopub.status.busy": "2023-10-16T12:57:06.902229Z",
     "iopub.status.idle": "2023-10-16T12:57:06.906412Z",
     "shell.execute_reply": "2023-10-16T12:57:06.905395Z"
    },
    "papermill": {
     "duration": 0.083232,
     "end_time": "2023-10-16T12:57:06.907925",
     "exception": false,
     "start_time": "2023-10-16T12:57:06.824693",
     "status": "completed"
    },
    "tags": []
   },
   "outputs": [],
   "source": [
    "preds = calc_preds(coeffs, val_indep)"
   ]
  },
  {
   "cell_type": "markdown",
   "id": "0c210ff8",
   "metadata": {
    "papermill": {
     "duration": 0.075475,
     "end_time": "2023-10-16T12:57:07.058173",
     "exception": false,
     "start_time": "2023-10-16T12:57:06.982698",
     "status": "completed"
    },
    "tags": []
   },
   "source": [
    "We'll assume that any passenger with a score of over `0.5` is predicted to survive. So that means we're correct for each row where `preds>0.5` is the same as the dependent variable:"
   ]
  },
  {
   "cell_type": "code",
   "execution_count": null,
   "id": "5dd3f36b",
   "metadata": {
    "execution": {
     "iopub.execute_input": "2023-10-16T12:57:07.210008Z",
     "iopub.status.busy": "2023-10-16T12:57:07.209739Z",
     "iopub.status.idle": "2023-10-16T12:57:07.215662Z",
     "shell.execute_reply": "2023-10-16T12:57:07.214718Z"
    },
    "papermill": {
     "duration": 0.083944,
     "end_time": "2023-10-16T12:57:07.217688",
     "exception": false,
     "start_time": "2023-10-16T12:57:07.133744",
     "status": "completed"
    },
    "tags": []
   },
   "outputs": [],
   "source": [
    "results = val_dep.bool()==(preds>0.5)\n",
    "results[:16]"
   ]
  },
  {
   "cell_type": "markdown",
   "id": "71f15364",
   "metadata": {
    "papermill": {
     "duration": 0.074717,
     "end_time": "2023-10-16T12:57:07.368546",
     "exception": false,
     "start_time": "2023-10-16T12:57:07.293829",
     "status": "completed"
    },
    "tags": []
   },
   "source": [
    "Let's see what our average accuracy is:"
   ]
  },
  {
   "cell_type": "code",
   "execution_count": null,
   "id": "789b74ab",
   "metadata": {
    "execution": {
     "iopub.execute_input": "2023-10-16T12:57:07.522316Z",
     "iopub.status.busy": "2023-10-16T12:57:07.522070Z",
     "iopub.status.idle": "2023-10-16T12:57:07.526950Z",
     "shell.execute_reply": "2023-10-16T12:57:07.526159Z"
    },
    "papermill": {
     "duration": 0.082419,
     "end_time": "2023-10-16T12:57:07.528158",
     "exception": false,
     "start_time": "2023-10-16T12:57:07.445739",
     "status": "completed"
    },
    "tags": []
   },
   "outputs": [],
   "source": [
    "results.float().mean()"
   ]
  },
  {
   "cell_type": "markdown",
   "id": "51e90584",
   "metadata": {
    "papermill": {
     "duration": 0.075032,
     "end_time": "2023-10-16T12:57:07.678529",
     "exception": false,
     "start_time": "2023-10-16T12:57:07.603497",
     "status": "completed"
    },
    "tags": []
   },
   "source": [
    "That's not a bad start at all! We'll create a function so we can calcuate the accuracy easy for other models we train:"
   ]
  },
  {
   "cell_type": "code",
   "execution_count": null,
   "id": "bec49cfa",
   "metadata": {
    "execution": {
     "iopub.execute_input": "2023-10-16T12:57:07.832012Z",
     "iopub.status.busy": "2023-10-16T12:57:07.831510Z",
     "iopub.status.idle": "2023-10-16T12:57:07.837354Z",
     "shell.execute_reply": "2023-10-16T12:57:07.836878Z"
    },
    "papermill": {
     "duration": 0.083549,
     "end_time": "2023-10-16T12:57:07.838639",
     "exception": false,
     "start_time": "2023-10-16T12:57:07.755090",
     "status": "completed"
    },
    "tags": []
   },
   "outputs": [],
   "source": [
    "def acc(coeffs): return (val_dep.bool()==(calc_preds(coeffs, val_indep)>0.5)).float().mean()\n",
    "acc(coeffs)"
   ]
  },
  {
   "cell_type": "markdown",
   "id": "7d162561",
   "metadata": {
    "papermill": {
     "duration": 0.075525,
     "end_time": "2023-10-16T12:57:07.989797",
     "exception": false,
     "start_time": "2023-10-16T12:57:07.914272",
     "status": "completed"
    },
    "tags": []
   },
   "source": [
    "## Using sigmoid"
   ]
  },
  {
   "cell_type": "markdown",
   "id": "91119390",
   "metadata": {
    "papermill": {
     "duration": 0.075602,
     "end_time": "2023-10-16T12:57:08.141777",
     "exception": false,
     "start_time": "2023-10-16T12:57:08.066175",
     "status": "completed"
    },
    "tags": []
   },
   "source": [
    "Looking at our predictions, there's one obvious problem -- some of our predictions of the probability of survival are `>1`, and some are `<0`:"
   ]
  },
  {
   "cell_type": "code",
   "execution_count": null,
   "id": "558560b1",
   "metadata": {
    "execution": {
     "iopub.execute_input": "2023-10-16T12:57:08.293512Z",
     "iopub.status.busy": "2023-10-16T12:57:08.292810Z",
     "iopub.status.idle": "2023-10-16T12:57:08.300217Z",
     "shell.execute_reply": "2023-10-16T12:57:08.299190Z"
    },
    "papermill": {
     "duration": 0.084668,
     "end_time": "2023-10-16T12:57:08.301989",
     "exception": false,
     "start_time": "2023-10-16T12:57:08.217321",
     "status": "completed"
    },
    "tags": []
   },
   "outputs": [],
   "source": [
    "preds[:28]"
   ]
  },
  {
   "cell_type": "markdown",
   "id": "57a9a07b",
   "metadata": {
    "papermill": {
     "duration": 0.076253,
     "end_time": "2023-10-16T12:57:08.456323",
     "exception": false,
     "start_time": "2023-10-16T12:57:08.380070",
     "status": "completed"
    },
    "tags": []
   },
   "source": [
    "To fix this, we should pass every prediction through the *sigmoid function*, which has a minimum at zero and maximum at one, and is defined as follows:"
   ]
  },
  {
   "cell_type": "code",
   "execution_count": null,
   "id": "3e54f935",
   "metadata": {
    "execution": {
     "iopub.execute_input": "2023-10-16T12:57:08.608197Z",
     "iopub.status.busy": "2023-10-16T12:57:08.607195Z",
     "iopub.status.idle": "2023-10-16T12:57:09.671555Z",
     "shell.execute_reply": "2023-10-16T12:57:09.670702Z"
    },
    "papermill": {
     "duration": 1.142317,
     "end_time": "2023-10-16T12:57:09.673620",
     "exception": false,
     "start_time": "2023-10-16T12:57:08.531303",
     "status": "completed"
    },
    "tags": []
   },
   "outputs": [],
   "source": [
    "import sympy\n",
    "sympy.plot(\"1/(1+exp(-x))\", xlim=(-5,5));"
   ]
  },
  {
   "cell_type": "markdown",
   "id": "269df8e6",
   "metadata": {
    "papermill": {
     "duration": 0.075184,
     "end_time": "2023-10-16T12:57:09.845966",
     "exception": false,
     "start_time": "2023-10-16T12:57:09.770782",
     "status": "completed"
    },
    "tags": []
   },
   "source": [
    "PyTorch already defines that function for us, so we can modify `calc_preds` to use it:"
   ]
  },
  {
   "cell_type": "code",
   "execution_count": null,
   "id": "c22cf3bb",
   "metadata": {
    "execution": {
     "iopub.execute_input": "2023-10-16T12:57:10.001115Z",
     "iopub.status.busy": "2023-10-16T12:57:10.000684Z",
     "iopub.status.idle": "2023-10-16T12:57:10.005047Z",
     "shell.execute_reply": "2023-10-16T12:57:10.004048Z"
    },
    "papermill": {
     "duration": 0.082787,
     "end_time": "2023-10-16T12:57:10.007107",
     "exception": false,
     "start_time": "2023-10-16T12:57:09.924320",
     "status": "completed"
    },
    "tags": []
   },
   "outputs": [],
   "source": [
    "def calc_preds(coeffs, indeps): return torch.sigmoid((indeps*coeffs).sum(axis=1))"
   ]
  },
  {
   "cell_type": "markdown",
   "id": "66d4fee1",
   "metadata": {
    "papermill": {
     "duration": 0.076938,
     "end_time": "2023-10-16T12:57:10.159238",
     "exception": false,
     "start_time": "2023-10-16T12:57:10.082300",
     "status": "completed"
    },
    "tags": []
   },
   "source": [
    "Let's train a new model now, using this updated function to calculate predictions:"
   ]
  },
  {
   "cell_type": "code",
   "execution_count": null,
   "id": "04d9b45a",
   "metadata": {
    "execution": {
     "iopub.execute_input": "2023-10-16T12:57:10.313573Z",
     "iopub.status.busy": "2023-10-16T12:57:10.313297Z",
     "iopub.status.idle": "2023-10-16T12:57:10.339272Z",
     "shell.execute_reply": "2023-10-16T12:57:10.338489Z"
    },
    "papermill": {
     "duration": 0.10703,
     "end_time": "2023-10-16T12:57:10.341364",
     "exception": false,
     "start_time": "2023-10-16T12:57:10.234334",
     "status": "completed"
    },
    "tags": []
   },
   "outputs": [],
   "source": [
    "coeffs = train_model(lr=100)"
   ]
  },
  {
   "cell_type": "markdown",
   "id": "bedd40fe",
   "metadata": {
    "papermill": {
     "duration": 0.076104,
     "end_time": "2023-10-16T12:57:10.502406",
     "exception": false,
     "start_time": "2023-10-16T12:57:10.426302",
     "status": "completed"
    },
    "tags": []
   },
   "source": [
    "The loss has improved by a lot. Let's check the accuracy:"
   ]
  },
  {
   "cell_type": "code",
   "execution_count": null,
   "id": "760630b6",
   "metadata": {
    "execution": {
     "iopub.execute_input": "2023-10-16T12:57:10.658210Z",
     "iopub.status.busy": "2023-10-16T12:57:10.657994Z",
     "iopub.status.idle": "2023-10-16T12:57:10.662131Z",
     "shell.execute_reply": "2023-10-16T12:57:10.661708Z"
    },
    "papermill": {
     "duration": 0.082947,
     "end_time": "2023-10-16T12:57:10.663314",
     "exception": false,
     "start_time": "2023-10-16T12:57:10.580367",
     "status": "completed"
    },
    "tags": []
   },
   "outputs": [],
   "source": [
    "acc(coeffs)"
   ]
  },
  {
   "cell_type": "markdown",
   "id": "7631ed0d",
   "metadata": {
    "papermill": {
     "duration": 0.08228,
     "end_time": "2023-10-16T12:57:10.826510",
     "exception": false,
     "start_time": "2023-10-16T12:57:10.744230",
     "status": "completed"
    },
    "tags": []
   },
   "source": [
    "That's improved too! Here's the coefficients of our trained model:"
   ]
  },
  {
   "cell_type": "code",
   "execution_count": null,
   "id": "1d8c9896",
   "metadata": {
    "execution": {
     "iopub.execute_input": "2023-10-16T12:57:10.993276Z",
     "iopub.status.busy": "2023-10-16T12:57:10.993003Z",
     "iopub.status.idle": "2023-10-16T12:57:11.000642Z",
     "shell.execute_reply": "2023-10-16T12:57:10.999819Z"
    },
    "papermill": {
     "duration": 0.091305,
     "end_time": "2023-10-16T12:57:11.002783",
     "exception": false,
     "start_time": "2023-10-16T12:57:10.911478",
     "status": "completed"
    },
    "tags": []
   },
   "outputs": [],
   "source": [
    "show_coeffs()"
   ]
  },
  {
   "cell_type": "markdown",
   "id": "027e41f5",
   "metadata": {
    "papermill": {
     "duration": 0.076819,
     "end_time": "2023-10-16T12:57:11.156927",
     "exception": false,
     "start_time": "2023-10-16T12:57:11.080108",
     "status": "completed"
    },
    "tags": []
   },
   "source": [
    "These coefficients seem reasonable -- in general, older people and males were less likely to survive, and first class passengers were more likely to survive."
   ]
  },
  {
   "cell_type": "markdown",
   "id": "f5b9567f",
   "metadata": {
    "papermill": {
     "duration": 0.110875,
     "end_time": "2023-10-16T12:57:11.346216",
     "exception": false,
     "start_time": "2023-10-16T12:57:11.235341",
     "status": "completed"
    },
    "tags": []
   },
   "source": [
    "## Submitting to Kaggle"
   ]
  },
  {
   "cell_type": "markdown",
   "id": "c330d6ee",
   "metadata": {
    "papermill": {
     "duration": 0.077519,
     "end_time": "2023-10-16T12:57:11.502008",
     "exception": false,
     "start_time": "2023-10-16T12:57:11.424489",
     "status": "completed"
    },
    "tags": []
   },
   "source": [
    "Now that we've got a trained model, we can prepare a submission to Kaggle. To do that, first we need to read the test set:"
   ]
  },
  {
   "cell_type": "code",
   "execution_count": null,
   "id": "660ce663",
   "metadata": {
    "execution": {
     "iopub.execute_input": "2023-10-16T12:57:11.661043Z",
     "iopub.status.busy": "2023-10-16T12:57:11.660754Z",
     "iopub.status.idle": "2023-10-16T12:57:11.672712Z",
     "shell.execute_reply": "2023-10-16T12:57:11.671542Z"
    },
    "papermill": {
     "duration": 0.093489,
     "end_time": "2023-10-16T12:57:11.675559",
     "exception": false,
     "start_time": "2023-10-16T12:57:11.582070",
     "status": "completed"
    },
    "tags": []
   },
   "outputs": [],
   "source": [
    "tst_df = pd.read_csv(path/'test.csv')"
   ]
  },
  {
   "cell_type": "markdown",
   "id": "e8a98e8f",
   "metadata": {
    "papermill": {
     "duration": 0.075153,
     "end_time": "2023-10-16T12:57:11.826790",
     "exception": false,
     "start_time": "2023-10-16T12:57:11.751637",
     "status": "completed"
    },
    "tags": []
   },
   "source": [
    "In this case, it turns out that the test set is missing `Fare` for one passenger. We'll just fill it with `0` to avoid problems:"
   ]
  },
  {
   "cell_type": "code",
   "execution_count": null,
   "id": "c4169c8c",
   "metadata": {
    "execution": {
     "iopub.execute_input": "2023-10-16T12:57:11.980441Z",
     "iopub.status.busy": "2023-10-16T12:57:11.979621Z",
     "iopub.status.idle": "2023-10-16T12:57:11.984586Z",
     "shell.execute_reply": "2023-10-16T12:57:11.983760Z"
    },
    "papermill": {
     "duration": 0.083801,
     "end_time": "2023-10-16T12:57:11.986209",
     "exception": false,
     "start_time": "2023-10-16T12:57:11.902408",
     "status": "completed"
    },
    "tags": []
   },
   "outputs": [],
   "source": [
    "tst_df['Fare'] = tst_df.Fare.fillna(0)"
   ]
  },
  {
   "cell_type": "markdown",
   "id": "4617262d",
   "metadata": {
    "papermill": {
     "duration": 0.07647,
     "end_time": "2023-10-16T12:57:12.138990",
     "exception": false,
     "start_time": "2023-10-16T12:57:12.062520",
     "status": "completed"
    },
    "tags": []
   },
   "source": [
    "Now we can just copy the same steps we did to our training set and do the same exact things on our test set to preprocess the data:"
   ]
  },
  {
   "cell_type": "code",
   "execution_count": null,
   "id": "40d76981",
   "metadata": {
    "execution": {
     "iopub.execute_input": "2023-10-16T12:57:12.295395Z",
     "iopub.status.busy": "2023-10-16T12:57:12.295051Z",
     "iopub.status.idle": "2023-10-16T12:57:12.306453Z",
     "shell.execute_reply": "2023-10-16T12:57:12.305957Z"
    },
    "papermill": {
     "duration": 0.091484,
     "end_time": "2023-10-16T12:57:12.308520",
     "exception": false,
     "start_time": "2023-10-16T12:57:12.217036",
     "status": "completed"
    },
    "tags": []
   },
   "outputs": [],
   "source": [
    "tst_df.fillna(modes, inplace=True)\n",
    "tst_df['LogFare'] = np.log(tst_df['Fare']+1)\n",
    "tst_df = pd.get_dummies(tst_df, columns=[\"Sex\",\"Pclass\",\"Embarked\"])\n",
    "\n",
    "tst_indep = tensor(tst_df[indep_cols].values, dtype=torch.float)\n",
    "tst_indep = tst_indep / vals"
   ]
  },
  {
   "cell_type": "markdown",
   "id": "bffe546a",
   "metadata": {
    "papermill": {
     "duration": 0.078959,
     "end_time": "2023-10-16T12:57:12.468713",
     "exception": false,
     "start_time": "2023-10-16T12:57:12.389754",
     "status": "completed"
    },
    "tags": []
   },
   "source": [
    "Let's calculate our predictions of which passengers survived in the test set:"
   ]
  },
  {
   "cell_type": "code",
   "execution_count": null,
   "id": "052a0661",
   "metadata": {
    "execution": {
     "iopub.execute_input": "2023-10-16T12:57:12.633746Z",
     "iopub.status.busy": "2023-10-16T12:57:12.633326Z",
     "iopub.status.idle": "2023-10-16T12:57:12.637473Z",
     "shell.execute_reply": "2023-10-16T12:57:12.636805Z"
    },
    "papermill": {
     "duration": 0.088925,
     "end_time": "2023-10-16T12:57:12.639378",
     "exception": false,
     "start_time": "2023-10-16T12:57:12.550453",
     "status": "completed"
    },
    "tags": []
   },
   "outputs": [],
   "source": [
    "tst_df['Survived'] = (calc_preds(tst_indep, coeffs)>0.5).int()"
   ]
  },
  {
   "cell_type": "markdown",
   "id": "68782776",
   "metadata": {
    "papermill": {
     "duration": 0.076197,
     "end_time": "2023-10-16T12:57:12.793320",
     "exception": false,
     "start_time": "2023-10-16T12:57:12.717123",
     "status": "completed"
    },
    "tags": []
   },
   "source": [
    "The sample submission on the Kaggle competition site shows that we're expected to upload a CSV with just `PassengerId` and `Survived`, so let's create that and save it:"
   ]
  },
  {
   "cell_type": "code",
   "execution_count": null,
   "id": "657fe0d4",
   "metadata": {
    "execution": {
     "iopub.execute_input": "2023-10-16T12:57:13.002739Z",
     "iopub.status.busy": "2023-10-16T12:57:13.002415Z",
     "iopub.status.idle": "2023-10-16T12:57:13.012048Z",
     "shell.execute_reply": "2023-10-16T12:57:13.011510Z"
    },
    "papermill": {
     "duration": 0.089877,
     "end_time": "2023-10-16T12:57:13.014100",
     "exception": false,
     "start_time": "2023-10-16T12:57:12.924223",
     "status": "completed"
    },
    "tags": []
   },
   "outputs": [],
   "source": [
    "sub_df = tst_df[['PassengerId','Survived']]\n",
    "sub_df.to_csv('sub.csv', index=False)"
   ]
  },
  {
   "cell_type": "markdown",
   "id": "5b90f224",
   "metadata": {
    "papermill": {
     "duration": 0.076795,
     "end_time": "2023-10-16T12:57:13.167690",
     "exception": false,
     "start_time": "2023-10-16T12:57:13.090895",
     "status": "completed"
    },
    "tags": []
   },
   "source": [
    "We can check the first few rows of the file to make sure it looks reasonable:"
   ]
  },
  {
   "cell_type": "code",
   "execution_count": null,
   "id": "04414aa2",
   "metadata": {
    "execution": {
     "iopub.execute_input": "2023-10-16T12:57:13.327816Z",
     "iopub.status.busy": "2023-10-16T12:57:13.327383Z",
     "iopub.status.idle": "2023-10-16T12:57:13.585292Z",
     "shell.execute_reply": "2023-10-16T12:57:13.584129Z"
    },
    "papermill": {
     "duration": 0.34042,
     "end_time": "2023-10-16T12:57:13.587627",
     "exception": false,
     "start_time": "2023-10-16T12:57:13.247207",
     "status": "completed"
    },
    "tags": []
   },
   "outputs": [],
   "source": [
    "!head sub.csv"
   ]
  },
  {
   "cell_type": "markdown",
   "id": "f1ab315a",
   "metadata": {
    "papermill": {
     "duration": 0.075891,
     "end_time": "2023-10-16T12:57:13.742139",
     "exception": false,
     "start_time": "2023-10-16T12:57:13.666248",
     "status": "completed"
    },
    "tags": []
   },
   "source": [
    "When you click \"save version\" in Kaggle, and wait for the notebook to run, you'll see that `sub.csv` appears in the \"Data\" tab. Clicking on that file will show a *Submit* button, which allows you to submit to the competition."
   ]
  },
  {
   "cell_type": "markdown",
   "id": "4f27e7be",
   "metadata": {
    "papermill": {
     "duration": 0.080993,
     "end_time": "2023-10-16T12:57:13.900522",
     "exception": false,
     "start_time": "2023-10-16T12:57:13.819529",
     "status": "completed"
    },
    "tags": []
   },
   "source": [
    "## Using matrix product"
   ]
  },
  {
   "cell_type": "markdown",
   "id": "6065d72a",
   "metadata": {
    "papermill": {
     "duration": 0.076302,
     "end_time": "2023-10-16T12:57:14.055024",
     "exception": false,
     "start_time": "2023-10-16T12:57:13.978722",
     "status": "completed"
    },
    "tags": []
   },
   "source": [
    "We can make things quite a bit neater...\n",
    "\n",
    "Take a look at the inner-most calculation we're doing to get the predictions:"
   ]
  },
  {
   "cell_type": "code",
   "execution_count": null,
   "id": "35f8fac3",
   "metadata": {
    "execution": {
     "iopub.execute_input": "2023-10-16T12:57:14.212033Z",
     "iopub.status.busy": "2023-10-16T12:57:14.211801Z",
     "iopub.status.idle": "2023-10-16T12:57:14.220533Z",
     "shell.execute_reply": "2023-10-16T12:57:14.219690Z"
    },
    "papermill": {
     "duration": 0.0901,
     "end_time": "2023-10-16T12:57:14.222138",
     "exception": false,
     "start_time": "2023-10-16T12:57:14.132038",
     "status": "completed"
    },
    "tags": []
   },
   "outputs": [],
   "source": [
    "(val_indep*coeffs).sum(axis=1)"
   ]
  },
  {
   "cell_type": "markdown",
   "id": "ea63352f",
   "metadata": {
    "papermill": {
     "duration": 0.076889,
     "end_time": "2023-10-16T12:57:14.378825",
     "exception": false,
     "start_time": "2023-10-16T12:57:14.301936",
     "status": "completed"
    },
    "tags": []
   },
   "source": [
    "Multiplying elements together and then adding across rows is identical to doing a matrix-vector product! Python uses the `@` operator to indicate matrix products, and is supported by PyTorch tensors. Therefore, we can replicate the above calculate more simply like so:"
   ]
  },
  {
   "cell_type": "code",
   "execution_count": null,
   "id": "b4ce8a63",
   "metadata": {
    "execution": {
     "iopub.execute_input": "2023-10-16T12:57:14.555547Z",
     "iopub.status.busy": "2023-10-16T12:57:14.555311Z",
     "iopub.status.idle": "2023-10-16T12:57:14.566149Z",
     "shell.execute_reply": "2023-10-16T12:57:14.565595Z"
    },
    "papermill": {
     "duration": 0.100415,
     "end_time": "2023-10-16T12:57:14.567575",
     "exception": false,
     "start_time": "2023-10-16T12:57:14.467160",
     "status": "completed"
    },
    "tags": []
   },
   "outputs": [],
   "source": [
    "val_indep@coeffs"
   ]
  },
  {
   "cell_type": "markdown",
   "id": "ccad16e0",
   "metadata": {
    "papermill": {
     "duration": 0.09716,
     "end_time": "2023-10-16T12:57:14.773238",
     "exception": false,
     "start_time": "2023-10-16T12:57:14.676078",
     "status": "completed"
    },
    "tags": []
   },
   "source": [
    "It also turns out that this is much faster, because matrix products in PyTorch are very highly optimised.\n",
    "\n",
    "Let's use this to replace how `calc_preds` works:"
   ]
  },
  {
   "cell_type": "code",
   "execution_count": null,
   "id": "d4f5ffa3",
   "metadata": {
    "execution": {
     "iopub.execute_input": "2023-10-16T12:57:14.932064Z",
     "iopub.status.busy": "2023-10-16T12:57:14.931590Z",
     "iopub.status.idle": "2023-10-16T12:57:14.936559Z",
     "shell.execute_reply": "2023-10-16T12:57:14.935937Z"
    },
    "papermill": {
     "duration": 0.086121,
     "end_time": "2023-10-16T12:57:14.938731",
     "exception": false,
     "start_time": "2023-10-16T12:57:14.852610",
     "status": "completed"
    },
    "tags": []
   },
   "outputs": [],
   "source": [
    "def calc_preds(coeffs, indeps): return torch.sigmoid(indeps@coeffs)"
   ]
  },
  {
   "cell_type": "markdown",
   "id": "3e4c658e",
   "metadata": {
    "papermill": {
     "duration": 0.076824,
     "end_time": "2023-10-16T12:57:15.093524",
     "exception": false,
     "start_time": "2023-10-16T12:57:15.016700",
     "status": "completed"
    },
    "tags": []
   },
   "source": [
    "In order to do matrix-matrix products (which we'll need in the next section), we need to turn `coeffs` into a column vector (i.e. a matrix with a single column), which we can do by passing a second argument `1` to `torch.rand()`, indicating that we want our coefficients to have one column:"
   ]
  },
  {
   "cell_type": "code",
   "execution_count": null,
   "id": "adcf767e",
   "metadata": {
    "execution": {
     "iopub.execute_input": "2023-10-16T12:57:15.254044Z",
     "iopub.status.busy": "2023-10-16T12:57:15.253721Z",
     "iopub.status.idle": "2023-10-16T12:57:15.257069Z",
     "shell.execute_reply": "2023-10-16T12:57:15.256701Z"
    },
    "papermill": {
     "duration": 0.084464,
     "end_time": "2023-10-16T12:57:15.258423",
     "exception": false,
     "start_time": "2023-10-16T12:57:15.173959",
     "status": "completed"
    },
    "tags": []
   },
   "outputs": [],
   "source": [
    "def init_coeffs(): return (torch.rand(n_coeff, 1)*0.1).requires_grad_()"
   ]
  },
  {
   "cell_type": "markdown",
   "id": "24046190",
   "metadata": {
    "papermill": {
     "duration": 0.080951,
     "end_time": "2023-10-16T12:57:15.420395",
     "exception": false,
     "start_time": "2023-10-16T12:57:15.339444",
     "status": "completed"
    },
    "tags": []
   },
   "source": [
    "We'll also need to turn our dependent variable into a column vector, which we can do by indexing the column dimension with the special value `None`, which tells PyTorch to add a new dimension in this position:"
   ]
  },
  {
   "cell_type": "code",
   "execution_count": null,
   "id": "a76fbe74",
   "metadata": {
    "execution": {
     "iopub.execute_input": "2023-10-16T12:57:15.580846Z",
     "iopub.status.busy": "2023-10-16T12:57:15.580197Z",
     "iopub.status.idle": "2023-10-16T12:57:15.584106Z",
     "shell.execute_reply": "2023-10-16T12:57:15.583723Z"
    },
    "papermill": {
     "duration": 0.08533,
     "end_time": "2023-10-16T12:57:15.585575",
     "exception": false,
     "start_time": "2023-10-16T12:57:15.500245",
     "status": "completed"
    },
    "tags": []
   },
   "outputs": [],
   "source": [
    "trn_dep = trn_dep[:,None]\n",
    "val_dep = val_dep[:,None]"
   ]
  },
  {
   "cell_type": "markdown",
   "id": "3dd1a75d",
   "metadata": {
    "papermill": {
     "duration": 0.079255,
     "end_time": "2023-10-16T12:57:15.745418",
     "exception": false,
     "start_time": "2023-10-16T12:57:15.666163",
     "status": "completed"
    },
    "tags": []
   },
   "source": [
    "We can now train our model as before and confirm we get identical outputs...:"
   ]
  },
  {
   "cell_type": "code",
   "execution_count": null,
   "id": "97d39760",
   "metadata": {
    "execution": {
     "iopub.execute_input": "2023-10-16T12:57:15.916078Z",
     "iopub.status.busy": "2023-10-16T12:57:15.915152Z",
     "iopub.status.idle": "2023-10-16T12:57:15.930397Z",
     "shell.execute_reply": "2023-10-16T12:57:15.929817Z"
    },
    "papermill": {
     "duration": 0.106414,
     "end_time": "2023-10-16T12:57:15.932383",
     "exception": false,
     "start_time": "2023-10-16T12:57:15.825969",
     "status": "completed"
    },
    "tags": []
   },
   "outputs": [],
   "source": [
    "coeffs = train_model(lr=100)"
   ]
  },
  {
   "cell_type": "markdown",
   "id": "718c177b",
   "metadata": {
    "papermill": {
     "duration": 0.077541,
     "end_time": "2023-10-16T12:57:16.090441",
     "exception": false,
     "start_time": "2023-10-16T12:57:16.012900",
     "status": "completed"
    },
    "tags": []
   },
   "source": [
    "...and identical accuracy:"
   ]
  },
  {
   "cell_type": "code",
   "execution_count": null,
   "id": "64cf4500",
   "metadata": {
    "execution": {
     "iopub.execute_input": "2023-10-16T12:57:16.250240Z",
     "iopub.status.busy": "2023-10-16T12:57:16.250005Z",
     "iopub.status.idle": "2023-10-16T12:57:16.256580Z",
     "shell.execute_reply": "2023-10-16T12:57:16.255924Z"
    },
    "papermill": {
     "duration": 0.088063,
     "end_time": "2023-10-16T12:57:16.258271",
     "exception": false,
     "start_time": "2023-10-16T12:57:16.170208",
     "status": "completed"
    },
    "tags": []
   },
   "outputs": [],
   "source": [
    "acc(coeffs)"
   ]
  },
  {
   "cell_type": "markdown",
   "id": "f7615343",
   "metadata": {
    "papermill": {
     "duration": 0.080394,
     "end_time": "2023-10-16T12:57:16.415993",
     "exception": false,
     "start_time": "2023-10-16T12:57:16.335599",
     "status": "completed"
    },
    "tags": []
   },
   "source": [
    "## A neural network"
   ]
  },
  {
   "cell_type": "markdown",
   "id": "d6ca0f59",
   "metadata": {
    "papermill": {
     "duration": 0.077912,
     "end_time": "2023-10-16T12:57:16.574660",
     "exception": false,
     "start_time": "2023-10-16T12:57:16.496748",
     "status": "completed"
    },
    "tags": []
   },
   "source": [
    "We've now got what we need to implement our neural network.\n",
    "\n",
    "First, we'll need to create coefficients for each of our layers. Our first set of coefficients will take our `n_coeff` inputs, and create `n_hidden` outputs. We can choose whatever `n_hidden` we like -- a higher number gives our network more flexibility, but makes it slower and harder to train. So we need a matrix of size `n_coeff` by `n_hidden`. We'll divide these coefficients by `n_hidden` so that when we sum them up in the next layer we'll end up with similar magnitude numbers to what we started with.\n",
    "\n",
    "Then our second layer will need to take the `n_hidden` inputs and create a single output, so that means we need a `n_hidden` by `1` matrix there. The second layer will also need a constant term added."
   ]
  },
  {
   "cell_type": "code",
   "execution_count": null,
   "id": "9f072952",
   "metadata": {
    "execution": {
     "iopub.execute_input": "2023-10-16T12:57:16.735359Z",
     "iopub.status.busy": "2023-10-16T12:57:16.735110Z",
     "iopub.status.idle": "2023-10-16T12:57:16.739309Z",
     "shell.execute_reply": "2023-10-16T12:57:16.738642Z"
    },
    "papermill": {
     "duration": 0.086566,
     "end_time": "2023-10-16T12:57:16.741372",
     "exception": false,
     "start_time": "2023-10-16T12:57:16.654806",
     "status": "completed"
    },
    "tags": []
   },
   "outputs": [],
   "source": [
    "def init_coeffs(n_hidden=20):\n",
    "    layer1 = (torch.rand(n_coeff, n_hidden)-0.5)/n_hidden\n",
    "    layer2 = torch.rand(n_hidden, 1)-0.3\n",
    "    const = torch.rand(1)[0]\n",
    "    return layer1.requires_grad_(),layer2.requires_grad_(),const.requires_grad_()"
   ]
  },
  {
   "cell_type": "markdown",
   "id": "3e78ba19",
   "metadata": {
    "papermill": {
     "duration": 0.07943,
     "end_time": "2023-10-16T12:57:16.900044",
     "exception": false,
     "start_time": "2023-10-16T12:57:16.820614",
     "status": "completed"
    },
    "tags": []
   },
   "source": [
    "Now we have our coefficients, we can create our neural net. The key steps are the two matrix products, `indeps@l1` and `res@l2` (where `res` is the output of the first layer). The first layer output is passed to `F.relu` (that's our non-linearity), and the second is passed to `torch.sigmoid` as before."
   ]
  },
  {
   "cell_type": "code",
   "execution_count": null,
   "id": "dc4beb52",
   "metadata": {
    "execution": {
     "iopub.execute_input": "2023-10-16T12:57:17.061694Z",
     "iopub.status.busy": "2023-10-16T12:57:17.061291Z",
     "iopub.status.idle": "2023-10-16T12:57:17.066034Z",
     "shell.execute_reply": "2023-10-16T12:57:17.064679Z"
    },
    "papermill": {
     "duration": 0.088092,
     "end_time": "2023-10-16T12:57:17.068334",
     "exception": false,
     "start_time": "2023-10-16T12:57:16.980242",
     "status": "completed"
    },
    "tags": []
   },
   "outputs": [],
   "source": [
    "import torch.nn.functional as F\n",
    "\n",
    "def calc_preds(coeffs, indeps):\n",
    "    l1,l2,const = coeffs\n",
    "    res = F.relu(indeps@l1)\n",
    "    res = res@l2 + const\n",
    "    return torch.sigmoid(res)"
   ]
  },
  {
   "cell_type": "markdown",
   "id": "ad0e2e1c",
   "metadata": {
    "papermill": {
     "duration": 0.079668,
     "end_time": "2023-10-16T12:57:17.227517",
     "exception": false,
     "start_time": "2023-10-16T12:57:17.147849",
     "status": "completed"
    },
    "tags": []
   },
   "source": [
    "Finally, now that we have more than one set of coefficients, we need to add a loop to update each one:"
   ]
  },
  {
   "cell_type": "code",
   "execution_count": null,
   "id": "6313bf1b",
   "metadata": {
    "execution": {
     "iopub.execute_input": "2023-10-16T12:57:17.389512Z",
     "iopub.status.busy": "2023-10-16T12:57:17.389272Z",
     "iopub.status.idle": "2023-10-16T12:57:17.393976Z",
     "shell.execute_reply": "2023-10-16T12:57:17.392953Z"
    },
    "papermill": {
     "duration": 0.087257,
     "end_time": "2023-10-16T12:57:17.395616",
     "exception": false,
     "start_time": "2023-10-16T12:57:17.308359",
     "status": "completed"
    },
    "tags": []
   },
   "outputs": [],
   "source": [
    "def update_coeffs(coeffs, lr):\n",
    "    for layer in coeffs:\n",
    "        layer.sub_(layer.grad * lr)\n",
    "        layer.grad.zero_()"
   ]
  },
  {
   "cell_type": "markdown",
   "id": "1ad793cc",
   "metadata": {
    "papermill": {
     "duration": 0.078259,
     "end_time": "2023-10-16T12:57:17.552260",
     "exception": false,
     "start_time": "2023-10-16T12:57:17.474001",
     "status": "completed"
    },
    "tags": []
   },
   "source": [
    "That's it -- we're now ready to train our model!"
   ]
  },
  {
   "cell_type": "code",
   "execution_count": null,
   "id": "0c10aa3d",
   "metadata": {
    "execution": {
     "iopub.execute_input": "2023-10-16T12:57:17.711279Z",
     "iopub.status.busy": "2023-10-16T12:57:17.711049Z",
     "iopub.status.idle": "2023-10-16T12:57:17.742765Z",
     "shell.execute_reply": "2023-10-16T12:57:17.742137Z"
    },
    "papermill": {
     "duration": 0.112529,
     "end_time": "2023-10-16T12:57:17.744316",
     "exception": false,
     "start_time": "2023-10-16T12:57:17.631787",
     "status": "completed"
    },
    "tags": []
   },
   "outputs": [],
   "source": [
    "coeffs = train_model(lr=1.4)"
   ]
  },
  {
   "cell_type": "code",
   "execution_count": null,
   "id": "3763a0d4",
   "metadata": {
    "execution": {
     "iopub.execute_input": "2023-10-16T12:57:17.901776Z",
     "iopub.status.busy": "2023-10-16T12:57:17.901359Z",
     "iopub.status.idle": "2023-10-16T12:57:17.923134Z",
     "shell.execute_reply": "2023-10-16T12:57:17.922006Z"
    },
    "papermill": {
     "duration": 0.101401,
     "end_time": "2023-10-16T12:57:17.924914",
     "exception": false,
     "start_time": "2023-10-16T12:57:17.823513",
     "status": "completed"
    },
    "tags": []
   },
   "outputs": [],
   "source": [
    "coeffs = train_model(lr=20)"
   ]
  },
  {
   "cell_type": "markdown",
   "id": "99dea349",
   "metadata": {
    "papermill": {
     "duration": 0.079354,
     "end_time": "2023-10-16T12:57:18.084788",
     "exception": false,
     "start_time": "2023-10-16T12:57:18.005434",
     "status": "completed"
    },
    "tags": []
   },
   "source": [
    "It's looking good -- our loss is lower than before. Let's see if that translates to a better result on the validation set:"
   ]
  },
  {
   "cell_type": "code",
   "execution_count": null,
   "id": "55f6a48b",
   "metadata": {
    "execution": {
     "iopub.execute_input": "2023-10-16T12:57:18.245003Z",
     "iopub.status.busy": "2023-10-16T12:57:18.244753Z",
     "iopub.status.idle": "2023-10-16T12:57:18.250160Z",
     "shell.execute_reply": "2023-10-16T12:57:18.249702Z"
    },
    "papermill": {
     "duration": 0.087419,
     "end_time": "2023-10-16T12:57:18.252173",
     "exception": false,
     "start_time": "2023-10-16T12:57:18.164754",
     "status": "completed"
    },
    "tags": []
   },
   "outputs": [],
   "source": [
    "acc(coeffs)"
   ]
  },
  {
   "cell_type": "markdown",
   "id": "dfc7f95f",
   "metadata": {
    "papermill": {
     "duration": 0.080929,
     "end_time": "2023-10-16T12:57:18.412022",
     "exception": false,
     "start_time": "2023-10-16T12:57:18.331093",
     "status": "completed"
    },
    "tags": []
   },
   "source": [
    "In this case our neural net isn't showing better results than the linear model. That's not surprising; this dataset is very small and very simple, and isn't the kind of thing we'd expect to see neural networks excel at. Furthermore, our validation set is too small to reliably see much accuracy difference. But the key thing is that we now know exactly what a real neural net looks like!"
   ]
  },
  {
   "cell_type": "markdown",
   "id": "64e8b7e9",
   "metadata": {
    "papermill": {
     "duration": 0.076617,
     "end_time": "2023-10-16T12:57:18.568361",
     "exception": false,
     "start_time": "2023-10-16T12:57:18.491744",
     "status": "completed"
    },
    "tags": []
   },
   "source": [
    "## Deep learning"
   ]
  },
  {
   "cell_type": "markdown",
   "id": "51c8ac3e",
   "metadata": {
    "papermill": {
     "duration": 0.078647,
     "end_time": "2023-10-16T12:57:18.725799",
     "exception": false,
     "start_time": "2023-10-16T12:57:18.647152",
     "status": "completed"
    },
    "tags": []
   },
   "source": [
    "The neural net in the previous section only uses one hidden layer, so it doesn't count as \"deep\" learning. But we can use the exact same technique to make our neural net deep, by adding more matrix multiplications.\n",
    "\n",
    "First, we'll need to create additional coefficients for each layer:"
   ]
  },
  {
   "cell_type": "code",
   "execution_count": null,
   "id": "8629ec03",
   "metadata": {
    "execution": {
     "iopub.execute_input": "2023-10-16T12:57:18.886074Z",
     "iopub.status.busy": "2023-10-16T12:57:18.885715Z",
     "iopub.status.idle": "2023-10-16T12:57:18.890725Z",
     "shell.execute_reply": "2023-10-16T12:57:18.889922Z"
    },
    "papermill": {
     "duration": 0.086658,
     "end_time": "2023-10-16T12:57:18.892357",
     "exception": false,
     "start_time": "2023-10-16T12:57:18.805699",
     "status": "completed"
    },
    "tags": []
   },
   "outputs": [],
   "source": [
    "def init_coeffs():\n",
    "    hiddens = [10, 10]  # <-- set this to the size of each hidden layer you want\n",
    "    sizes = [n_coeff] + hiddens + [1]\n",
    "    n = len(sizes)\n",
    "    layers = [(torch.rand(sizes[i], sizes[i+1])-0.3)/sizes[i+1]*4 for i in range(n-1)]\n",
    "    consts = [(torch.rand(1)[0]-0.5)*0.1 for i in range(n-1)]\n",
    "    for l in layers+consts: l.requires_grad_()\n",
    "    return layers,consts"
   ]
  },
  {
   "cell_type": "markdown",
   "id": "03451d6e",
   "metadata": {
    "papermill": {
     "duration": 0.077274,
     "end_time": "2023-10-16T12:57:19.048253",
     "exception": false,
     "start_time": "2023-10-16T12:57:18.970979",
     "status": "completed"
    },
    "tags": []
   },
   "source": [
    "You'll notice here that there's a lot of messy constants to get the random numbers in just the right ranges. When you train the model in a moment, you'll see that the tiniest changes to these initialisations can cause our model to fail to train at all! This is a key reason that deep learning failed to make much progress in the early days -- it's very finicky to get a good starting point for our coefficients. Nowadays, we have ways to deal with that, which we'll learn about in other notebooks.\n",
    "\n",
    "Our deep learning `calc_preds` looks much the same as before, but now we loop through each layer, instead of listing them separately:"
   ]
  },
  {
   "cell_type": "code",
   "execution_count": null,
   "id": "3c6deafd",
   "metadata": {
    "execution": {
     "iopub.execute_input": "2023-10-16T12:57:19.206980Z",
     "iopub.status.busy": "2023-10-16T12:57:19.206761Z",
     "iopub.status.idle": "2023-10-16T12:57:19.211774Z",
     "shell.execute_reply": "2023-10-16T12:57:19.210739Z"
    },
    "papermill": {
     "duration": 0.086247,
     "end_time": "2023-10-16T12:57:19.213250",
     "exception": false,
     "start_time": "2023-10-16T12:57:19.127003",
     "status": "completed"
    },
    "tags": []
   },
   "outputs": [],
   "source": [
    "import torch.nn.functional as F\n",
    "\n",
    "def calc_preds(coeffs, indeps):\n",
    "    layers,consts = coeffs\n",
    "    n = len(layers)\n",
    "    res = indeps\n",
    "    for i,l in enumerate(layers):\n",
    "        res = res@l + consts[i]\n",
    "        if i!=n-1: res = F.relu(res)\n",
    "    return torch.sigmoid(res)"
   ]
  },
  {
   "cell_type": "markdown",
   "id": "51c44cb2",
   "metadata": {
    "papermill": {
     "duration": 0.079968,
     "end_time": "2023-10-16T12:57:19.373165",
     "exception": false,
     "start_time": "2023-10-16T12:57:19.293197",
     "status": "completed"
    },
    "tags": []
   },
   "source": [
    "We also need a minor update to `update_coeffs` since we've got `layers` and `consts` separated now:"
   ]
  },
  {
   "cell_type": "code",
   "execution_count": null,
   "id": "e15ef79a",
   "metadata": {
    "execution": {
     "iopub.execute_input": "2023-10-16T12:57:19.551033Z",
     "iopub.status.busy": "2023-10-16T12:57:19.550629Z",
     "iopub.status.idle": "2023-10-16T12:57:19.554991Z",
     "shell.execute_reply": "2023-10-16T12:57:19.554085Z"
    },
    "papermill": {
     "duration": 0.086997,
     "end_time": "2023-10-16T12:57:19.557025",
     "exception": false,
     "start_time": "2023-10-16T12:57:19.470028",
     "status": "completed"
    },
    "tags": []
   },
   "outputs": [],
   "source": [
    "def update_coeffs(coeffs, lr):\n",
    "    layers,consts = coeffs\n",
    "    for layer in layers+consts:\n",
    "        layer.sub_(layer.grad * lr)\n",
    "        layer.grad.zero_()"
   ]
  },
  {
   "cell_type": "markdown",
   "id": "ae242b99",
   "metadata": {
    "papermill": {
     "duration": 0.078098,
     "end_time": "2023-10-16T12:57:19.714523",
     "exception": false,
     "start_time": "2023-10-16T12:57:19.636425",
     "status": "completed"
    },
    "tags": []
   },
   "source": [
    "Let's train our model..."
   ]
  },
  {
   "cell_type": "code",
   "execution_count": null,
   "id": "2f0756f9",
   "metadata": {
    "execution": {
     "iopub.execute_input": "2023-10-16T12:57:19.872120Z",
     "iopub.status.busy": "2023-10-16T12:57:19.871873Z",
     "iopub.status.idle": "2023-10-16T12:57:19.891342Z",
     "shell.execute_reply": "2023-10-16T12:57:19.890507Z"
    },
    "papermill": {
     "duration": 0.099823,
     "end_time": "2023-10-16T12:57:19.892759",
     "exception": false,
     "start_time": "2023-10-16T12:57:19.792936",
     "status": "completed"
    },
    "tags": []
   },
   "outputs": [],
   "source": [
    "coeffs = train_model(lr=4)"
   ]
  },
  {
   "cell_type": "markdown",
   "id": "edd95b91",
   "metadata": {
    "papermill": {
     "duration": 0.077759,
     "end_time": "2023-10-16T12:57:20.050838",
     "exception": false,
     "start_time": "2023-10-16T12:57:19.973079",
     "status": "completed"
    },
    "tags": []
   },
   "source": [
    "...and check its accuracy:"
   ]
  },
  {
   "cell_type": "code",
   "execution_count": null,
   "id": "b2bcd5f4",
   "metadata": {
    "execution": {
     "iopub.execute_input": "2023-10-16T12:57:20.212918Z",
     "iopub.status.busy": "2023-10-16T12:57:20.212560Z",
     "iopub.status.idle": "2023-10-16T12:57:20.218023Z",
     "shell.execute_reply": "2023-10-16T12:57:20.217216Z"
    },
    "papermill": {
     "duration": 0.088538,
     "end_time": "2023-10-16T12:57:20.219356",
     "exception": false,
     "start_time": "2023-10-16T12:57:20.130818",
     "status": "completed"
    },
    "tags": []
   },
   "outputs": [],
   "source": [
    "acc(coeffs)"
   ]
  },
  {
   "cell_type": "markdown",
   "id": "f6b7c154",
   "metadata": {
    "papermill": {
     "duration": 0.08099,
     "end_time": "2023-10-16T12:57:20.382357",
     "exception": false,
     "start_time": "2023-10-16T12:57:20.301367",
     "status": "completed"
    },
    "tags": []
   },
   "source": [
    "## Final thoughts"
   ]
  },
  {
   "cell_type": "markdown",
   "id": "2b295bb4",
   "metadata": {
    "papermill": {
     "duration": 0.077824,
     "end_time": "2023-10-16T12:57:20.537989",
     "exception": false,
     "start_time": "2023-10-16T12:57:20.460165",
     "status": "completed"
    },
    "tags": []
   },
   "source": [
    "It's actually pretty cool that we've managed to create a real deep learning model from scratch and trained it to get over 80% accuracy on this task, all in the course of a single notebook!\n",
    "\n",
    "The \"real\" deep learning models that are used in research and industry look very similar to this, and in fact if you look inside the source code of any deep learning model you'll recognise the basic steps are the same.\n",
    "\n",
    "The biggest differences in practical models to what we have above are:\n",
    "\n",
    "- How initialisation and normalisation is done to ensure the model trains correctly every time\n",
    "- Regularization (to avoid over-fitting)\n",
    "- Modifying the neural net itself to take advantage of knowledge of the problem domain\n",
    "- Doing gradient descent steps on smaller batches, rather than the whole dataset.\n",
    "\n",
    "I'll be adding notebooks about all these later, and will add links here once they're ready.\n",
    "\n",
    "If you found this notebook useful, please remember to click the little up-arrow at the top to upvote it, since I like to know when people have found my work useful, and it helps others find it too. (BTW, be sure you're looking at my [original notebook here](https://www.kaggle.com/code/jhoward/linear-model-and-neural-net-from-scratch) when you do that, and are not on your own copy of it, otherwise your upvote won't get counted!) And if you have any questions or comments, please pop them below -- I read every comment I receive!"
   ]
  },
  {
   "cell_type": "code",
   "execution_count": null,
   "id": "65595549",
   "metadata": {
    "papermill": {
     "duration": 0.076602,
     "end_time": "2023-10-16T12:57:20.696219",
     "exception": false,
     "start_time": "2023-10-16T12:57:20.619617",
     "status": "completed"
    },
    "tags": []
   },
   "outputs": [],
   "source": []
  }
 ],
 "metadata": {
  "kernelspec": {
   "display_name": "Python 3",
   "language": "python",
   "name": "python3"
  },
  "language_info": {
   "codemirror_mode": {
    "name": "ipython",
    "version": 3
   },
   "file_extension": ".py",
   "mimetype": "text/x-python",
   "name": "python",
   "nbconvert_exporter": "python",
   "pygments_lexer": "ipython3",
   "version": "3.10.11"
  },
  "papermill": {
   "default_parameters": {},
   "duration": 39.362511,
   "end_time": "2023-10-16T12:57:21.698697",
   "environment_variables": {},
   "exception": null,
   "input_path": "__notebook__.ipynb",
   "output_path": "__notebook__.ipynb",
   "parameters": {},
   "start_time": "2023-10-16T12:56:42.336186",
   "version": "2.3.4"
  }
 },
 "nbformat": 4,
 "nbformat_minor": 5
}
