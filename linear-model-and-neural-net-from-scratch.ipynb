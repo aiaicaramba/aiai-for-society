{
 "cells": [
  {
   "cell_type": "markdown",
   "id": "f4cab16c",
   "metadata": {
    "papermill": {
     "duration": 0.092423,
     "end_time": "2023-10-16T08:26:01.108103",
     "exception": false,
     "start_time": "2023-10-16T08:26:01.015680",
     "status": "completed"
    },
    "tags": []
   },
   "source": [
    "## Introduction"
   ]
  },
  {
   "cell_type": "markdown",
   "id": "13157bbb",
   "metadata": {
    "papermill": {
     "duration": 0.087116,
     "end_time": "2023-10-16T08:26:01.285143",
     "exception": false,
     "start_time": "2023-10-16T08:26:01.198027",
     "status": "completed"
    },
    "tags": []
   },
   "source": [
    "In this notebook we're going to build and train a deep learning model \"from scratch\" -- by which I mean that we're not going to use any pre-built architecture, or optimizers, or data loading frameworks, etc.\n",
    "\n",
    "We'll be assuming you already know the basics of how a neural network works. If you don't, read this notebook first: [How does a neural net really work?\n",
    "](https://www.kaggle.com/code/jhoward/how-does-a-neural-net-really-work). We'll be using Kaggle's [Titanic](https://www.kaggle.com/competitions/titanic/) competition in this notebook, because it's very small and simple, but also has displays many of the tricky real-life issues that we need to handle in most practical projects. (Note, however, that this competition is a small \"learner\" competition on Kaggle, so don't expect to actually see much benefits from using a neural net just yet; that will come once we try our some real competitions!)\n",
    "\n",
    "It's great to be able to run the same notebook on your own machine or Colab, as well as Kaggle. To allow for this, we use this code to download the data as needed when not on Kaggle (see [this notebook](https://www.kaggle.com/code/jhoward/getting-started-with-nlp-for-absolute-beginners/) for details about this technique):"
   ]
  },
  {
   "cell_type": "code",
   "execution_count": 1,
   "id": "d9f9f51a",
   "metadata": {
    "execution": {
     "iopub.execute_input": "2023-10-16T08:26:01.461357Z",
     "iopub.status.busy": "2023-10-16T08:26:01.460551Z",
     "iopub.status.idle": "2023-10-16T08:26:01.473132Z",
     "shell.execute_reply": "2023-10-16T08:26:01.472479Z"
    },
    "papermill": {
     "duration": 0.103596,
     "end_time": "2023-10-16T08:26:01.475554",
     "exception": false,
     "start_time": "2023-10-16T08:26:01.371958",
     "status": "completed"
    },
    "tags": []
   },
   "outputs": [],
   "source": [
    "import os\n",
    "from pathlib import Path\n",
    "\n",
    "iskaggle = os.environ.get('KAGGLE_KERNEL_RUN_TYPE', '')\n",
    "if iskaggle: path = Path('../input/titanic')\n",
    "else:\n",
    "    path = Path('titanic')\n",
    "    if not path.exists():\n",
    "        import zipfile,kaggle\n",
    "        kaggle.api.competition_download_cli(str(path))\n",
    "        zipfile.ZipFile(f'{path}.zip').extractall(path)"
   ]
  },
  {
   "cell_type": "markdown",
   "id": "e3ee602e",
   "metadata": {
    "hidden": true,
    "papermill": {
     "duration": 0.086844,
     "end_time": "2023-10-16T08:26:01.650511",
     "exception": false,
     "start_time": "2023-10-16T08:26:01.563667",
     "status": "completed"
    },
    "tags": []
   },
   "source": [
    "Note that the data for Kaggle comps always lives in the `../input` folder. The easiest way to get the path is to click the \"K\" button in the top-right of the Kaggle notebook, click on the folder shown there, and click the copy button.\n",
    "\n",
    "We'll be using *numpy* and *pytorch* for array calculations in this notebook, and *pandas* for working with tabular data, so we'll import them and set them to display using a bit more space than they default to."
   ]
  },
  {
   "cell_type": "code",
   "execution_count": 2,
   "id": "0cb9dbc9",
   "metadata": {
    "execution": {
     "iopub.execute_input": "2023-10-16T08:26:01.825752Z",
     "iopub.status.busy": "2023-10-16T08:26:01.825484Z",
     "iopub.status.idle": "2023-10-16T08:26:03.283829Z",
     "shell.execute_reply": "2023-10-16T08:26:03.282821Z"
    },
    "papermill": {
     "duration": 1.549063,
     "end_time": "2023-10-16T08:26:03.286191",
     "exception": false,
     "start_time": "2023-10-16T08:26:01.737128",
     "status": "completed"
    },
    "tags": []
   },
   "outputs": [],
   "source": [
    "import torch, numpy as np, pandas as pd\n",
    "np.set_printoptions(linewidth=140)\n",
    "torch.set_printoptions(linewidth=140, sci_mode=False, edgeitems=7)\n",
    "pd.set_option('display.width', 140)"
   ]
  },
  {
   "cell_type": "markdown",
   "id": "57c4b7d1",
   "metadata": {
    "heading_collapsed": true,
    "papermill": {
     "duration": 0.088531,
     "end_time": "2023-10-16T08:26:03.465936",
     "exception": false,
     "start_time": "2023-10-16T08:26:03.377405",
     "status": "completed"
    },
    "tags": []
   },
   "source": [
    "## Cleaning the data"
   ]
  },
  {
   "cell_type": "markdown",
   "id": "45a5adc0",
   "metadata": {
    "hidden": true,
    "papermill": {
     "duration": 0.086918,
     "end_time": "2023-10-16T08:26:03.639895",
     "exception": false,
     "start_time": "2023-10-16T08:26:03.552977",
     "status": "completed"
    },
    "tags": []
   },
   "source": [
    "This is a *tabular data* competition -- the data is in the form of a table. It's provided as a Comma Separated Values (CSV) file. We can open it using the *pandas* library, which will create a `DataFrame`."
   ]
  },
  {
   "cell_type": "code",
   "execution_count": 3,
   "id": "58907367",
   "metadata": {
    "execution": {
     "iopub.execute_input": "2023-10-16T08:26:03.817274Z",
     "iopub.status.busy": "2023-10-16T08:26:03.816962Z",
     "iopub.status.idle": "2023-10-16T08:26:03.863275Z",
     "shell.execute_reply": "2023-10-16T08:26:03.862396Z"
    },
    "hidden": true,
    "papermill": {
     "duration": 0.139811,
     "end_time": "2023-10-16T08:26:03.866067",
     "exception": false,
     "start_time": "2023-10-16T08:26:03.726256",
     "status": "completed"
    },
    "scrolled": true,
    "tags": []
   },
   "outputs": [
    {
     "data": {
      "text/html": [
       "<div>\n",
       "<style scoped>\n",
       "    .dataframe tbody tr th:only-of-type {\n",
       "        vertical-align: middle;\n",
       "    }\n",
       "\n",
       "    .dataframe tbody tr th {\n",
       "        vertical-align: top;\n",
       "    }\n",
       "\n",
       "    .dataframe thead th {\n",
       "        text-align: right;\n",
       "    }\n",
       "</style>\n",
       "<table border=\"1\" class=\"dataframe\">\n",
       "  <thead>\n",
       "    <tr style=\"text-align: right;\">\n",
       "      <th></th>\n",
       "      <th>PassengerId</th>\n",
       "      <th>Survived</th>\n",
       "      <th>Pclass</th>\n",
       "      <th>Name</th>\n",
       "      <th>Sex</th>\n",
       "      <th>Age</th>\n",
       "      <th>SibSp</th>\n",
       "      <th>Parch</th>\n",
       "      <th>Ticket</th>\n",
       "      <th>Fare</th>\n",
       "      <th>Cabin</th>\n",
       "      <th>Embarked</th>\n",
       "    </tr>\n",
       "  </thead>\n",
       "  <tbody>\n",
       "    <tr>\n",
       "      <th>0</th>\n",
       "      <td>1</td>\n",
       "      <td>0</td>\n",
       "      <td>3</td>\n",
       "      <td>Braund, Mr. Owen Harris</td>\n",
       "      <td>male</td>\n",
       "      <td>22.0</td>\n",
       "      <td>1</td>\n",
       "      <td>0</td>\n",
       "      <td>A/5 21171</td>\n",
       "      <td>7.2500</td>\n",
       "      <td>NaN</td>\n",
       "      <td>S</td>\n",
       "    </tr>\n",
       "    <tr>\n",
       "      <th>1</th>\n",
       "      <td>2</td>\n",
       "      <td>1</td>\n",
       "      <td>1</td>\n",
       "      <td>Cumings, Mrs. John Bradley (Florence Briggs Th...</td>\n",
       "      <td>female</td>\n",
       "      <td>38.0</td>\n",
       "      <td>1</td>\n",
       "      <td>0</td>\n",
       "      <td>PC 17599</td>\n",
       "      <td>71.2833</td>\n",
       "      <td>C85</td>\n",
       "      <td>C</td>\n",
       "    </tr>\n",
       "    <tr>\n",
       "      <th>2</th>\n",
       "      <td>3</td>\n",
       "      <td>1</td>\n",
       "      <td>3</td>\n",
       "      <td>Heikkinen, Miss. Laina</td>\n",
       "      <td>female</td>\n",
       "      <td>26.0</td>\n",
       "      <td>0</td>\n",
       "      <td>0</td>\n",
       "      <td>STON/O2. 3101282</td>\n",
       "      <td>7.9250</td>\n",
       "      <td>NaN</td>\n",
       "      <td>S</td>\n",
       "    </tr>\n",
       "    <tr>\n",
       "      <th>3</th>\n",
       "      <td>4</td>\n",
       "      <td>1</td>\n",
       "      <td>1</td>\n",
       "      <td>Futrelle, Mrs. Jacques Heath (Lily May Peel)</td>\n",
       "      <td>female</td>\n",
       "      <td>35.0</td>\n",
       "      <td>1</td>\n",
       "      <td>0</td>\n",
       "      <td>113803</td>\n",
       "      <td>53.1000</td>\n",
       "      <td>C123</td>\n",
       "      <td>S</td>\n",
       "    </tr>\n",
       "    <tr>\n",
       "      <th>4</th>\n",
       "      <td>5</td>\n",
       "      <td>0</td>\n",
       "      <td>3</td>\n",
       "      <td>Allen, Mr. William Henry</td>\n",
       "      <td>male</td>\n",
       "      <td>35.0</td>\n",
       "      <td>0</td>\n",
       "      <td>0</td>\n",
       "      <td>373450</td>\n",
       "      <td>8.0500</td>\n",
       "      <td>NaN</td>\n",
       "      <td>S</td>\n",
       "    </tr>\n",
       "    <tr>\n",
       "      <th>...</th>\n",
       "      <td>...</td>\n",
       "      <td>...</td>\n",
       "      <td>...</td>\n",
       "      <td>...</td>\n",
       "      <td>...</td>\n",
       "      <td>...</td>\n",
       "      <td>...</td>\n",
       "      <td>...</td>\n",
       "      <td>...</td>\n",
       "      <td>...</td>\n",
       "      <td>...</td>\n",
       "      <td>...</td>\n",
       "    </tr>\n",
       "    <tr>\n",
       "      <th>886</th>\n",
       "      <td>887</td>\n",
       "      <td>0</td>\n",
       "      <td>2</td>\n",
       "      <td>Montvila, Rev. Juozas</td>\n",
       "      <td>male</td>\n",
       "      <td>27.0</td>\n",
       "      <td>0</td>\n",
       "      <td>0</td>\n",
       "      <td>211536</td>\n",
       "      <td>13.0000</td>\n",
       "      <td>NaN</td>\n",
       "      <td>S</td>\n",
       "    </tr>\n",
       "    <tr>\n",
       "      <th>887</th>\n",
       "      <td>888</td>\n",
       "      <td>1</td>\n",
       "      <td>1</td>\n",
       "      <td>Graham, Miss. Margaret Edith</td>\n",
       "      <td>female</td>\n",
       "      <td>19.0</td>\n",
       "      <td>0</td>\n",
       "      <td>0</td>\n",
       "      <td>112053</td>\n",
       "      <td>30.0000</td>\n",
       "      <td>B42</td>\n",
       "      <td>S</td>\n",
       "    </tr>\n",
       "    <tr>\n",
       "      <th>888</th>\n",
       "      <td>889</td>\n",
       "      <td>0</td>\n",
       "      <td>3</td>\n",
       "      <td>Johnston, Miss. Catherine Helen \"Carrie\"</td>\n",
       "      <td>female</td>\n",
       "      <td>NaN</td>\n",
       "      <td>1</td>\n",
       "      <td>2</td>\n",
       "      <td>W./C. 6607</td>\n",
       "      <td>23.4500</td>\n",
       "      <td>NaN</td>\n",
       "      <td>S</td>\n",
       "    </tr>\n",
       "    <tr>\n",
       "      <th>889</th>\n",
       "      <td>890</td>\n",
       "      <td>1</td>\n",
       "      <td>1</td>\n",
       "      <td>Behr, Mr. Karl Howell</td>\n",
       "      <td>male</td>\n",
       "      <td>26.0</td>\n",
       "      <td>0</td>\n",
       "      <td>0</td>\n",
       "      <td>111369</td>\n",
       "      <td>30.0000</td>\n",
       "      <td>C148</td>\n",
       "      <td>C</td>\n",
       "    </tr>\n",
       "    <tr>\n",
       "      <th>890</th>\n",
       "      <td>891</td>\n",
       "      <td>0</td>\n",
       "      <td>3</td>\n",
       "      <td>Dooley, Mr. Patrick</td>\n",
       "      <td>male</td>\n",
       "      <td>32.0</td>\n",
       "      <td>0</td>\n",
       "      <td>0</td>\n",
       "      <td>370376</td>\n",
       "      <td>7.7500</td>\n",
       "      <td>NaN</td>\n",
       "      <td>Q</td>\n",
       "    </tr>\n",
       "  </tbody>\n",
       "</table>\n",
       "<p>891 rows × 12 columns</p>\n",
       "</div>"
      ],
      "text/plain": [
       "     PassengerId  Survived  Pclass                                               Name     Sex   Age  SibSp  Parch            Ticket  \\\n",
       "0              1         0       3                            Braund, Mr. Owen Harris    male  22.0      1      0         A/5 21171   \n",
       "1              2         1       1  Cumings, Mrs. John Bradley (Florence Briggs Th...  female  38.0      1      0          PC 17599   \n",
       "2              3         1       3                             Heikkinen, Miss. Laina  female  26.0      0      0  STON/O2. 3101282   \n",
       "3              4         1       1       Futrelle, Mrs. Jacques Heath (Lily May Peel)  female  35.0      1      0            113803   \n",
       "4              5         0       3                           Allen, Mr. William Henry    male  35.0      0      0            373450   \n",
       "..           ...       ...     ...                                                ...     ...   ...    ...    ...               ...   \n",
       "886          887         0       2                              Montvila, Rev. Juozas    male  27.0      0      0            211536   \n",
       "887          888         1       1                       Graham, Miss. Margaret Edith  female  19.0      0      0            112053   \n",
       "888          889         0       3           Johnston, Miss. Catherine Helen \"Carrie\"  female   NaN      1      2        W./C. 6607   \n",
       "889          890         1       1                              Behr, Mr. Karl Howell    male  26.0      0      0            111369   \n",
       "890          891         0       3                                Dooley, Mr. Patrick    male  32.0      0      0            370376   \n",
       "\n",
       "        Fare Cabin Embarked  \n",
       "0     7.2500   NaN        S  \n",
       "1    71.2833   C85        C  \n",
       "2     7.9250   NaN        S  \n",
       "3    53.1000  C123        S  \n",
       "4     8.0500   NaN        S  \n",
       "..       ...   ...      ...  \n",
       "886  13.0000   NaN        S  \n",
       "887  30.0000   B42        S  \n",
       "888  23.4500   NaN        S  \n",
       "889  30.0000  C148        C  \n",
       "890   7.7500   NaN        Q  \n",
       "\n",
       "[891 rows x 12 columns]"
      ]
     },
     "execution_count": 3,
     "metadata": {},
     "output_type": "execute_result"
    }
   ],
   "source": [
    "df = pd.read_csv(path/'train.csv')\n",
    "df"
   ]
  },
  {
   "cell_type": "markdown",
   "id": "98d4b5d0",
   "metadata": {
    "hidden": true,
    "papermill": {
     "duration": 0.090325,
     "end_time": "2023-10-16T08:26:04.046755",
     "exception": false,
     "start_time": "2023-10-16T08:26:03.956430",
     "status": "completed"
    },
    "tags": []
   },
   "source": [
    "As we learned in the *How does a neural net really work* notebook, we going to want to multiply each column by some coefficients. But we can see in the `Cabin` column that there are `NaN` values, which is how Pandas refers to missing values. We can't multiply something by a missing value!\n",
    "\n",
    "Let's check which columns contain `NaN` values. Pandas' `isna()` function returns `True` (which is treated as `1` when used as a number) for `NaN` values, so we can just add them up for each column:"
   ]
  },
  {
   "cell_type": "code",
   "execution_count": 4,
   "id": "a2660151",
   "metadata": {
    "execution": {
     "iopub.execute_input": "2023-10-16T08:26:04.225119Z",
     "iopub.status.busy": "2023-10-16T08:26:04.224429Z",
     "iopub.status.idle": "2023-10-16T08:26:04.233221Z",
     "shell.execute_reply": "2023-10-16T08:26:04.232378Z"
    },
    "hidden": true,
    "papermill": {
     "duration": 0.100627,
     "end_time": "2023-10-16T08:26:04.234920",
     "exception": false,
     "start_time": "2023-10-16T08:26:04.134293",
     "status": "completed"
    },
    "tags": []
   },
   "outputs": [
    {
     "data": {
      "text/plain": [
       "PassengerId      0\n",
       "Survived         0\n",
       "Pclass           0\n",
       "Name             0\n",
       "Sex              0\n",
       "Age            177\n",
       "SibSp            0\n",
       "Parch            0\n",
       "Ticket           0\n",
       "Fare             0\n",
       "Cabin          687\n",
       "Embarked         2\n",
       "dtype: int64"
      ]
     },
     "execution_count": 4,
     "metadata": {},
     "output_type": "execute_result"
    }
   ],
   "source": [
    "df.isna().sum()"
   ]
  },
  {
   "cell_type": "markdown",
   "id": "1f7960af",
   "metadata": {
    "hidden": true,
    "papermill": {
     "duration": 0.088203,
     "end_time": "2023-10-16T08:26:04.411863",
     "exception": false,
     "start_time": "2023-10-16T08:26:04.323660",
     "status": "completed"
    },
    "tags": []
   },
   "source": [
    "Notice that by default Pandas sums over columns.\n",
    "\n",
    "We'll need to replace the missing values with something. It doesn't generally matter too much what we choose. We'll use the most common value (the \"*mode*\"). We can use the `mode` function for that. One wrinkle is that it returns more than one row in the case of ties, so we just grab the first row with `iloc[0]`:"
   ]
  },
  {
   "cell_type": "code",
   "execution_count": 5,
   "id": "dc831509",
   "metadata": {
    "execution": {
     "iopub.execute_input": "2023-10-16T08:26:04.589178Z",
     "iopub.status.busy": "2023-10-16T08:26:04.588435Z",
     "iopub.status.idle": "2023-10-16T08:26:04.608931Z",
     "shell.execute_reply": "2023-10-16T08:26:04.608163Z"
    },
    "hidden": true,
    "papermill": {
     "duration": 0.111121,
     "end_time": "2023-10-16T08:26:04.610977",
     "exception": false,
     "start_time": "2023-10-16T08:26:04.499856",
     "status": "completed"
    },
    "tags": []
   },
   "outputs": [
    {
     "data": {
      "text/plain": [
       "PassengerId                      1\n",
       "Survived                       0.0\n",
       "Pclass                         3.0\n",
       "Name           Abbing, Mr. Anthony\n",
       "Sex                           male\n",
       "Age                           24.0\n",
       "SibSp                          0.0\n",
       "Parch                          0.0\n",
       "Ticket                        1601\n",
       "Fare                          8.05\n",
       "Cabin                      B96 B98\n",
       "Embarked                         S\n",
       "Name: 0, dtype: object"
      ]
     },
     "execution_count": 5,
     "metadata": {},
     "output_type": "execute_result"
    }
   ],
   "source": [
    "modes = df.mode().iloc[0]\n",
    "modes"
   ]
  },
  {
   "cell_type": "markdown",
   "id": "3b3acc92",
   "metadata": {
    "hidden": true,
    "papermill": {
     "duration": 0.090717,
     "end_time": "2023-10-16T08:26:04.790821",
     "exception": false,
     "start_time": "2023-10-16T08:26:04.700104",
     "status": "completed"
    },
    "tags": []
   },
   "source": [
    "BTW, it's never a good idea to use functions without understanding them. So be sure to google for anything you're not familiar with. E.g if you want to learn about `iloc` (which is a very important function indeed!) then Google will give you a link to a [great tutorial](https://www.shanelynn.ie/pandas-iloc-loc-select-rows-and-columns-dataframe/).\n",
    "\n",
    "Now that we've got the mode of each column, we can use `fillna` to replace the missing values with the mode of each column. We'll do it \"in place\" -- meaning that we'll change the dataframe itself, rather than returning a new one."
   ]
  },
  {
   "cell_type": "code",
   "execution_count": 6,
   "id": "2ee26a3d",
   "metadata": {
    "execution": {
     "iopub.execute_input": "2023-10-16T08:26:04.971127Z",
     "iopub.status.busy": "2023-10-16T08:26:04.970670Z",
     "iopub.status.idle": "2023-10-16T08:26:04.981405Z",
     "shell.execute_reply": "2023-10-16T08:26:04.980779Z"
    },
    "hidden": true,
    "papermill": {
     "duration": 0.102624,
     "end_time": "2023-10-16T08:26:04.983325",
     "exception": false,
     "start_time": "2023-10-16T08:26:04.880701",
     "status": "completed"
    },
    "tags": []
   },
   "outputs": [],
   "source": [
    "df.fillna(modes, inplace=True)"
   ]
  },
  {
   "cell_type": "markdown",
   "id": "2a67aa01",
   "metadata": {
    "hidden": true,
    "papermill": {
     "duration": 0.089553,
     "end_time": "2023-10-16T08:26:05.165280",
     "exception": false,
     "start_time": "2023-10-16T08:26:05.075727",
     "status": "completed"
    },
    "tags": []
   },
   "source": [
    "We can now check there's no missing values left:"
   ]
  },
  {
   "cell_type": "code",
   "execution_count": 7,
   "id": "63eff06d",
   "metadata": {
    "execution": {
     "iopub.execute_input": "2023-10-16T08:26:05.347338Z",
     "iopub.status.busy": "2023-10-16T08:26:05.346776Z",
     "iopub.status.idle": "2023-10-16T08:26:05.355237Z",
     "shell.execute_reply": "2023-10-16T08:26:05.354374Z"
    },
    "hidden": true,
    "papermill": {
     "duration": 0.100694,
     "end_time": "2023-10-16T08:26:05.357313",
     "exception": false,
     "start_time": "2023-10-16T08:26:05.256619",
     "status": "completed"
    },
    "tags": []
   },
   "outputs": [
    {
     "data": {
      "text/plain": [
       "PassengerId    0\n",
       "Survived       0\n",
       "Pclass         0\n",
       "Name           0\n",
       "Sex            0\n",
       "Age            0\n",
       "SibSp          0\n",
       "Parch          0\n",
       "Ticket         0\n",
       "Fare           0\n",
       "Cabin          0\n",
       "Embarked       0\n",
       "dtype: int64"
      ]
     },
     "execution_count": 7,
     "metadata": {},
     "output_type": "execute_result"
    }
   ],
   "source": [
    "df.isna().sum()"
   ]
  },
  {
   "cell_type": "markdown",
   "id": "604ee21c",
   "metadata": {
    "hidden": true,
    "papermill": {
     "duration": 0.090299,
     "end_time": "2023-10-16T08:26:05.538894",
     "exception": false,
     "start_time": "2023-10-16T08:26:05.448595",
     "status": "completed"
    },
    "tags": []
   },
   "source": [
    "Here's how we get a quick summary of all the numeric columns in the dataset:"
   ]
  },
  {
   "cell_type": "code",
   "execution_count": 8,
   "id": "ddef8578",
   "metadata": {
    "execution": {
     "iopub.execute_input": "2023-10-16T08:26:05.720270Z",
     "iopub.status.busy": "2023-10-16T08:26:05.719575Z",
     "iopub.status.idle": "2023-10-16T08:26:05.752576Z",
     "shell.execute_reply": "2023-10-16T08:26:05.751487Z"
    },
    "hidden": true,
    "papermill": {
     "duration": 0.126714,
     "end_time": "2023-10-16T08:26:05.754543",
     "exception": false,
     "start_time": "2023-10-16T08:26:05.627829",
     "status": "completed"
    },
    "tags": []
   },
   "outputs": [
    {
     "data": {
      "text/html": [
       "<div>\n",
       "<style scoped>\n",
       "    .dataframe tbody tr th:only-of-type {\n",
       "        vertical-align: middle;\n",
       "    }\n",
       "\n",
       "    .dataframe tbody tr th {\n",
       "        vertical-align: top;\n",
       "    }\n",
       "\n",
       "    .dataframe thead th {\n",
       "        text-align: right;\n",
       "    }\n",
       "</style>\n",
       "<table border=\"1\" class=\"dataframe\">\n",
       "  <thead>\n",
       "    <tr style=\"text-align: right;\">\n",
       "      <th></th>\n",
       "      <th>PassengerId</th>\n",
       "      <th>Survived</th>\n",
       "      <th>Pclass</th>\n",
       "      <th>Age</th>\n",
       "      <th>SibSp</th>\n",
       "      <th>Parch</th>\n",
       "      <th>Fare</th>\n",
       "    </tr>\n",
       "  </thead>\n",
       "  <tbody>\n",
       "    <tr>\n",
       "      <th>count</th>\n",
       "      <td>891.000000</td>\n",
       "      <td>891.000000</td>\n",
       "      <td>891.000000</td>\n",
       "      <td>891.000000</td>\n",
       "      <td>891.000000</td>\n",
       "      <td>891.000000</td>\n",
       "      <td>891.000000</td>\n",
       "    </tr>\n",
       "    <tr>\n",
       "      <th>mean</th>\n",
       "      <td>446.000000</td>\n",
       "      <td>0.383838</td>\n",
       "      <td>2.308642</td>\n",
       "      <td>28.566970</td>\n",
       "      <td>0.523008</td>\n",
       "      <td>0.381594</td>\n",
       "      <td>32.204208</td>\n",
       "    </tr>\n",
       "    <tr>\n",
       "      <th>std</th>\n",
       "      <td>257.353842</td>\n",
       "      <td>0.486592</td>\n",
       "      <td>0.836071</td>\n",
       "      <td>13.199572</td>\n",
       "      <td>1.102743</td>\n",
       "      <td>0.806057</td>\n",
       "      <td>49.693429</td>\n",
       "    </tr>\n",
       "    <tr>\n",
       "      <th>min</th>\n",
       "      <td>1.000000</td>\n",
       "      <td>0.000000</td>\n",
       "      <td>1.000000</td>\n",
       "      <td>0.420000</td>\n",
       "      <td>0.000000</td>\n",
       "      <td>0.000000</td>\n",
       "      <td>0.000000</td>\n",
       "    </tr>\n",
       "    <tr>\n",
       "      <th>25%</th>\n",
       "      <td>223.500000</td>\n",
       "      <td>0.000000</td>\n",
       "      <td>2.000000</td>\n",
       "      <td>22.000000</td>\n",
       "      <td>0.000000</td>\n",
       "      <td>0.000000</td>\n",
       "      <td>7.910400</td>\n",
       "    </tr>\n",
       "    <tr>\n",
       "      <th>50%</th>\n",
       "      <td>446.000000</td>\n",
       "      <td>0.000000</td>\n",
       "      <td>3.000000</td>\n",
       "      <td>24.000000</td>\n",
       "      <td>0.000000</td>\n",
       "      <td>0.000000</td>\n",
       "      <td>14.454200</td>\n",
       "    </tr>\n",
       "    <tr>\n",
       "      <th>75%</th>\n",
       "      <td>668.500000</td>\n",
       "      <td>1.000000</td>\n",
       "      <td>3.000000</td>\n",
       "      <td>35.000000</td>\n",
       "      <td>1.000000</td>\n",
       "      <td>0.000000</td>\n",
       "      <td>31.000000</td>\n",
       "    </tr>\n",
       "    <tr>\n",
       "      <th>max</th>\n",
       "      <td>891.000000</td>\n",
       "      <td>1.000000</td>\n",
       "      <td>3.000000</td>\n",
       "      <td>80.000000</td>\n",
       "      <td>8.000000</td>\n",
       "      <td>6.000000</td>\n",
       "      <td>512.329200</td>\n",
       "    </tr>\n",
       "  </tbody>\n",
       "</table>\n",
       "</div>"
      ],
      "text/plain": [
       "       PassengerId    Survived      Pclass         Age       SibSp       Parch        Fare\n",
       "count   891.000000  891.000000  891.000000  891.000000  891.000000  891.000000  891.000000\n",
       "mean    446.000000    0.383838    2.308642   28.566970    0.523008    0.381594   32.204208\n",
       "std     257.353842    0.486592    0.836071   13.199572    1.102743    0.806057   49.693429\n",
       "min       1.000000    0.000000    1.000000    0.420000    0.000000    0.000000    0.000000\n",
       "25%     223.500000    0.000000    2.000000   22.000000    0.000000    0.000000    7.910400\n",
       "50%     446.000000    0.000000    3.000000   24.000000    0.000000    0.000000   14.454200\n",
       "75%     668.500000    1.000000    3.000000   35.000000    1.000000    0.000000   31.000000\n",
       "max     891.000000    1.000000    3.000000   80.000000    8.000000    6.000000  512.329200"
      ]
     },
     "execution_count": 8,
     "metadata": {},
     "output_type": "execute_result"
    }
   ],
   "source": [
    "import numpy as np\n",
    "\n",
    "df.describe(include=(np.number))"
   ]
  },
  {
   "cell_type": "markdown",
   "id": "f845a0a2",
   "metadata": {
    "execution": {
     "iopub.execute_input": "2022-05-13T11:02:34.328433Z",
     "iopub.status.busy": "2022-05-13T11:02:34.327999Z",
     "iopub.status.idle": "2022-05-13T11:02:34.336993Z",
     "shell.execute_reply": "2022-05-13T11:02:34.335466Z",
     "shell.execute_reply.started": "2022-05-13T11:02:34.32838Z"
    },
    "hidden": true,
    "papermill": {
     "duration": 0.091712,
     "end_time": "2023-10-16T08:26:05.936966",
     "exception": false,
     "start_time": "2023-10-16T08:26:05.845254",
     "status": "completed"
    },
    "tags": []
   },
   "source": [
    "We can see that `Fare` contains mainly values of around `0` to `30`, but there's a few really big ones. This is very common with fields contain monetary values, and it can cause problems for our model, because once that column is multiplied by a coefficient later, the few rows with really big values will dominate the result.\n",
    "\n",
    "You can see the issue most clearly visually by looking at a histogram, which shows a long tail to the right (and don't forget: if you're not entirely sure what a histogram is, Google \"[histogram tutorial](https://www.google.com/search?q=histogram+tutorial&oq=histogram+tutorial)\" and do a bit of reading before continuing on):"
   ]
  },
  {
   "cell_type": "code",
   "execution_count": 9,
   "id": "ad6ed348",
   "metadata": {
    "execution": {
     "iopub.execute_input": "2023-10-16T08:26:06.124792Z",
     "iopub.status.busy": "2023-10-16T08:26:06.123799Z",
     "iopub.status.idle": "2023-10-16T08:26:06.391618Z",
     "shell.execute_reply": "2023-10-16T08:26:06.390730Z"
    },
    "hidden": true,
    "papermill": {
     "duration": 0.365458,
     "end_time": "2023-10-16T08:26:06.393693",
     "exception": false,
     "start_time": "2023-10-16T08:26:06.028235",
     "status": "completed"
    },
    "tags": []
   },
   "outputs": [
    {
     "data": {
      "image/png": "[encoded data removed]",
      "text/plain": [
       "<Figure size 432x288 with 1 Axes>"
      ]
     },
     "metadata": {
      "needs_background": "light"
     },
     "output_type": "display_data"
    }
   ],
   "source": [
    "df['Fare'].hist();"
   ]
  },
  {
   "cell_type": "markdown",
   "id": "becfa74a",
   "metadata": {
    "execution": {
     "iopub.execute_input": "2022-05-13T11:02:34.328433Z",
     "iopub.status.busy": "2022-05-13T11:02:34.327999Z",
     "iopub.status.idle": "2022-05-13T11:02:34.336993Z",
     "shell.execute_reply": "2022-05-13T11:02:34.335466Z",
     "shell.execute_reply.started": "2022-05-13T11:02:34.32838Z"
    },
    "hidden": true,
    "papermill": {
     "duration": 0.09049,
     "end_time": "2023-10-16T08:26:06.577327",
     "exception": false,
     "start_time": "2023-10-16T08:26:06.486837",
     "status": "completed"
    },
    "tags": []
   },
   "source": [
    "To fix this, the most common approach is to take the logarithm, which squishes the big numbers and makes the distribution more reasonable. Note, however, that there are zeros in the `Fare` column, and `log(0)` is infinite -- to fix this, we'll simply add `1` to all values first:"
   ]
  },
  {
   "cell_type": "code",
   "execution_count": 10,
   "id": "66878101",
   "metadata": {
    "execution": {
     "iopub.execute_input": "2023-10-16T08:26:06.760512Z",
     "iopub.status.busy": "2023-10-16T08:26:06.760246Z",
     "iopub.status.idle": "2023-10-16T08:26:06.765633Z",
     "shell.execute_reply": "2023-10-16T08:26:06.764673Z"
    },
    "hidden": true,
    "papermill": {
     "duration": 0.099009,
     "end_time": "2023-10-16T08:26:06.767457",
     "exception": false,
     "start_time": "2023-10-16T08:26:06.668448",
     "status": "completed"
    },
    "tags": []
   },
   "outputs": [],
   "source": [
    "df['LogFare'] = np.log(df['Fare']+1)"
   ]
  },
  {
   "cell_type": "markdown",
   "id": "b0621cec",
   "metadata": {
    "hidden": true,
    "papermill": {
     "duration": 0.090789,
     "end_time": "2023-10-16T08:26:06.952604",
     "exception": false,
     "start_time": "2023-10-16T08:26:06.861815",
     "status": "completed"
    },
    "tags": []
   },
   "source": [
    "The histogram now shows a more even distribution of values without the long tail:"
   ]
  },
  {
   "cell_type": "code",
   "execution_count": 11,
   "id": "23e80d64",
   "metadata": {
    "execution": {
     "iopub.execute_input": "2023-10-16T08:26:07.136944Z",
     "iopub.status.busy": "2023-10-16T08:26:07.136669Z",
     "iopub.status.idle": "2023-10-16T08:26:07.359326Z",
     "shell.execute_reply": "2023-10-16T08:26:07.358477Z"
    },
    "hidden": true,
    "papermill": {
     "duration": 0.317345,
     "end_time": "2023-10-16T08:26:07.361393",
     "exception": false,
     "start_time": "2023-10-16T08:26:07.044048",
     "status": "completed"
    },
    "tags": []
   },
   "outputs": [
    {
     "data": {
      "image/png": "[encoded data removed]",
      "text/plain": [
       "<Figure size 432x288 with 1 Axes>"
      ]
     },
     "metadata": {
      "needs_background": "light"
     },
     "output_type": "display_data"
    }
   ],
   "source": [
    "df['LogFare'].hist();"
   ]
  },
  {
   "cell_type": "markdown",
   "id": "6fac82af",
   "metadata": {
    "hidden": true,
    "papermill": {
     "duration": 0.092317,
     "end_time": "2023-10-16T08:26:07.547673",
     "exception": false,
     "start_time": "2023-10-16T08:26:07.455356",
     "status": "completed"
    },
    "tags": []
   },
   "source": [
    "It looks from the `describe()` output like `Pclass` contains just 3 values, which we can confirm by looking at the [Data Dictionary](https://www.kaggle.com/competitions/titanic/data) (which you should always study carefully for any project!) -- "
   ]
  },
  {
   "cell_type": "code",
   "execution_count": 12,
   "id": "2348eaa0",
   "metadata": {
    "execution": {
     "iopub.execute_input": "2023-10-16T08:26:07.733475Z",
     "iopub.status.busy": "2023-10-16T08:26:07.733181Z",
     "iopub.status.idle": "2023-10-16T08:26:07.739025Z",
     "shell.execute_reply": "2023-10-16T08:26:07.738103Z"
    },
    "hidden": true,
    "papermill": {
     "duration": 0.100391,
     "end_time": "2023-10-16T08:26:07.740848",
     "exception": false,
     "start_time": "2023-10-16T08:26:07.640457",
     "status": "completed"
    },
    "tags": []
   },
   "outputs": [
    {
     "data": {
      "text/plain": [
       "[1, 2, 3]"
      ]
     },
     "execution_count": 12,
     "metadata": {},
     "output_type": "execute_result"
    }
   ],
   "source": [
    "pclasses = sorted(df.Pclass.unique())\n",
    "pclasses"
   ]
  },
  {
   "cell_type": "markdown",
   "id": "a019b131",
   "metadata": {
    "hidden": true,
    "papermill": {
     "duration": 0.091057,
     "end_time": "2023-10-16T08:26:07.924554",
     "exception": false,
     "start_time": "2023-10-16T08:26:07.833497",
     "status": "completed"
    },
    "tags": []
   },
   "source": [
    "Here's how we get a quick summary of all the non-numeric columns in the dataset:"
   ]
  },
  {
   "cell_type": "code",
   "execution_count": 13,
   "id": "48133728",
   "metadata": {
    "execution": {
     "iopub.execute_input": "2023-10-16T08:26:08.117122Z",
     "iopub.status.busy": "2023-10-16T08:26:08.116534Z",
     "iopub.status.idle": "2023-10-16T08:26:08.136340Z",
     "shell.execute_reply": "2023-10-16T08:26:08.135637Z"
    },
    "hidden": true,
    "papermill": {
     "duration": 0.114581,
     "end_time": "2023-10-16T08:26:08.138409",
     "exception": false,
     "start_time": "2023-10-16T08:26:08.023828",
     "status": "completed"
    },
    "tags": []
   },
   "outputs": [
    {
     "data": {
      "text/html": [
       "<div>\n",
       "<style scoped>\n",
       "    .dataframe tbody tr th:only-of-type {\n",
       "        vertical-align: middle;\n",
       "    }\n",
       "\n",
       "    .dataframe tbody tr th {\n",
       "        vertical-align: top;\n",
       "    }\n",
       "\n",
       "    .dataframe thead th {\n",
       "        text-align: right;\n",
       "    }\n",
       "</style>\n",
       "<table border=\"1\" class=\"dataframe\">\n",
       "  <thead>\n",
       "    <tr style=\"text-align: right;\">\n",
       "      <th></th>\n",
       "      <th>Name</th>\n",
       "      <th>Sex</th>\n",
       "      <th>Ticket</th>\n",
       "      <th>Cabin</th>\n",
       "      <th>Embarked</th>\n",
       "    </tr>\n",
       "  </thead>\n",
       "  <tbody>\n",
       "    <tr>\n",
       "      <th>count</th>\n",
       "      <td>891</td>\n",
       "      <td>891</td>\n",
       "      <td>891</td>\n",
       "      <td>891</td>\n",
       "      <td>891</td>\n",
       "    </tr>\n",
       "    <tr>\n",
       "      <th>unique</th>\n",
       "      <td>891</td>\n",
       "      <td>2</td>\n",
       "      <td>681</td>\n",
       "      <td>147</td>\n",
       "      <td>3</td>\n",
       "    </tr>\n",
       "    <tr>\n",
       "      <th>top</th>\n",
       "      <td>Braund, Mr. Owen Harris</td>\n",
       "      <td>male</td>\n",
       "      <td>347082</td>\n",
       "      <td>B96 B98</td>\n",
       "      <td>S</td>\n",
       "    </tr>\n",
       "    <tr>\n",
       "      <th>freq</th>\n",
       "      <td>1</td>\n",
       "      <td>577</td>\n",
       "      <td>7</td>\n",
       "      <td>691</td>\n",
       "      <td>646</td>\n",
       "    </tr>\n",
       "  </tbody>\n",
       "</table>\n",
       "</div>"
      ],
      "text/plain": [
       "                           Name   Sex  Ticket    Cabin Embarked\n",
       "count                       891   891     891      891      891\n",
       "unique                      891     2     681      147        3\n",
       "top     Braund, Mr. Owen Harris  male  347082  B96 B98        S\n",
       "freq                          1   577       7      691      646"
      ]
     },
     "execution_count": 13,
     "metadata": {},
     "output_type": "execute_result"
    }
   ],
   "source": [
    "df.describe(include=[object])"
   ]
  },
  {
   "cell_type": "markdown",
   "id": "360bd61c",
   "metadata": {
    "hidden": true,
    "papermill": {
     "duration": 0.09937,
     "end_time": "2023-10-16T08:26:08.354881",
     "exception": false,
     "start_time": "2023-10-16T08:26:08.255511",
     "status": "completed"
    },
    "tags": []
   },
   "source": [
    "Clearly we can't multiply strings like `male` or `S` by coefficients, so we need to replace those with numbers.\n",
    "\n",
    "We do that by creating new columns containing *dummy variables*. A dummy variable is a column that contains a `1` where a particular column contains a particular value, or a `0` otherwise. For instance, we could create a dummy variable for `Sex='male'`, which would be a new column containing `1` for rows where `Sex` is `'male'`, and 0 for rows where it isn't.\n",
    "\n",
    "Pandas can create these automatically using `get_dummies`, which also remove the original columns. We'll create dummy variables for `Pclass`, even although it's numeric, since the numbers `1`, `2`, and `3` correspond to first, second, and third class cabins - not to counts or measures that make sense to multiply by. We'll also create dummies for `Sex` and `Embarked` since we'll want to use those as predictors in our model. On the other hand, `Cabin`, `Name`, and `Ticket` have too many unique values for it to make sense creating dummy variables for them."
   ]
  },
  {
   "cell_type": "code",
   "execution_count": 14,
   "id": "1af8665d",
   "metadata": {
    "execution": {
     "iopub.execute_input": "2023-10-16T08:26:08.539435Z",
     "iopub.status.busy": "2023-10-16T08:26:08.539109Z",
     "iopub.status.idle": "2023-10-16T08:26:08.552460Z",
     "shell.execute_reply": "2023-10-16T08:26:08.551494Z"
    },
    "hidden": true,
    "papermill": {
     "duration": 0.1078,
     "end_time": "2023-10-16T08:26:08.554461",
     "exception": false,
     "start_time": "2023-10-16T08:26:08.446661",
     "status": "completed"
    },
    "tags": []
   },
   "outputs": [
    {
     "data": {
      "text/plain": [
       "Index(['PassengerId', 'Survived', 'Name', 'Age', 'SibSp', 'Parch', 'Ticket', 'Fare', 'Cabin', 'LogFare', 'Sex_female', 'Sex_male',\n",
       "       'Pclass_1', 'Pclass_2', 'Pclass_3', 'Embarked_C', 'Embarked_Q', 'Embarked_S'],\n",
       "      dtype='object')"
      ]
     },
     "execution_count": 14,
     "metadata": {},
     "output_type": "execute_result"
    }
   ],
   "source": [
    "df = pd.get_dummies(df, columns=[\"Sex\",\"Pclass\",\"Embarked\"])\n",
    "df.columns"
   ]
  },
  {
   "cell_type": "markdown",
   "id": "e65b945f",
   "metadata": {
    "hidden": true,
    "papermill": {
     "duration": 0.09263,
     "end_time": "2023-10-16T08:26:08.740291",
     "exception": false,
     "start_time": "2023-10-16T08:26:08.647661",
     "status": "completed"
    },
    "tags": []
   },
   "source": [
    "We can see that 5 columns have been added to the end -- one for each of the possible values of each of the three columns we requested, and that those three requested columns have been removed.\n",
    "\n",
    "Here's what the first few rows of those newly added columns look like:"
   ]
  },
  {
   "cell_type": "code",
   "execution_count": 15,
   "id": "7f2002dc",
   "metadata": {
    "execution": {
     "iopub.execute_input": "2023-10-16T08:26:08.930397Z",
     "iopub.status.busy": "2023-10-16T08:26:08.929861Z",
     "iopub.status.idle": "2023-10-16T08:26:08.940896Z",
     "shell.execute_reply": "2023-10-16T08:26:08.940289Z"
    },
    "hidden": true,
    "papermill": {
     "duration": 0.108192,
     "end_time": "2023-10-16T08:26:08.942901",
     "exception": false,
     "start_time": "2023-10-16T08:26:08.834709",
     "status": "completed"
    },
    "tags": []
   },
   "outputs": [
    {
     "data": {
      "text/html": [
       "<div>\n",
       "<style scoped>\n",
       "    .dataframe tbody tr th:only-of-type {\n",
       "        vertical-align: middle;\n",
       "    }\n",
       "\n",
       "    .dataframe tbody tr th {\n",
       "        vertical-align: top;\n",
       "    }\n",
       "\n",
       "    .dataframe thead th {\n",
       "        text-align: right;\n",
       "    }\n",
       "</style>\n",
       "<table border=\"1\" class=\"dataframe\">\n",
       "  <thead>\n",
       "    <tr style=\"text-align: right;\">\n",
       "      <th></th>\n",
       "      <th>Sex_male</th>\n",
       "      <th>Sex_female</th>\n",
       "      <th>Pclass_1</th>\n",
       "      <th>Pclass_2</th>\n",
       "      <th>Pclass_3</th>\n",
       "      <th>Embarked_C</th>\n",
       "      <th>Embarked_Q</th>\n",
       "      <th>Embarked_S</th>\n",
       "    </tr>\n",
       "  </thead>\n",
       "  <tbody>\n",
       "    <tr>\n",
       "      <th>0</th>\n",
       "      <td>1</td>\n",
       "      <td>0</td>\n",
       "      <td>0</td>\n",
       "      <td>0</td>\n",
       "      <td>1</td>\n",
       "      <td>0</td>\n",
       "      <td>0</td>\n",
       "      <td>1</td>\n",
       "    </tr>\n",
       "    <tr>\n",
       "      <th>1</th>\n",
       "      <td>0</td>\n",
       "      <td>1</td>\n",
       "      <td>1</td>\n",
       "      <td>0</td>\n",
       "      <td>0</td>\n",
       "      <td>1</td>\n",
       "      <td>0</td>\n",
       "      <td>0</td>\n",
       "    </tr>\n",
       "    <tr>\n",
       "      <th>2</th>\n",
       "      <td>0</td>\n",
       "      <td>1</td>\n",
       "      <td>0</td>\n",
       "      <td>0</td>\n",
       "      <td>1</td>\n",
       "      <td>0</td>\n",
       "      <td>0</td>\n",
       "      <td>1</td>\n",
       "    </tr>\n",
       "    <tr>\n",
       "      <th>3</th>\n",
       "      <td>0</td>\n",
       "      <td>1</td>\n",
       "      <td>1</td>\n",
       "      <td>0</td>\n",
       "      <td>0</td>\n",
       "      <td>0</td>\n",
       "      <td>0</td>\n",
       "      <td>1</td>\n",
       "    </tr>\n",
       "    <tr>\n",
       "      <th>4</th>\n",
       "      <td>1</td>\n",
       "      <td>0</td>\n",
       "      <td>0</td>\n",
       "      <td>0</td>\n",
       "      <td>1</td>\n",
       "      <td>0</td>\n",
       "      <td>0</td>\n",
       "      <td>1</td>\n",
       "    </tr>\n",
       "  </tbody>\n",
       "</table>\n",
       "</div>"
      ],
      "text/plain": [
       "   Sex_male  Sex_female  Pclass_1  Pclass_2  Pclass_3  Embarked_C  Embarked_Q  Embarked_S\n",
       "0         1           0         0         0         1           0           0           1\n",
       "1         0           1         1         0         0           1           0           0\n",
       "2         0           1         0         0         1           0           0           1\n",
       "3         0           1         1         0         0           0           0           1\n",
       "4         1           0         0         0         1           0           0           1"
      ]
     },
     "execution_count": 15,
     "metadata": {},
     "output_type": "execute_result"
    }
   ],
   "source": [
    "added_cols = ['Sex_male', 'Sex_female', 'Pclass_1', 'Pclass_2', 'Pclass_3', 'Embarked_C', 'Embarked_Q', 'Embarked_S']\n",
    "df[added_cols].head()"
   ]
  },
  {
   "cell_type": "markdown",
   "id": "78499802",
   "metadata": {
    "hidden": true,
    "papermill": {
     "duration": 0.094223,
     "end_time": "2023-10-16T08:26:09.131394",
     "exception": false,
     "start_time": "2023-10-16T08:26:09.037171",
     "status": "completed"
    },
    "tags": []
   },
   "source": [
    "Now we can create our independent (predictors) and dependent (target) variables. They both need to be PyTorch tensors. Our dependent variable is `Survived`:"
   ]
  },
  {
   "cell_type": "code",
   "execution_count": 16,
   "id": "123be11a",
   "metadata": {
    "execution": {
     "iopub.execute_input": "2023-10-16T08:26:09.323628Z",
     "iopub.status.busy": "2023-10-16T08:26:09.323131Z",
     "iopub.status.idle": "2023-10-16T08:26:09.337524Z",
     "shell.execute_reply": "2023-10-16T08:26:09.336274Z"
    },
    "hidden": true,
    "papermill": {
     "duration": 0.115599,
     "end_time": "2023-10-16T08:26:09.339821",
     "exception": false,
     "start_time": "2023-10-16T08:26:09.224222",
     "status": "completed"
    },
    "tags": []
   },
   "outputs": [],
   "source": [
    "from torch import tensor\n",
    "\n",
    "t_dep = tensor(df.Survived)"
   ]
  },
  {
   "cell_type": "markdown",
   "id": "27a875da",
   "metadata": {
    "hidden": true,
    "papermill": {
     "duration": 0.092387,
     "end_time": "2023-10-16T08:26:09.524473",
     "exception": false,
     "start_time": "2023-10-16T08:26:09.432086",
     "status": "completed"
    },
    "tags": []
   },
   "source": [
    "Our independent variables are all the continuous variables of interest plus all the dummy variables we just created:"
   ]
  },
  {
   "cell_type": "code",
   "execution_count": 17,
   "id": "83760104",
   "metadata": {
    "execution": {
     "iopub.execute_input": "2023-10-16T08:26:09.711841Z",
     "iopub.status.busy": "2023-10-16T08:26:09.711357Z",
     "iopub.status.idle": "2023-10-16T08:26:09.811171Z",
     "shell.execute_reply": "2023-10-16T08:26:09.810253Z"
    },
    "hidden": true,
    "papermill": {
     "duration": 0.195724,
     "end_time": "2023-10-16T08:26:09.813298",
     "exception": false,
     "start_time": "2023-10-16T08:26:09.617574",
     "status": "completed"
    },
    "tags": []
   },
   "outputs": [
    {
     "data": {
      "text/plain": [
       "tensor([[22.0000,  1.0000,  0.0000,  2.1102,  1.0000,  0.0000,  0.0000,  0.0000,  1.0000,  0.0000,  0.0000,  1.0000],\n",
       "        [38.0000,  1.0000,  0.0000,  4.2806,  0.0000,  1.0000,  1.0000,  0.0000,  0.0000,  1.0000,  0.0000,  0.0000],\n",
       "        [26.0000,  0.0000,  0.0000,  2.1889,  0.0000,  1.0000,  0.0000,  0.0000,  1.0000,  0.0000,  0.0000,  1.0000],\n",
       "        [35.0000,  1.0000,  0.0000,  3.9908,  0.0000,  1.0000,  1.0000,  0.0000,  0.0000,  0.0000,  0.0000,  1.0000],\n",
       "        [35.0000,  0.0000,  0.0000,  2.2028,  1.0000,  0.0000,  0.0000,  0.0000,  1.0000,  0.0000,  0.0000,  1.0000],\n",
       "        [24.0000,  0.0000,  0.0000,  2.2469,  1.0000,  0.0000,  0.0000,  0.0000,  1.0000,  0.0000,  1.0000,  0.0000],\n",
       "        [54.0000,  0.0000,  0.0000,  3.9677,  1.0000,  0.0000,  1.0000,  0.0000,  0.0000,  0.0000,  0.0000,  1.0000],\n",
       "        ...,\n",
       "        [25.0000,  0.0000,  0.0000,  2.0857,  1.0000,  0.0000,  0.0000,  0.0000,  1.0000,  0.0000,  0.0000,  1.0000],\n",
       "        [39.0000,  0.0000,  5.0000,  3.4054,  0.0000,  1.0000,  0.0000,  0.0000,  1.0000,  0.0000,  1.0000,  0.0000],\n",
       "        [27.0000,  0.0000,  0.0000,  2.6391,  1.0000,  0.0000,  0.0000,  1.0000,  0.0000,  0.0000,  0.0000,  1.0000],\n",
       "        [19.0000,  0.0000,  0.0000,  3.4340,  0.0000,  1.0000,  1.0000,  0.0000,  0.0000,  0.0000,  0.0000,  1.0000],\n",
       "        [24.0000,  1.0000,  2.0000,  3.1966,  0.0000,  1.0000,  0.0000,  0.0000,  1.0000,  0.0000,  0.0000,  1.0000],\n",
       "        [26.0000,  0.0000,  0.0000,  3.4340,  1.0000,  0.0000,  1.0000,  0.0000,  0.0000,  1.0000,  0.0000,  0.0000],\n",
       "        [32.0000,  0.0000,  0.0000,  2.1691,  1.0000,  0.0000,  0.0000,  0.0000,  1.0000,  0.0000,  1.0000,  0.0000]])"
      ]
     },
     "execution_count": 17,
     "metadata": {},
     "output_type": "execute_result"
    }
   ],
   "source": [
    "indep_cols = ['Age', 'SibSp', 'Parch', 'LogFare'] + added_cols\n",
    "\n",
    "t_indep = tensor(df[indep_cols].values, dtype=torch.float)\n",
    "t_indep"
   ]
  },
  {
   "cell_type": "markdown",
   "id": "8bc425f4",
   "metadata": {
    "hidden": true,
    "papermill": {
     "duration": 0.093155,
     "end_time": "2023-10-16T08:26:10.001457",
     "exception": false,
     "start_time": "2023-10-16T08:26:09.908302",
     "status": "completed"
    },
    "tags": []
   },
   "source": [
    "Here's the number of rows and columns we have for our independent variables:"
   ]
  },
  {
   "cell_type": "code",
   "execution_count": 18,
   "id": "2ca6ebe2",
   "metadata": {
    "execution": {
     "iopub.execute_input": "2023-10-16T08:26:10.191096Z",
     "iopub.status.busy": "2023-10-16T08:26:10.190566Z",
     "iopub.status.idle": "2023-10-16T08:26:10.195089Z",
     "shell.execute_reply": "2023-10-16T08:26:10.194564Z"
    },
    "hidden": true,
    "papermill": {
     "duration": 0.099706,
     "end_time": "2023-10-16T08:26:10.196668",
     "exception": false,
     "start_time": "2023-10-16T08:26:10.096962",
     "status": "completed"
    },
    "tags": []
   },
   "outputs": [
    {
     "data": {
      "text/plain": [
       "torch.Size([891, 12])"
      ]
     },
     "execution_count": 18,
     "metadata": {},
     "output_type": "execute_result"
    }
   ],
   "source": [
    "t_indep.shape"
   ]
  },
  {
   "cell_type": "markdown",
   "id": "8cd8b78e",
   "metadata": {
    "papermill": {
     "duration": 0.092461,
     "end_time": "2023-10-16T08:26:10.383408",
     "exception": false,
     "start_time": "2023-10-16T08:26:10.290947",
     "status": "completed"
    },
    "tags": []
   },
   "source": [
    "## Setting up a linear model"
   ]
  },
  {
   "cell_type": "markdown",
   "id": "fc1473fd",
   "metadata": {
    "papermill": {
     "duration": 0.092604,
     "end_time": "2023-10-16T08:26:10.569072",
     "exception": false,
     "start_time": "2023-10-16T08:26:10.476468",
     "status": "completed"
    },
    "tags": []
   },
   "source": [
    "Now that we've got a matrix of independent variables and a dependent variable vector, we can work on calculating our predictions and our loss. In this section, we're going to manually do a single step of calculating predictions and loss for every row of our data.\n",
    "\n",
    "Our first model will be a simple linear model. We'll need a coefficient for each column in `t_indep`. We'll pick random numbers in the range `(-0.5,0.5)`, and set our manual seed so that my explanations in the prose in this notebook will be consistent with what you see when you run it."
   ]
  },
  {
   "cell_type": "code",
   "execution_count": 19,
   "id": "7f8f63a7",
   "metadata": {
    "execution": {
     "iopub.execute_input": "2023-10-16T08:26:10.760059Z",
     "iopub.status.busy": "2023-10-16T08:26:10.759638Z",
     "iopub.status.idle": "2023-10-16T08:26:10.778702Z",
     "shell.execute_reply": "2023-10-16T08:26:10.777877Z"
    },
    "papermill": {
     "duration": 0.116681,
     "end_time": "2023-10-16T08:26:10.780839",
     "exception": false,
     "start_time": "2023-10-16T08:26:10.664158",
     "status": "completed"
    },
    "tags": []
   },
   "outputs": [
    {
     "data": {
      "text/plain": [
       "tensor([-0.4629,  0.1386,  0.2409, -0.2262, -0.2632, -0.3147,  0.4876,  0.3136,  0.2799, -0.4392,  0.2103,  0.3625])"
      ]
     },
     "execution_count": 19,
     "metadata": {},
     "output_type": "execute_result"
    }
   ],
   "source": [
    "torch.manual_seed(442)\n",
    "\n",
    "n_coeff = t_indep.shape[1]\n",
    "coeffs = torch.rand(n_coeff)-0.5\n",
    "coeffs"
   ]
  },
  {
   "cell_type": "markdown",
   "id": "b5667810",
   "metadata": {
    "papermill": {
     "duration": 0.096449,
     "end_time": "2023-10-16T08:26:10.976603",
     "exception": false,
     "start_time": "2023-10-16T08:26:10.880154",
     "status": "completed"
    },
    "tags": []
   },
   "source": [
    "Our predictions will be calculated by multiplying each row by the coefficients, and adding them up. One interesting point here is that we don't need a separate constant term (also known as a \"bias\" or \"intercept\" term), or a column of all `1`s to give the same effect has having a constant term. That's because our dummy variables already cover the entire dataset -- e.g. there's a column for \"male\" and a column for \"female\", and everyone in the dataset is in exactly one of these; therefore, we don't need a separate intercept term to cover rows that aren't otherwise part of a column.\n",
    "\n",
    "Here's what the multiplication looks like:"
   ]
  },
  {
   "cell_type": "code",
   "execution_count": 20,
   "id": "242a5dc4",
   "metadata": {
    "execution": {
     "iopub.execute_input": "2023-10-16T08:26:11.169469Z",
     "iopub.status.busy": "2023-10-16T08:26:11.168758Z",
     "iopub.status.idle": "2023-10-16T08:26:11.179380Z",
     "shell.execute_reply": "2023-10-16T08:26:11.178293Z"
    },
    "papermill": {
     "duration": 0.10822,
     "end_time": "2023-10-16T08:26:11.181721",
     "exception": false,
     "start_time": "2023-10-16T08:26:11.073501",
     "status": "completed"
    },
    "tags": []
   },
   "outputs": [
    {
     "data": {
      "text/plain": [
       "tensor([[-10.1838,   0.1386,   0.0000,  -0.4772,  -0.2632,  -0.0000,   0.0000,   0.0000,   0.2799,  -0.0000,   0.0000,   0.3625],\n",
       "        [-17.5902,   0.1386,   0.0000,  -0.9681,  -0.0000,  -0.3147,   0.4876,   0.0000,   0.0000,  -0.4392,   0.0000,   0.0000],\n",
       "        [-12.0354,   0.0000,   0.0000,  -0.4950,  -0.0000,  -0.3147,   0.0000,   0.0000,   0.2799,  -0.0000,   0.0000,   0.3625],\n",
       "        [-16.2015,   0.1386,   0.0000,  -0.9025,  -0.0000,  -0.3147,   0.4876,   0.0000,   0.0000,  -0.0000,   0.0000,   0.3625],\n",
       "        [-16.2015,   0.0000,   0.0000,  -0.4982,  -0.2632,  -0.0000,   0.0000,   0.0000,   0.2799,  -0.0000,   0.0000,   0.3625],\n",
       "        [-11.1096,   0.0000,   0.0000,  -0.5081,  -0.2632,  -0.0000,   0.0000,   0.0000,   0.2799,  -0.0000,   0.2103,   0.0000],\n",
       "        [-24.9966,   0.0000,   0.0000,  -0.8973,  -0.2632,  -0.0000,   0.4876,   0.0000,   0.0000,  -0.0000,   0.0000,   0.3625],\n",
       "        ...,\n",
       "        [-11.5725,   0.0000,   0.0000,  -0.4717,  -0.2632,  -0.0000,   0.0000,   0.0000,   0.2799,  -0.0000,   0.0000,   0.3625],\n",
       "        [-18.0531,   0.0000,   1.2045,  -0.7701,  -0.0000,  -0.3147,   0.0000,   0.0000,   0.2799,  -0.0000,   0.2103,   0.0000],\n",
       "        [-12.4983,   0.0000,   0.0000,  -0.5968,  -0.2632,  -0.0000,   0.0000,   0.3136,   0.0000,  -0.0000,   0.0000,   0.3625],\n",
       "        [ -8.7951,   0.0000,   0.0000,  -0.7766,  -0.0000,  -0.3147,   0.4876,   0.0000,   0.0000,  -0.0000,   0.0000,   0.3625],\n",
       "        [-11.1096,   0.1386,   0.4818,  -0.7229,  -0.0000,  -0.3147,   0.0000,   0.0000,   0.2799,  -0.0000,   0.0000,   0.3625],\n",
       "        [-12.0354,   0.0000,   0.0000,  -0.7766,  -0.2632,  -0.0000,   0.4876,   0.0000,   0.0000,  -0.4392,   0.0000,   0.0000],\n",
       "        [-14.8128,   0.0000,   0.0000,  -0.4905,  -0.2632,  -0.0000,   0.0000,   0.0000,   0.2799,  -0.0000,   0.2103,   0.0000]])"
      ]
     },
     "execution_count": 20,
     "metadata": {},
     "output_type": "execute_result"
    }
   ],
   "source": [
    "t_indep*coeffs"
   ]
  },
  {
   "cell_type": "markdown",
   "id": "2140be51",
   "metadata": {
    "papermill": {
     "duration": 0.09296,
     "end_time": "2023-10-16T08:26:11.370692",
     "exception": false,
     "start_time": "2023-10-16T08:26:11.277732",
     "status": "completed"
    },
    "tags": []
   },
   "source": [
    "We can see we've got a problem here. The sums of each row will be dominated by the first column, which is `Age`, since that's bigger on average than all the others.\n",
    "\n",
    "Let's make all the columns contain numbers from `0` to `1`, by dividing each column by its `max()`:"
   ]
  },
  {
   "cell_type": "code",
   "execution_count": 21,
   "id": "870bf979",
   "metadata": {
    "execution": {
     "iopub.execute_input": "2023-10-16T08:26:11.559625Z",
     "iopub.status.busy": "2023-10-16T08:26:11.559353Z",
     "iopub.status.idle": "2023-10-16T08:26:11.565716Z",
     "shell.execute_reply": "2023-10-16T08:26:11.565086Z"
    },
    "papermill": {
     "duration": 0.102614,
     "end_time": "2023-10-16T08:26:11.567643",
     "exception": false,
     "start_time": "2023-10-16T08:26:11.465029",
     "status": "completed"
    },
    "tags": []
   },
   "outputs": [],
   "source": [
    "vals,indices = t_indep.max(dim=0)\n",
    "t_indep = t_indep / vals"
   ]
  },
  {
   "cell_type": "markdown",
   "id": "a4c6bef3",
   "metadata": {
    "papermill": {
     "duration": 0.093601,
     "end_time": "2023-10-16T08:26:11.761601",
     "exception": false,
     "start_time": "2023-10-16T08:26:11.668000",
     "status": "completed"
    },
    "tags": []
   },
   "source": [
    "As we see, that removes the problem of one column dominating all the others:"
   ]
  },
  {
   "cell_type": "code",
   "execution_count": 22,
   "id": "c7920a86",
   "metadata": {
    "execution": {
     "iopub.execute_input": "2023-10-16T08:26:11.953686Z",
     "iopub.status.busy": "2023-10-16T08:26:11.953413Z",
     "iopub.status.idle": "2023-10-16T08:26:11.959728Z",
     "shell.execute_reply": "2023-10-16T08:26:11.958884Z"
    },
    "papermill": {
     "duration": 0.105176,
     "end_time": "2023-10-16T08:26:11.961601",
     "exception": false,
     "start_time": "2023-10-16T08:26:11.856425",
     "status": "completed"
    },
    "tags": []
   },
   "outputs": [
    {
     "data": {
      "text/plain": [
       "tensor([[-0.1273,  0.0173,  0.0000, -0.0765, -0.2632, -0.0000,  0.0000,  0.0000,  0.2799, -0.0000,  0.0000,  0.3625],\n",
       "        [-0.2199,  0.0173,  0.0000, -0.1551, -0.0000, -0.3147,  0.4876,  0.0000,  0.0000, -0.4392,  0.0000,  0.0000],\n",
       "        [-0.1504,  0.0000,  0.0000, -0.0793, -0.0000, -0.3147,  0.0000,  0.0000,  0.2799, -0.0000,  0.0000,  0.3625],\n",
       "        [-0.2025,  0.0173,  0.0000, -0.1446, -0.0000, -0.3147,  0.4876,  0.0000,  0.0000, -0.0000,  0.0000,  0.3625],\n",
       "        [-0.2025,  0.0000,  0.0000, -0.0798, -0.2632, -0.0000,  0.0000,  0.0000,  0.2799, -0.0000,  0.0000,  0.3625],\n",
       "        [-0.1389,  0.0000,  0.0000, -0.0814, -0.2632, -0.0000,  0.0000,  0.0000,  0.2799, -0.0000,  0.2103,  0.0000],\n",
       "        [-0.3125,  0.0000,  0.0000, -0.1438, -0.2632, -0.0000,  0.4876,  0.0000,  0.0000, -0.0000,  0.0000,  0.3625],\n",
       "        ...,\n",
       "        [-0.1447,  0.0000,  0.0000, -0.0756, -0.2632, -0.0000,  0.0000,  0.0000,  0.2799, -0.0000,  0.0000,  0.3625],\n",
       "        [-0.2257,  0.0000,  0.2008, -0.1234, -0.0000, -0.3147,  0.0000,  0.0000,  0.2799, -0.0000,  0.2103,  0.0000],\n",
       "        [-0.1562,  0.0000,  0.0000, -0.0956, -0.2632, -0.0000,  0.0000,  0.3136,  0.0000, -0.0000,  0.0000,  0.3625],\n",
       "        [-0.1099,  0.0000,  0.0000, -0.1244, -0.0000, -0.3147,  0.4876,  0.0000,  0.0000, -0.0000,  0.0000,  0.3625],\n",
       "        [-0.1389,  0.0173,  0.0803, -0.1158, -0.0000, -0.3147,  0.0000,  0.0000,  0.2799, -0.0000,  0.0000,  0.3625],\n",
       "        [-0.1504,  0.0000,  0.0000, -0.1244, -0.2632, -0.0000,  0.4876,  0.0000,  0.0000, -0.4392,  0.0000,  0.0000],\n",
       "        [-0.1852,  0.0000,  0.0000, -0.0786, -0.2632, -0.0000,  0.0000,  0.0000,  0.2799, -0.0000,  0.2103,  0.0000]])"
      ]
     },
     "execution_count": 22,
     "metadata": {},
     "output_type": "execute_result"
    }
   ],
   "source": [
    "t_indep*coeffs"
   ]
  },
  {
   "cell_type": "markdown",
   "id": "d349bdee",
   "metadata": {
    "papermill": {
     "duration": 0.098204,
     "end_time": "2023-10-16T08:26:12.156382",
     "exception": false,
     "start_time": "2023-10-16T08:26:12.058178",
     "status": "completed"
    },
    "tags": []
   },
   "source": [
    "One thing you hopefully noticed is how amazingly cool this line of code is:\n",
    "\n",
    "    t_indep = t_indep / vals\n",
    "\n",
    "That is dividing a matrix by a vector -- what on earth does that mean?!? The trick here is that we're taking advantage of a technique in numpy and PyTorch (and many other languages, going all the way back to APL) called [broadcasting](https://numpy.org/doc/stable/user/basics.broadcasting.html). In short, this acts as if there's a separate copy of the vector for every row of the matrix, so it divides each row of the matrix by the vector. In practice, it doesn't actually make any copies, and does the whole thing in a highly optimized way, taking full advantage of modern CPUs (or, indeed, GPUs, if we're using them). Broadcasting is one of the most important techniques for making your code concise, maintainable, and fast, so it's well worth studying and practicing.\n",
    "\n",
    "We can now create predictions from our linear model, by adding up the rows of the product:"
   ]
  },
  {
   "cell_type": "code",
   "execution_count": 23,
   "id": "0a53eec1",
   "metadata": {
    "execution": {
     "iopub.execute_input": "2023-10-16T08:26:12.349972Z",
     "iopub.status.busy": "2023-10-16T08:26:12.349388Z",
     "iopub.status.idle": "2023-10-16T08:26:12.357306Z",
     "shell.execute_reply": "2023-10-16T08:26:12.356554Z"
    },
    "papermill": {
     "duration": 0.107372,
     "end_time": "2023-10-16T08:26:12.359544",
     "exception": false,
     "start_time": "2023-10-16T08:26:12.252172",
     "status": "completed"
    },
    "tags": []
   },
   "outputs": [],
   "source": [
    "preds = (t_indep*coeffs).sum(axis=1)"
   ]
  },
  {
   "cell_type": "markdown",
   "id": "fff6fe0c",
   "metadata": {
    "papermill": {
     "duration": 0.094411,
     "end_time": "2023-10-16T08:26:12.550380",
     "exception": false,
     "start_time": "2023-10-16T08:26:12.455969",
     "status": "completed"
    },
    "tags": []
   },
   "source": [
    "Let's take a look at the first few:"
   ]
  },
  {
   "cell_type": "code",
   "execution_count": 24,
   "id": "e5313a1f",
   "metadata": {
    "execution": {
     "iopub.execute_input": "2023-10-16T08:26:12.744245Z",
     "iopub.status.busy": "2023-10-16T08:26:12.743837Z",
     "iopub.status.idle": "2023-10-16T08:26:12.750885Z",
     "shell.execute_reply": "2023-10-16T08:26:12.750141Z"
    },
    "papermill": {
     "duration": 0.105527,
     "end_time": "2023-10-16T08:26:12.752939",
     "exception": false,
     "start_time": "2023-10-16T08:26:12.647412",
     "status": "completed"
    },
    "tags": []
   },
   "outputs": [
    {
     "data": {
      "text/plain": [
       "tensor([ 0.1927, -0.6239,  0.0979,  0.2056,  0.0968,  0.0066,  0.1306,  0.3476,  0.1613, -0.6285])"
      ]
     },
     "execution_count": 24,
     "metadata": {},
     "output_type": "execute_result"
    }
   ],
   "source": [
    "preds[:10]"
   ]
  },
  {
   "cell_type": "markdown",
   "id": "8a5e3e1b",
   "metadata": {
    "papermill": {
     "duration": 0.09633,
     "end_time": "2023-10-16T08:26:12.947027",
     "exception": false,
     "start_time": "2023-10-16T08:26:12.850697",
     "status": "completed"
    },
    "tags": []
   },
   "source": [
    "Of course, these predictions aren't going to be any use, since our coefficients are random -- they're just a starting point for our gradient descent process.\n",
    "\n",
    "To do gradient descent, we need a loss function. Taking the average error of the rows (i.e. the absolute value of the difference between the prediction and the dependent) is generally a reasonable approach:"
   ]
  },
  {
   "cell_type": "code",
   "execution_count": 25,
   "id": "df207f0b",
   "metadata": {
    "execution": {
     "iopub.execute_input": "2023-10-16T08:26:13.141445Z",
     "iopub.status.busy": "2023-10-16T08:26:13.141133Z",
     "iopub.status.idle": "2023-10-16T08:26:13.151535Z",
     "shell.execute_reply": "2023-10-16T08:26:13.150748Z"
    },
    "papermill": {
     "duration": 0.110819,
     "end_time": "2023-10-16T08:26:13.153489",
     "exception": false,
     "start_time": "2023-10-16T08:26:13.042670",
     "status": "completed"
    },
    "tags": []
   },
   "outputs": [
    {
     "data": {
      "text/plain": [
       "tensor(0.5382)"
      ]
     },
     "execution_count": 25,
     "metadata": {},
     "output_type": "execute_result"
    }
   ],
   "source": [
    "loss = torch.abs(preds-t_dep).mean()\n",
    "loss"
   ]
  },
  {
   "cell_type": "markdown",
   "id": "d7e47f12",
   "metadata": {
    "papermill": {
     "duration": 0.095305,
     "end_time": "2023-10-16T08:26:13.344304",
     "exception": false,
     "start_time": "2023-10-16T08:26:13.248999",
     "status": "completed"
    },
    "tags": []
   },
   "source": [
    "Now that we've tested out a way of calculating predictions, and loss, let's pop them into functions to make life easier:"
   ]
  },
  {
   "cell_type": "code",
   "execution_count": 26,
   "id": "08ed15b9",
   "metadata": {
    "execution": {
     "iopub.execute_input": "2023-10-16T08:26:13.535264Z",
     "iopub.status.busy": "2023-10-16T08:26:13.534676Z",
     "iopub.status.idle": "2023-10-16T08:26:13.539139Z",
     "shell.execute_reply": "2023-10-16T08:26:13.538585Z"
    },
    "papermill": {
     "duration": 0.102189,
     "end_time": "2023-10-16T08:26:13.541018",
     "exception": false,
     "start_time": "2023-10-16T08:26:13.438829",
     "status": "completed"
    },
    "tags": []
   },
   "outputs": [],
   "source": [
    "def calc_preds(coeffs, indeps): return (indeps*coeffs).sum(axis=1)\n",
    "def calc_loss(coeffs, indeps, deps): return torch.abs(calc_preds(coeffs, indeps)-deps).mean()"
   ]
  },
  {
   "cell_type": "markdown",
   "id": "60564d12",
   "metadata": {
    "papermill": {
     "duration": 0.096949,
     "end_time": "2023-10-16T08:26:13.732760",
     "exception": false,
     "start_time": "2023-10-16T08:26:13.635811",
     "status": "completed"
    },
    "tags": []
   },
   "source": [
    "## Doing a gradient descent step"
   ]
  },
  {
   "cell_type": "markdown",
   "id": "ca6ce255",
   "metadata": {
    "papermill": {
     "duration": 0.096649,
     "end_time": "2023-10-16T08:26:13.924520",
     "exception": false,
     "start_time": "2023-10-16T08:26:13.827871",
     "status": "completed"
    },
    "tags": []
   },
   "source": [
    "In this section, we're going to do a single \"epoch\" of gradient descent manually. The only thing we're going to automate is calculating gradients, because let's face it that's pretty tedious and entirely pointless to do by hand! To get PyTorch to calculate gradients, we'll need to call `requires_grad_()` on our `coeffs` (if you're not sure why, review the previous notebook, [How does a neural net really work?](https://www.kaggle.com/code/jhoward/how-does-a-neural-net-really-work), before continuing):"
   ]
  },
  {
   "cell_type": "code",
   "execution_count": 27,
   "id": "4329654a",
   "metadata": {
    "execution": {
     "iopub.execute_input": "2023-10-16T08:26:14.118829Z",
     "iopub.status.busy": "2023-10-16T08:26:14.118266Z",
     "iopub.status.idle": "2023-10-16T08:26:14.124819Z",
     "shell.execute_reply": "2023-10-16T08:26:14.123745Z"
    },
    "papermill": {
     "duration": 0.10667,
     "end_time": "2023-10-16T08:26:14.126783",
     "exception": false,
     "start_time": "2023-10-16T08:26:14.020113",
     "status": "completed"
    },
    "tags": []
   },
   "outputs": [
    {
     "data": {
      "text/plain": [
       "tensor([-0.4629,  0.1386,  0.2409, -0.2262, -0.2632, -0.3147,  0.4876,  0.3136,  0.2799, -0.4392,  0.2103,  0.3625], requires_grad=True)"
      ]
     },
     "execution_count": 27,
     "metadata": {},
     "output_type": "execute_result"
    }
   ],
   "source": [
    "coeffs.requires_grad_()"
   ]
  },
  {
   "cell_type": "markdown",
   "id": "8c34527c",
   "metadata": {
    "papermill": {
     "duration": 0.097295,
     "end_time": "2023-10-16T08:26:14.320081",
     "exception": false,
     "start_time": "2023-10-16T08:26:14.222786",
     "status": "completed"
    },
    "tags": []
   },
   "source": [
    "Now when we calculate our loss, PyTorch will keep track of all the steps, so we'll be able to get the gradients afterwards:"
   ]
  },
  {
   "cell_type": "code",
   "execution_count": 28,
   "id": "5435718e",
   "metadata": {
    "execution": {
     "iopub.execute_input": "2023-10-16T08:26:14.513831Z",
     "iopub.status.busy": "2023-10-16T08:26:14.513568Z",
     "iopub.status.idle": "2023-10-16T08:26:14.521089Z",
     "shell.execute_reply": "2023-10-16T08:26:14.520260Z"
    },
    "papermill": {
     "duration": 0.106084,
     "end_time": "2023-10-16T08:26:14.523072",
     "exception": false,
     "start_time": "2023-10-16T08:26:14.416988",
     "status": "completed"
    },
    "tags": []
   },
   "outputs": [
    {
     "data": {
      "text/plain": [
       "tensor(0.5382, grad_fn=<MeanBackward0>)"
      ]
     },
     "execution_count": 28,
     "metadata": {},
     "output_type": "execute_result"
    }
   ],
   "source": [
    "loss = calc_loss(coeffs, t_indep, t_dep)\n",
    "loss"
   ]
  },
  {
   "cell_type": "markdown",
   "id": "d2825c60",
   "metadata": {
    "papermill": {
     "duration": 0.095485,
     "end_time": "2023-10-16T08:26:14.715735",
     "exception": false,
     "start_time": "2023-10-16T08:26:14.620250",
     "status": "completed"
    },
    "tags": []
   },
   "source": [
    "Use `backward()` to ask PyTorch to calculate gradients now:"
   ]
  },
  {
   "cell_type": "code",
   "execution_count": 29,
   "id": "929dfb6e",
   "metadata": {
    "execution": {
     "iopub.execute_input": "2023-10-16T08:26:14.910294Z",
     "iopub.status.busy": "2023-10-16T08:26:14.909707Z",
     "iopub.status.idle": "2023-10-16T08:26:14.923953Z",
     "shell.execute_reply": "2023-10-16T08:26:14.923217Z"
    },
    "papermill": {
     "duration": 0.115902,
     "end_time": "2023-10-16T08:26:14.926327",
     "exception": false,
     "start_time": "2023-10-16T08:26:14.810425",
     "status": "completed"
    },
    "tags": []
   },
   "outputs": [],
   "source": [
    "loss.backward()"
   ]
  },
  {
   "cell_type": "markdown",
   "id": "2e5594ae",
   "metadata": {
    "papermill": {
     "duration": 0.096553,
     "end_time": "2023-10-16T08:26:15.118386",
     "exception": false,
     "start_time": "2023-10-16T08:26:15.021833",
     "status": "completed"
    },
    "tags": []
   },
   "source": [
    "Let's see what they look like:"
   ]
  },
  {
   "cell_type": "code",
   "execution_count": 30,
   "id": "0f6b4636",
   "metadata": {
    "execution": {
     "iopub.execute_input": "2023-10-16T08:26:15.315687Z",
     "iopub.status.busy": "2023-10-16T08:26:15.315395Z",
     "iopub.status.idle": "2023-10-16T08:26:15.322012Z",
     "shell.execute_reply": "2023-10-16T08:26:15.321315Z"
    },
    "papermill": {
     "duration": 0.108496,
     "end_time": "2023-10-16T08:26:15.323737",
     "exception": false,
     "start_time": "2023-10-16T08:26:15.215241",
     "status": "completed"
    },
    "tags": []
   },
   "outputs": [
    {
     "data": {
      "text/plain": [
       "tensor([-0.0106,  0.0129, -0.0041, -0.0484,  0.2099, -0.2132, -0.1212, -0.0247,  0.1425, -0.1886, -0.0191,  0.2043])"
      ]
     },
     "execution_count": 30,
     "metadata": {},
     "output_type": "execute_result"
    }
   ],
   "source": [
    "coeffs.grad"
   ]
  },
  {
   "cell_type": "markdown",
   "id": "54d731b6",
   "metadata": {
    "papermill": {
     "duration": 0.097925,
     "end_time": "2023-10-16T08:26:15.516812",
     "exception": false,
     "start_time": "2023-10-16T08:26:15.418887",
     "status": "completed"
    },
    "tags": []
   },
   "source": [
    "Note that each time we call `backward`, the gradients are actually *added* to whatever is in the `.grad` attribute. Let's try running the above steps again:"
   ]
  },
  {
   "cell_type": "code",
   "execution_count": 31,
   "id": "392620cf",
   "metadata": {
    "execution": {
     "iopub.execute_input": "2023-10-16T08:26:15.710638Z",
     "iopub.status.busy": "2023-10-16T08:26:15.710070Z",
     "iopub.status.idle": "2023-10-16T08:26:15.720052Z",
     "shell.execute_reply": "2023-10-16T08:26:15.718994Z"
    },
    "papermill": {
     "duration": 0.110446,
     "end_time": "2023-10-16T08:26:15.722264",
     "exception": false,
     "start_time": "2023-10-16T08:26:15.611818",
     "status": "completed"
    },
    "tags": []
   },
   "outputs": [
    {
     "data": {
      "text/plain": [
       "tensor([-0.0212,  0.0258, -0.0082, -0.0969,  0.4198, -0.4265, -0.2424, -0.0494,  0.2851, -0.3771, -0.0382,  0.4085])"
      ]
     },
     "execution_count": 31,
     "metadata": {},
     "output_type": "execute_result"
    }
   ],
   "source": [
    "loss = calc_loss(coeffs, t_indep, t_dep)\n",
    "loss.backward()\n",
    "coeffs.grad"
   ]
  },
  {
   "cell_type": "markdown",
   "id": "da43c687",
   "metadata": {
    "papermill": {
     "duration": 0.097562,
     "end_time": "2023-10-16T08:26:15.915264",
     "exception": false,
     "start_time": "2023-10-16T08:26:15.817702",
     "status": "completed"
    },
    "tags": []
   },
   "source": [
    "As you see, our `.grad` values are have doubled. That's because it added the gradients a second time. For this reason, after we use the gradients to do a gradient descent step, we need to set them back to zero.\n",
    "\n",
    "We can now do one gradient descent step, and check that our loss decreases:"
   ]
  },
  {
   "cell_type": "code",
   "execution_count": 32,
   "id": "59640975",
   "metadata": {
    "execution": {
     "iopub.execute_input": "2023-10-16T08:26:16.110996Z",
     "iopub.status.busy": "2023-10-16T08:26:16.110379Z",
     "iopub.status.idle": "2023-10-16T08:26:16.117548Z",
     "shell.execute_reply": "2023-10-16T08:26:16.116552Z"
    },
    "papermill": {
     "duration": 0.108503,
     "end_time": "2023-10-16T08:26:16.119637",
     "exception": false,
     "start_time": "2023-10-16T08:26:16.011134",
     "status": "completed"
    },
    "tags": []
   },
   "outputs": [
    {
     "name": "stdout",
     "output_type": "stream",
     "text": [
      "tensor(0.4945)\n"
     ]
    }
   ],
   "source": [
    "loss = calc_loss(coeffs, t_indep, t_dep)\n",
    "loss.backward()\n",
    "with torch.no_grad():\n",
    "    coeffs.sub_(coeffs.grad * 0.1)\n",
    "    coeffs.grad.zero_()\n",
    "    print(calc_loss(coeffs, t_indep, t_dep))"
   ]
  },
  {
   "cell_type": "markdown",
   "id": "8373cfdc",
   "metadata": {
    "papermill": {
     "duration": 0.098126,
     "end_time": "2023-10-16T08:26:16.315894",
     "exception": false,
     "start_time": "2023-10-16T08:26:16.217768",
     "status": "completed"
    },
    "tags": []
   },
   "source": [
    "Note that `a.sub_(b)` subtracts `b` from `a` in-place. In PyTorch, any method that ends in `_` changes its object in-place. Similarly, `a.zero_()` sets all elements of a tensor to zero."
   ]
  },
  {
   "cell_type": "markdown",
   "id": "15ac08b2",
   "metadata": {
    "papermill": {
     "duration": 0.09641,
     "end_time": "2023-10-16T08:26:16.509914",
     "exception": false,
     "start_time": "2023-10-16T08:26:16.413504",
     "status": "completed"
    },
    "tags": []
   },
   "source": [
    "## Training the linear model"
   ]
  },
  {
   "cell_type": "markdown",
   "id": "612dbd94",
   "metadata": {
    "papermill": {
     "duration": 0.097364,
     "end_time": "2023-10-16T08:26:16.703844",
     "exception": false,
     "start_time": "2023-10-16T08:26:16.606480",
     "status": "completed"
    },
    "tags": []
   },
   "source": [
    "Before we begin training our model, we'll need to ensure that we hold out a validation set for calculating our metrics (for details on this, see \"[Getting started with NLP for absolute beginners](https://www.kaggle.com/code/jhoward/getting-started-with-nlp-for-absolute-beginners#Test-and-validation-sets)\".\n",
    "\n",
    "There's lots of different ways we can do this. In the next notebook we'll be comparing our approach here to what the fastai library does, so we'll want to ensure we split the data in the same way. So let's use `RandomSplitter` to get indices that will split our data into training and validation sets:"
   ]
  },
  {
   "cell_type": "code",
   "execution_count": 33,
   "id": "d2f5ccac",
   "metadata": {
    "execution": {
     "iopub.execute_input": "2023-10-16T08:26:16.900189Z",
     "iopub.status.busy": "2023-10-16T08:26:16.899780Z",
     "iopub.status.idle": "2023-10-16T08:26:18.292941Z",
     "shell.execute_reply": "2023-10-16T08:26:18.292016Z"
    },
    "papermill": {
     "duration": 1.494589,
     "end_time": "2023-10-16T08:26:18.295419",
     "exception": false,
     "start_time": "2023-10-16T08:26:16.800830",
     "status": "completed"
    },
    "tags": []
   },
   "outputs": [],
   "source": [
    "from fastai.data.transforms import RandomSplitter\n",
    "trn_split,val_split=RandomSplitter(seed=42)(df)"
   ]
  },
  {
   "cell_type": "markdown",
   "id": "185062c4",
   "metadata": {
    "papermill": {
     "duration": 0.097375,
     "end_time": "2023-10-16T08:26:18.490630",
     "exception": false,
     "start_time": "2023-10-16T08:26:18.393255",
     "status": "completed"
    },
    "tags": []
   },
   "source": [
    "Now we can apply those indicies to our independent and dependent variables:"
   ]
  },
  {
   "cell_type": "code",
   "execution_count": 34,
   "id": "2cacabfe",
   "metadata": {
    "execution": {
     "iopub.execute_input": "2023-10-16T08:26:18.688046Z",
     "iopub.status.busy": "2023-10-16T08:26:18.687609Z",
     "iopub.status.idle": "2023-10-16T08:26:18.697790Z",
     "shell.execute_reply": "2023-10-16T08:26:18.697061Z"
    },
    "papermill": {
     "duration": 0.111743,
     "end_time": "2023-10-16T08:26:18.699822",
     "exception": false,
     "start_time": "2023-10-16T08:26:18.588079",
     "status": "completed"
    },
    "tags": []
   },
   "outputs": [
    {
     "data": {
      "text/plain": [
       "(713, 178)"
      ]
     },
     "execution_count": 34,
     "metadata": {},
     "output_type": "execute_result"
    }
   ],
   "source": [
    "trn_indep,val_indep = t_indep[trn_split],t_indep[val_split]\n",
    "trn_dep,val_dep = t_dep[trn_split],t_dep[val_split]\n",
    "len(trn_indep),len(val_indep)"
   ]
  },
  {
   "cell_type": "markdown",
   "id": "f03134a7",
   "metadata": {
    "papermill": {
     "duration": 0.101327,
     "end_time": "2023-10-16T08:26:18.898972",
     "exception": false,
     "start_time": "2023-10-16T08:26:18.797645",
     "status": "completed"
    },
    "tags": []
   },
   "source": [
    "We'll create functions for the three things we did manually above: updating `coeffs`, doing one full gradient descent step, and initilising `coeffs` to random numbers:"
   ]
  },
  {
   "cell_type": "code",
   "execution_count": 35,
   "id": "cb2c878e",
   "metadata": {
    "execution": {
     "iopub.execute_input": "2023-10-16T08:26:19.096966Z",
     "iopub.status.busy": "2023-10-16T08:26:19.095878Z",
     "iopub.status.idle": "2023-10-16T08:26:19.100845Z",
     "shell.execute_reply": "2023-10-16T08:26:19.099901Z"
    },
    "papermill": {
     "duration": 0.106976,
     "end_time": "2023-10-16T08:26:19.102873",
     "exception": false,
     "start_time": "2023-10-16T08:26:18.995897",
     "status": "completed"
    },
    "tags": []
   },
   "outputs": [],
   "source": [
    "def update_coeffs(coeffs, lr):\n",
    "    coeffs.sub_(coeffs.grad * lr)\n",
    "    coeffs.grad.zero_()"
   ]
  },
  {
   "cell_type": "code",
   "execution_count": 36,
   "id": "8cb8f972",
   "metadata": {
    "execution": {
     "iopub.execute_input": "2023-10-16T08:26:19.299644Z",
     "iopub.status.busy": "2023-10-16T08:26:19.299297Z",
     "iopub.status.idle": "2023-10-16T08:26:19.304712Z",
     "shell.execute_reply": "2023-10-16T08:26:19.303562Z"
    },
    "papermill": {
     "duration": 0.107103,
     "end_time": "2023-10-16T08:26:19.307248",
     "exception": false,
     "start_time": "2023-10-16T08:26:19.200145",
     "status": "completed"
    },
    "tags": []
   },
   "outputs": [],
   "source": [
    "def one_epoch(coeffs, lr):\n",
    "    loss = calc_loss(coeffs, trn_indep, trn_dep)\n",
    "    loss.backward()\n",
    "    with torch.no_grad(): update_coeffs(coeffs, lr)\n",
    "    print(f\"{loss:.3f}\", end=\"; \")"
   ]
  },
  {
   "cell_type": "code",
   "execution_count": 37,
   "id": "dcc65b1b",
   "metadata": {
    "execution": {
     "iopub.execute_input": "2023-10-16T08:26:19.506859Z",
     "iopub.status.busy": "2023-10-16T08:26:19.506531Z",
     "iopub.status.idle": "2023-10-16T08:26:19.510910Z",
     "shell.execute_reply": "2023-10-16T08:26:19.510081Z"
    },
    "papermill": {
     "duration": 0.104494,
     "end_time": "2023-10-16T08:26:19.512870",
     "exception": false,
     "start_time": "2023-10-16T08:26:19.408376",
     "status": "completed"
    },
    "tags": []
   },
   "outputs": [],
   "source": [
    "def init_coeffs(): return (torch.rand(n_coeff)-0.5).requires_grad_()"
   ]
  },
  {
   "cell_type": "markdown",
   "id": "0651560e",
   "metadata": {
    "papermill": {
     "duration": 0.099112,
     "end_time": "2023-10-16T08:26:19.708846",
     "exception": false,
     "start_time": "2023-10-16T08:26:19.609734",
     "status": "completed"
    },
    "tags": []
   },
   "source": [
    "We can now use these functions to train our model:"
   ]
  },
  {
   "cell_type": "code",
   "execution_count": 38,
   "id": "1a368ff3",
   "metadata": {
    "execution": {
     "iopub.execute_input": "2023-10-16T08:26:19.905091Z",
     "iopub.status.busy": "2023-10-16T08:26:19.904041Z",
     "iopub.status.idle": "2023-10-16T08:26:19.908846Z",
     "shell.execute_reply": "2023-10-16T08:26:19.908182Z"
    },
    "papermill": {
     "duration": 0.105802,
     "end_time": "2023-10-16T08:26:19.910719",
     "exception": false,
     "start_time": "2023-10-16T08:26:19.804917",
     "status": "completed"
    },
    "tags": []
   },
   "outputs": [],
   "source": [
    "def train_model(epochs=30, lr=0.01):\n",
    "    torch.manual_seed(442)\n",
    "    coeffs = init_coeffs()\n",
    "    for i in range(epochs): one_epoch(coeffs, lr=lr)\n",
    "    return coeffs"
   ]
  },
  {
   "cell_type": "markdown",
   "id": "5d14bcb6",
   "metadata": {
    "papermill": {
     "duration": 0.099217,
     "end_time": "2023-10-16T08:26:20.107931",
     "exception": false,
     "start_time": "2023-10-16T08:26:20.008714",
     "status": "completed"
    },
    "tags": []
   },
   "source": [
    "Let's try it. Our loss will print at the end of every step, so we hope we'll see it going down:"
   ]
  },
  {
   "cell_type": "code",
   "execution_count": 39,
   "id": "7145ad46",
   "metadata": {
    "execution": {
     "iopub.execute_input": "2023-10-16T08:26:20.305053Z",
     "iopub.status.busy": "2023-10-16T08:26:20.304613Z",
     "iopub.status.idle": "2023-10-16T08:26:20.320617Z",
     "shell.execute_reply": "2023-10-16T08:26:20.319450Z"
    },
    "papermill": {
     "duration": 0.116259,
     "end_time": "2023-10-16T08:26:20.322692",
     "exception": false,
     "start_time": "2023-10-16T08:26:20.206433",
     "status": "completed"
    },
    "tags": []
   },
   "outputs": [
    {
     "name": "stdout",
     "output_type": "stream",
     "text": [
      "0.536; 0.502; 0.477; 0.454; 0.431; 0.409; 0.388; 0.367; 0.349; 0.336; 0.330; 0.326; 0.329; 0.304; 0.314; 0.296; 0.300; 0.289; "
     ]
    }
   ],
   "source": [
    "coeffs = train_model(18, lr=0.2)"
   ]
  },
  {
   "cell_type": "markdown",
   "id": "acab375b",
   "metadata": {
    "papermill": {
     "duration": 0.096571,
     "end_time": "2023-10-16T08:26:20.521757",
     "exception": false,
     "start_time": "2023-10-16T08:26:20.425186",
     "status": "completed"
    },
    "tags": []
   },
   "source": [
    "It does!\n",
    "\n",
    "Let's take a look at the coefficients for each column:"
   ]
  },
  {
   "cell_type": "code",
   "execution_count": 40,
   "id": "2c2684b6",
   "metadata": {
    "execution": {
     "iopub.execute_input": "2023-10-16T08:26:20.719620Z",
     "iopub.status.busy": "2023-10-16T08:26:20.719336Z",
     "iopub.status.idle": "2023-10-16T08:26:20.727839Z",
     "shell.execute_reply": "2023-10-16T08:26:20.727280Z"
    },
    "papermill": {
     "duration": 0.109099,
     "end_time": "2023-10-16T08:26:20.729627",
     "exception": false,
     "start_time": "2023-10-16T08:26:20.620528",
     "status": "completed"
    },
    "tags": []
   },
   "outputs": [
    {
     "data": {
      "text/plain": [
       "{'Age': tensor(-0.2694),\n",
       " 'SibSp': tensor(0.0901),\n",
       " 'Parch': tensor(0.2359),\n",
       " 'LogFare': tensor(0.0280),\n",
       " 'Sex_male': tensor(-0.3990),\n",
       " 'Sex_female': tensor(0.2345),\n",
       " 'Pclass_1': tensor(0.7232),\n",
       " 'Pclass_2': tensor(0.4112),\n",
       " 'Pclass_3': tensor(0.3601),\n",
       " 'Embarked_C': tensor(0.0955),\n",
       " 'Embarked_Q': tensor(0.2395),\n",
       " 'Embarked_S': tensor(0.2122)}"
      ]
     },
     "execution_count": 40,
     "metadata": {},
     "output_type": "execute_result"
    }
   ],
   "source": [
    "def show_coeffs(): return dict(zip(indep_cols, coeffs.requires_grad_(False)))\n",
    "show_coeffs()"
   ]
  },
  {
   "cell_type": "markdown",
   "id": "d684707f",
   "metadata": {
    "papermill": {
     "duration": 0.099051,
     "end_time": "2023-10-16T08:26:20.926126",
     "exception": false,
     "start_time": "2023-10-16T08:26:20.827075",
     "status": "completed"
    },
    "tags": []
   },
   "source": [
    "## Measuring accuracy"
   ]
  },
  {
   "cell_type": "markdown",
   "id": "561539c3",
   "metadata": {
    "papermill": {
     "duration": 0.098574,
     "end_time": "2023-10-16T08:26:21.122162",
     "exception": false,
     "start_time": "2023-10-16T08:26:21.023588",
     "status": "completed"
    },
    "tags": []
   },
   "source": [
    "The Kaggle competition is not, however, scored by absolute error (which is our loss function). It's scored by *accuracy* -- the proportion of rows where we correctly predict survival. Let's see how accurate we were on the validation set. First, calculate the predictions:"
   ]
  },
  {
   "cell_type": "code",
   "execution_count": 41,
   "id": "314a523f",
   "metadata": {
    "execution": {
     "iopub.execute_input": "2023-10-16T08:26:21.320547Z",
     "iopub.status.busy": "2023-10-16T08:26:21.319749Z",
     "iopub.status.idle": "2023-10-16T08:26:21.324721Z",
     "shell.execute_reply": "2023-10-16T08:26:21.323944Z"
    },
    "papermill": {
     "duration": 0.107359,
     "end_time": "2023-10-16T08:26:21.326866",
     "exception": false,
     "start_time": "2023-10-16T08:26:21.219507",
     "status": "completed"
    },
    "tags": []
   },
   "outputs": [],
   "source": [
    "preds = calc_preds(coeffs, val_indep)"
   ]
  },
  {
   "cell_type": "markdown",
   "id": "679d971f",
   "metadata": {
    "papermill": {
     "duration": 0.096302,
     "end_time": "2023-10-16T08:26:21.520810",
     "exception": false,
     "start_time": "2023-10-16T08:26:21.424508",
     "status": "completed"
    },
    "tags": []
   },
   "source": [
    "We'll assume that any passenger with a score of over `0.5` is predicted to survive. So that means we're correct for each row where `preds>0.5` is the same as the dependent variable:"
   ]
  },
  {
   "cell_type": "code",
   "execution_count": 42,
   "id": "f165c5d3",
   "metadata": {
    "execution": {
     "iopub.execute_input": "2023-10-16T08:26:21.715037Z",
     "iopub.status.busy": "2023-10-16T08:26:21.714259Z",
     "iopub.status.idle": "2023-10-16T08:26:21.720569Z",
     "shell.execute_reply": "2023-10-16T08:26:21.719770Z"
    },
    "papermill": {
     "duration": 0.105234,
     "end_time": "2023-10-16T08:26:21.722337",
     "exception": false,
     "start_time": "2023-10-16T08:26:21.617103",
     "status": "completed"
    },
    "tags": []
   },
   "outputs": [
    {
     "data": {
      "text/plain": [
       "tensor([ True,  True,  True,  True,  True,  True,  True,  True,  True,  True, False, False, False,  True,  True, False])"
      ]
     },
     "execution_count": 42,
     "metadata": {},
     "output_type": "execute_result"
    }
   ],
   "source": [
    "results = val_dep.bool()==(preds>0.5)\n",
    "results[:16]"
   ]
  },
  {
   "cell_type": "markdown",
   "id": "964bcf80",
   "metadata": {
    "papermill": {
     "duration": 0.097853,
     "end_time": "2023-10-16T08:26:21.917715",
     "exception": false,
     "start_time": "2023-10-16T08:26:21.819862",
     "status": "completed"
    },
    "tags": []
   },
   "source": [
    "Let's see what our average accuracy is:"
   ]
  },
  {
   "cell_type": "code",
   "execution_count": 43,
   "id": "3a87b91a",
   "metadata": {
    "execution": {
     "iopub.execute_input": "2023-10-16T08:26:22.115514Z",
     "iopub.status.busy": "2023-10-16T08:26:22.114689Z",
     "iopub.status.idle": "2023-10-16T08:26:22.121680Z",
     "shell.execute_reply": "2023-10-16T08:26:22.120685Z"
    },
    "papermill": {
     "duration": 0.109076,
     "end_time": "2023-10-16T08:26:22.123418",
     "exception": false,
     "start_time": "2023-10-16T08:26:22.014342",
     "status": "completed"
    },
    "tags": []
   },
   "outputs": [
    {
     "data": {
      "text/plain": [
       "tensor(0.7865)"
      ]
     },
     "execution_count": 43,
     "metadata": {},
     "output_type": "execute_result"
    }
   ],
   "source": [
    "results.float().mean()"
   ]
  },
  {
   "cell_type": "markdown",
   "id": "6c523031",
   "metadata": {
    "papermill": {
     "duration": 0.097117,
     "end_time": "2023-10-16T08:26:22.317174",
     "exception": false,
     "start_time": "2023-10-16T08:26:22.220057",
     "status": "completed"
    },
    "tags": []
   },
   "source": [
    "That's not a bad start at all! We'll create a function so we can calcuate the accuracy easy for other models we train:"
   ]
  },
  {
   "cell_type": "code",
   "execution_count": 44,
   "id": "a3714345",
   "metadata": {
    "execution": {
     "iopub.execute_input": "2023-10-16T08:26:22.515956Z",
     "iopub.status.busy": "2023-10-16T08:26:22.515648Z",
     "iopub.status.idle": "2023-10-16T08:26:22.523734Z",
     "shell.execute_reply": "2023-10-16T08:26:22.522716Z"
    },
    "papermill": {
     "duration": 0.109171,
     "end_time": "2023-10-16T08:26:22.525703",
     "exception": false,
     "start_time": "2023-10-16T08:26:22.416532",
     "status": "completed"
    },
    "tags": []
   },
   "outputs": [
    {
     "data": {
      "text/plain": [
       "tensor(0.7865)"
      ]
     },
     "execution_count": 44,
     "metadata": {},
     "output_type": "execute_result"
    }
   ],
   "source": [
    "def acc(coeffs): return (val_dep.bool()==(calc_preds(coeffs, val_indep)>0.5)).float().mean()\n",
    "acc(coeffs)"
   ]
  },
  {
   "cell_type": "markdown",
   "id": "873b6e9a",
   "metadata": {
    "papermill": {
     "duration": 0.101313,
     "end_time": "2023-10-16T08:26:22.726143",
     "exception": false,
     "start_time": "2023-10-16T08:26:22.624830",
     "status": "completed"
    },
    "tags": []
   },
   "source": [
    "## Using sigmoid"
   ]
  },
  {
   "cell_type": "markdown",
   "id": "cc7e9170",
   "metadata": {
    "papermill": {
     "duration": 0.099446,
     "end_time": "2023-10-16T08:26:22.926394",
     "exception": false,
     "start_time": "2023-10-16T08:26:22.826948",
     "status": "completed"
    },
    "tags": []
   },
   "source": [
    "Looking at our predictions, there's one obvious problem -- some of our predictions of the probability of survival are `>1`, and some are `<0`:"
   ]
  },
  {
   "cell_type": "code",
   "execution_count": 45,
   "id": "332d277f",
   "metadata": {
    "execution": {
     "iopub.execute_input": "2023-10-16T08:26:23.125972Z",
     "iopub.status.busy": "2023-10-16T08:26:23.125669Z",
     "iopub.status.idle": "2023-10-16T08:26:23.132418Z",
     "shell.execute_reply": "2023-10-16T08:26:23.131644Z"
    },
    "papermill": {
     "duration": 0.110041,
     "end_time": "2023-10-16T08:26:23.134345",
     "exception": false,
     "start_time": "2023-10-16T08:26:23.024304",
     "status": "completed"
    },
    "tags": []
   },
   "outputs": [
    {
     "data": {
      "text/plain": [
       "tensor([ 0.8160,  0.1295, -0.0148,  0.1831,  0.1520,  0.1350,  0.7279,  0.7754,  0.3222,  0.6740,  0.0753,  0.0389,  0.2216,  0.7631,\n",
       "         0.0678,  0.3997,  0.3324,  0.8278,  0.1078,  0.7126,  0.1023,  0.3627,  0.9937,  0.8050,  0.1153,  0.1455,  0.8652,  0.3425])"
      ]
     },
     "execution_count": 45,
     "metadata": {},
     "output_type": "execute_result"
    }
   ],
   "source": [
    "preds[:28]"
   ]
  },
  {
   "cell_type": "markdown",
   "id": "fab2fcae",
   "metadata": {
    "papermill": {
     "duration": 0.101318,
     "end_time": "2023-10-16T08:26:23.337357",
     "exception": false,
     "start_time": "2023-10-16T08:26:23.236039",
     "status": "completed"
    },
    "tags": []
   },
   "source": [
    "To fix this, we should pass every prediction through the *sigmoid function*, which has a minimum at zero and maximum at one, and is defined as follows:"
   ]
  },
  {
   "cell_type": "code",
   "execution_count": 46,
   "id": "012159c5",
   "metadata": {
    "execution": {
     "iopub.execute_input": "2023-10-16T08:26:23.536710Z",
     "iopub.status.busy": "2023-10-16T08:26:23.536322Z",
     "iopub.status.idle": "2023-10-16T08:26:24.721931Z",
     "shell.execute_reply": "2023-10-16T08:26:24.721260Z"
    },
    "papermill": {
     "duration": 1.286195,
     "end_time": "2023-10-16T08:26:24.724176",
     "exception": false,
     "start_time": "2023-10-16T08:26:23.437981",
     "status": "completed"
    },
    "tags": []
   },
   "outputs": [
    {
     "data": {
      "image/png": "[encoded data removed]",
      "text/plain": [
       "<Figure size 432x288 with 1 Axes>"
      ]
     },
     "metadata": {
      "needs_background": "light"
     },
     "output_type": "display_data"
    }
   ],
   "source": [
    "import sympy\n",
    "sympy.plot(\"1/(1+exp(-x))\", xlim=(-5,5));"
   ]
  },
  {
   "cell_type": "markdown",
   "id": "41a47459",
   "metadata": {
    "papermill": {
     "duration": 0.101197,
     "end_time": "2023-10-16T08:26:24.926643",
     "exception": false,
     "start_time": "2023-10-16T08:26:24.825446",
     "status": "completed"
    },
    "tags": []
   },
   "source": [
    "PyTorch already defines that function for us, so we can modify `calc_preds` to use it:"
   ]
  },
  {
   "cell_type": "code",
   "execution_count": 47,
   "id": "a29dfebb",
   "metadata": {
    "execution": {
     "iopub.execute_input": "2023-10-16T08:26:25.130096Z",
     "iopub.status.busy": "2023-10-16T08:26:25.129674Z",
     "iopub.status.idle": "2023-10-16T08:26:25.134012Z",
     "shell.execute_reply": "2023-10-16T08:26:25.133466Z"
    },
    "papermill": {
     "duration": 0.107969,
     "end_time": "2023-10-16T08:26:25.135745",
     "exception": false,
     "start_time": "2023-10-16T08:26:25.027776",
     "status": "completed"
    },
    "tags": []
   },
   "outputs": [],
   "source": [
    "def calc_preds(coeffs, indeps): return torch.sigmoid((indeps*coeffs).sum(axis=1))"
   ]
  },
  {
   "cell_type": "markdown",
   "id": "6f7170ed",
   "metadata": {
    "papermill": {
     "duration": 0.100552,
     "end_time": "2023-10-16T08:26:25.335649",
     "exception": false,
     "start_time": "2023-10-16T08:26:25.235097",
     "status": "completed"
    },
    "tags": []
   },
   "source": [
    "Let's train a new model now, using this updated function to calculate predictions:"
   ]
  },
  {
   "cell_type": "code",
   "execution_count": 48,
   "id": "094f5d82",
   "metadata": {
    "execution": {
     "iopub.execute_input": "2023-10-16T08:26:25.535775Z",
     "iopub.status.busy": "2023-10-16T08:26:25.535360Z",
     "iopub.status.idle": "2023-10-16T08:26:25.558062Z",
     "shell.execute_reply": "2023-10-16T08:26:25.557434Z"
    },
    "papermill": {
     "duration": 0.124834,
     "end_time": "2023-10-16T08:26:25.559914",
     "exception": false,
     "start_time": "2023-10-16T08:26:25.435080",
     "status": "completed"
    },
    "tags": []
   },
   "outputs": [
    {
     "name": "stdout",
     "output_type": "stream",
     "text": [
      "0.510; 0.327; 0.294; 0.207; 0.201; 0.199; 0.198; 0.197; 0.196; 0.196; 0.196; 0.195; 0.195; 0.195; 0.195; 0.195; 0.195; 0.195; 0.194; 0.194; 0.194; 0.194; 0.194; 0.194; 0.194; 0.194; 0.194; 0.194; 0.194; 0.194; "
     ]
    }
   ],
   "source": [
    "coeffs = train_model(lr=100)"
   ]
  },
  {
   "cell_type": "markdown",
   "id": "224bd05d",
   "metadata": {
    "papermill": {
     "duration": 0.100543,
     "end_time": "2023-10-16T08:26:25.760157",
     "exception": false,
     "start_time": "2023-10-16T08:26:25.659614",
     "status": "completed"
    },
    "tags": []
   },
   "source": [
    "The loss has improved by a lot. Let's check the accuracy:"
   ]
  },
  {
   "cell_type": "code",
   "execution_count": 49,
   "id": "e1ba0994",
   "metadata": {
    "execution": {
     "iopub.execute_input": "2023-10-16T08:26:25.965935Z",
     "iopub.status.busy": "2023-10-16T08:26:25.965058Z",
     "iopub.status.idle": "2023-10-16T08:26:25.971921Z",
     "shell.execute_reply": "2023-10-16T08:26:25.971301Z"
    },
    "papermill": {
     "duration": 0.111415,
     "end_time": "2023-10-16T08:26:25.973759",
     "exception": false,
     "start_time": "2023-10-16T08:26:25.862344",
     "status": "completed"
    },
    "tags": []
   },
   "outputs": [
    {
     "data": {
      "text/plain": [
       "tensor(0.8258)"
      ]
     },
     "execution_count": 49,
     "metadata": {},
     "output_type": "execute_result"
    }
   ],
   "source": [
    "acc(coeffs)"
   ]
  },
  {
   "cell_type": "markdown",
   "id": "fcd67079",
   "metadata": {
    "papermill": {
     "duration": 0.102444,
     "end_time": "2023-10-16T08:26:26.178832",
     "exception": false,
     "start_time": "2023-10-16T08:26:26.076388",
     "status": "completed"
    },
    "tags": []
   },
   "source": [
    "That's improved too! Here's the coefficients of our trained model:"
   ]
  },
  {
   "cell_type": "code",
   "execution_count": 50,
   "id": "bb8f5bb4",
   "metadata": {
    "execution": {
     "iopub.execute_input": "2023-10-16T08:26:26.385266Z",
     "iopub.status.busy": "2023-10-16T08:26:26.384615Z",
     "iopub.status.idle": "2023-10-16T08:26:26.392706Z",
     "shell.execute_reply": "2023-10-16T08:26:26.392146Z"
    },
    "papermill": {
     "duration": 0.115714,
     "end_time": "2023-10-16T08:26:26.394679",
     "exception": false,
     "start_time": "2023-10-16T08:26:26.278965",
     "status": "completed"
    },
    "tags": []
   },
   "outputs": [
    {
     "data": {
      "text/plain": [
       "{'Age': tensor(-1.5061),\n",
       " 'SibSp': tensor(-1.1575),\n",
       " 'Parch': tensor(-0.4267),\n",
       " 'LogFare': tensor(0.2543),\n",
       " 'Sex_male': tensor(-10.3320),\n",
       " 'Sex_female': tensor(8.4185),\n",
       " 'Pclass_1': tensor(3.8389),\n",
       " 'Pclass_2': tensor(2.1398),\n",
       " 'Pclass_3': tensor(-6.2331),\n",
       " 'Embarked_C': tensor(1.4771),\n",
       " 'Embarked_Q': tensor(2.1168),\n",
       " 'Embarked_S': tensor(-4.7958)}"
      ]
     },
     "execution_count": 50,
     "metadata": {},
     "output_type": "execute_result"
    }
   ],
   "source": [
    "show_coeffs()"
   ]
  },
  {
   "cell_type": "markdown",
   "id": "5e7d485f",
   "metadata": {
    "papermill": {
     "duration": 0.099086,
     "end_time": "2023-10-16T08:26:26.593059",
     "exception": false,
     "start_time": "2023-10-16T08:26:26.493973",
     "status": "completed"
    },
    "tags": []
   },
   "source": [
    "These coefficients seem reasonable -- in general, older people and males were less likely to survive, and first class passengers were more likely to survive."
   ]
  },
  {
   "cell_type": "markdown",
   "id": "047bd0fc",
   "metadata": {
    "papermill": {
     "duration": 0.100037,
     "end_time": "2023-10-16T08:26:26.792115",
     "exception": false,
     "start_time": "2023-10-16T08:26:26.692078",
     "status": "completed"
    },
    "tags": []
   },
   "source": [
    "## Submitting to Kaggle"
   ]
  },
  {
   "cell_type": "markdown",
   "id": "f35d7e78",
   "metadata": {
    "papermill": {
     "duration": 0.100572,
     "end_time": "2023-10-16T08:26:26.994502",
     "exception": false,
     "start_time": "2023-10-16T08:26:26.893930",
     "status": "completed"
    },
    "tags": []
   },
   "source": [
    "Now that we've got a trained model, we can prepare a submission to Kaggle. To do that, first we need to read the test set:"
   ]
  },
  {
   "cell_type": "code",
   "execution_count": 51,
   "id": "6676f7f8",
   "metadata": {
    "execution": {
     "iopub.execute_input": "2023-10-16T08:26:27.201070Z",
     "iopub.status.busy": "2023-10-16T08:26:27.200494Z",
     "iopub.status.idle": "2023-10-16T08:26:27.216894Z",
     "shell.execute_reply": "2023-10-16T08:26:27.216119Z"
    },
    "papermill": {
     "duration": 0.123319,
     "end_time": "2023-10-16T08:26:27.218951",
     "exception": false,
     "start_time": "2023-10-16T08:26:27.095632",
     "status": "completed"
    },
    "tags": []
   },
   "outputs": [],
   "source": [
    "tst_df = pd.read_csv(path/'test.csv')"
   ]
  },
  {
   "cell_type": "markdown",
   "id": "4ef1c019",
   "metadata": {
    "papermill": {
     "duration": 0.105137,
     "end_time": "2023-10-16T08:26:27.424782",
     "exception": false,
     "start_time": "2023-10-16T08:26:27.319645",
     "status": "completed"
    },
    "tags": []
   },
   "source": [
    "In this case, it turns out that the test set is missing `Fare` for one passenger. We'll just fill it with `0` to avoid problems:"
   ]
  },
  {
   "cell_type": "code",
   "execution_count": 52,
   "id": "b66ab2b5",
   "metadata": {
    "execution": {
     "iopub.execute_input": "2023-10-16T08:26:27.666876Z",
     "iopub.status.busy": "2023-10-16T08:26:27.666113Z",
     "iopub.status.idle": "2023-10-16T08:26:27.671598Z",
     "shell.execute_reply": "2023-10-16T08:26:27.671037Z"
    },
    "papermill": {
     "duration": 0.118916,
     "end_time": "2023-10-16T08:26:27.673535",
     "exception": false,
     "start_time": "2023-10-16T08:26:27.554619",
     "status": "completed"
    },
    "tags": []
   },
   "outputs": [],
   "source": [
    "tst_df['Fare'] = tst_df.Fare.fillna(0)"
   ]
  },
  {
   "cell_type": "markdown",
   "id": "2216d7c1",
   "metadata": {
    "papermill": {
     "duration": 0.122771,
     "end_time": "2023-10-16T08:26:27.901019",
     "exception": false,
     "start_time": "2023-10-16T08:26:27.778248",
     "status": "completed"
    },
    "tags": []
   },
   "source": [
    "Now we can just copy the same steps we did to our training set and do the same exact things on our test set to preprocess the data:"
   ]
  },
  {
   "cell_type": "code",
   "execution_count": 53,
   "id": "d3e3300e",
   "metadata": {
    "execution": {
     "iopub.execute_input": "2023-10-16T08:26:28.120628Z",
     "iopub.status.busy": "2023-10-16T08:26:28.120018Z",
     "iopub.status.idle": "2023-10-16T08:26:28.136072Z",
     "shell.execute_reply": "2023-10-16T08:26:28.135482Z"
    },
    "papermill": {
     "duration": 0.124419,
     "end_time": "2023-10-16T08:26:28.138109",
     "exception": false,
     "start_time": "2023-10-16T08:26:28.013690",
     "status": "completed"
    },
    "tags": []
   },
   "outputs": [],
   "source": [
    "tst_df.fillna(modes, inplace=True)\n",
    "tst_df['LogFare'] = np.log(tst_df['Fare']+1)\n",
    "tst_df = pd.get_dummies(tst_df, columns=[\"Sex\",\"Pclass\",\"Embarked\"])\n",
    "\n",
    "tst_indep = tensor(tst_df[indep_cols].values, dtype=torch.float)\n",
    "tst_indep = tst_indep / vals"
   ]
  },
  {
   "cell_type": "markdown",
   "id": "dea1e5ea",
   "metadata": {
    "papermill": {
     "duration": 0.110838,
     "end_time": "2023-10-16T08:26:28.393569",
     "exception": false,
     "start_time": "2023-10-16T08:26:28.282731",
     "status": "completed"
    },
    "tags": []
   },
   "source": [
    "Let's calculate our predictions of which passengers survived in the test set:"
   ]
  },
  {
   "cell_type": "code",
   "execution_count": 54,
   "id": "ccb31de8",
   "metadata": {
    "execution": {
     "iopub.execute_input": "2023-10-16T08:26:28.602222Z",
     "iopub.status.busy": "2023-10-16T08:26:28.601647Z",
     "iopub.status.idle": "2023-10-16T08:26:28.606818Z",
     "shell.execute_reply": "2023-10-16T08:26:28.606286Z"
    },
    "papermill": {
     "duration": 0.110561,
     "end_time": "2023-10-16T08:26:28.608697",
     "exception": false,
     "start_time": "2023-10-16T08:26:28.498136",
     "status": "completed"
    },
    "tags": []
   },
   "outputs": [],
   "source": [
    "tst_df['Survived'] = (calc_preds(tst_indep, coeffs)>0.5).int()"
   ]
  },
  {
   "cell_type": "markdown",
   "id": "bc102391",
   "metadata": {
    "papermill": {
     "duration": 0.100781,
     "end_time": "2023-10-16T08:26:28.811752",
     "exception": false,
     "start_time": "2023-10-16T08:26:28.710971",
     "status": "completed"
    },
    "tags": []
   },
   "source": [
    "The sample submission on the Kaggle competition site shows that we're expected to upload a CSV with just `PassengerId` and `Survived`, so let's create that and save it:"
   ]
  },
  {
   "cell_type": "code",
   "execution_count": 55,
   "id": "d12a29fc",
   "metadata": {
    "execution": {
     "iopub.execute_input": "2023-10-16T08:26:29.026793Z",
     "iopub.status.busy": "2023-10-16T08:26:29.025888Z",
     "iopub.status.idle": "2023-10-16T08:26:29.035848Z",
     "shell.execute_reply": "2023-10-16T08:26:29.035121Z"
    },
    "papermill": {
     "duration": 0.113169,
     "end_time": "2023-10-16T08:26:29.037921",
     "exception": false,
     "start_time": "2023-10-16T08:26:28.924752",
     "status": "completed"
    },
    "tags": []
   },
   "outputs": [],
   "source": [
    "sub_df = tst_df[['PassengerId','Survived']]\n",
    "sub_df.to_csv('sub.csv', index=False)"
   ]
  },
  {
   "cell_type": "markdown",
   "id": "d6581d47",
   "metadata": {
    "papermill": {
     "duration": 0.099608,
     "end_time": "2023-10-16T08:26:29.240415",
     "exception": false,
     "start_time": "2023-10-16T08:26:29.140807",
     "status": "completed"
    },
    "tags": []
   },
   "source": [
    "We can check the first few rows of the file to make sure it looks reasonable:"
   ]
  },
  {
   "cell_type": "code",
   "execution_count": 56,
   "id": "7ee620db",
   "metadata": {
    "execution": {
     "iopub.execute_input": "2023-10-16T08:26:29.443030Z",
     "iopub.status.busy": "2023-10-16T08:26:29.442726Z",
     "iopub.status.idle": "2023-10-16T08:26:30.563580Z",
     "shell.execute_reply": "2023-10-16T08:26:30.562788Z"
    },
    "papermill": {
     "duration": 1.225236,
     "end_time": "2023-10-16T08:26:30.565986",
     "exception": false,
     "start_time": "2023-10-16T08:26:29.340750",
     "status": "completed"
    },
    "tags": []
   },
   "outputs": [
    {
     "name": "stdout",
     "output_type": "stream",
     "text": [
      "PassengerId,Survived\r\n",
      "892,0\r\n",
      "893,0\r\n",
      "894,0\r\n",
      "895,0\r\n",
      "896,0\r\n",
      "897,0\r\n",
      "898,1\r\n",
      "899,0\r\n",
      "900,1\r\n"
     ]
    }
   ],
   "source": [
    "!head sub.csv"
   ]
  },
  {
   "cell_type": "markdown",
   "id": "678ff8fe",
   "metadata": {
    "papermill": {
     "duration": 0.099404,
     "end_time": "2023-10-16T08:26:30.765063",
     "exception": false,
     "start_time": "2023-10-16T08:26:30.665659",
     "status": "completed"
    },
    "tags": []
   },
   "source": [
    "When you click \"save version\" in Kaggle, and wait for the notebook to run, you'll see that `sub.csv` appears in the \"Data\" tab. Clicking on that file will show a *Submit* button, which allows you to submit to the competition."
   ]
  },
  {
   "cell_type": "markdown",
   "id": "4de743ce",
   "metadata": {
    "papermill": {
     "duration": 0.101778,
     "end_time": "2023-10-16T08:26:30.968915",
     "exception": false,
     "start_time": "2023-10-16T08:26:30.867137",
     "status": "completed"
    },
    "tags": []
   },
   "source": [
    "## Using matrix product"
   ]
  },
  {
   "cell_type": "markdown",
   "id": "7527694b",
   "metadata": {
    "papermill": {
     "duration": 0.102625,
     "end_time": "2023-10-16T08:26:31.171015",
     "exception": false,
     "start_time": "2023-10-16T08:26:31.068390",
     "status": "completed"
    },
    "tags": []
   },
   "source": [
    "We can make things quite a bit neater...\n",
    "\n",
    "Take a look at the inner-most calculation we're doing to get the predictions:"
   ]
  },
  {
   "cell_type": "code",
   "execution_count": 57,
   "id": "93575f4d",
   "metadata": {
    "execution": {
     "iopub.execute_input": "2023-10-16T08:26:31.374971Z",
     "iopub.status.busy": "2023-10-16T08:26:31.374607Z",
     "iopub.status.idle": "2023-10-16T08:26:31.385101Z",
     "shell.execute_reply": "2023-10-16T08:26:31.384254Z"
    },
    "papermill": {
     "duration": 0.116521,
     "end_time": "2023-10-16T08:26:31.387275",
     "exception": false,
     "start_time": "2023-10-16T08:26:31.270754",
     "status": "completed"
    },
    "tags": []
   },
   "outputs": [
    {
     "data": {
      "text/plain": [
       "tensor([ 12.3288, -14.8119, -15.4540, -13.1513, -13.3512, -13.6469,   3.6248,   5.3429, -22.0878,   3.1233, -21.8742, -15.6421, -21.5504,\n",
       "          3.9393, -21.9190, -12.0010, -12.3775,   5.3550, -13.5880,  -3.1015, -21.7237, -12.2081,  12.9767,   4.7427, -21.6525, -14.9135,\n",
       "         -2.7433, -12.3210, -21.5886,   3.9387,   5.3890,  -3.6196, -21.6296, -21.8454,  12.2159,  -3.2275, -12.0289,  13.4560, -21.7230,\n",
       "         -3.1366, -13.2462, -21.7230, -13.6831,  13.3092, -21.6477,  -3.5868, -21.6854, -21.8316, -14.8158,  -2.9386,  -5.3103, -22.2384,\n",
       "        -22.1097, -21.7466, -13.3780, -13.4909, -14.8119, -22.0690, -21.6666, -21.7818,  -5.4439, -21.7407, -12.6551, -21.6671,   4.9238,\n",
       "        -11.5777, -13.3323, -21.9638, -15.3030,   5.0243, -21.7614,   3.1820, -13.4721, -21.7170, -11.6066, -21.5737, -21.7230, -11.9652,\n",
       "        -13.2382, -13.7599, -13.2170,  13.1347, -21.7049, -21.7268,   4.9207,  -7.3198,  -5.3081,   7.1065,  11.4948, -13.3135, -21.8723,\n",
       "        -21.7230,  13.3603, -15.5670,   3.4105,  -7.2857, -13.7197,   3.6909,   3.9763, -14.7227, -21.8268,   3.9387, -21.8743, -21.8367,\n",
       "        -11.8518, -13.6712, -21.8299,   4.9440,  -5.4471, -21.9666,   5.1333,  -3.2187, -11.6008,  13.7920, -21.7230,  12.6369,  -3.7268,\n",
       "        -14.8119, -22.0637,  12.9468, -22.1610,  -6.1827, -14.8119,  -3.2838, -15.4540, -11.6950,  -2.9926,  -3.0110, -21.5664, -13.8268,\n",
       "          7.3426, -21.8418,   5.0744,   5.2582,  13.3415, -21.6289, -13.9898, -21.8112,  -7.3316,   5.2296, -13.4453,  12.7891, -22.1235,\n",
       "        -14.9625,  -3.4339,   6.3089, -21.9839,   3.1968,   7.2400,   2.8558,  -3.1187,   3.7965,   5.4667, -15.1101, -15.0597, -22.9391,\n",
       "        -21.7230,  -3.0346, -13.5206, -21.7011,  13.4425,  -7.2690, -21.8335, -12.0582,  13.0489,   6.7993,   5.2160,   5.0794, -12.6957,\n",
       "        -12.1838,  -3.0873, -21.6070,   7.0744, -21.7170, -22.1001,   6.8159, -11.6002, -21.6310])"
      ]
     },
     "execution_count": 57,
     "metadata": {},
     "output_type": "execute_result"
    }
   ],
   "source": [
    "(val_indep*coeffs).sum(axis=1)"
   ]
  },
  {
   "cell_type": "markdown",
   "id": "8885cbd3",
   "metadata": {
    "papermill": {
     "duration": 0.101067,
     "end_time": "2023-10-16T08:26:31.590154",
     "exception": false,
     "start_time": "2023-10-16T08:26:31.489087",
     "status": "completed"
    },
    "tags": []
   },
   "source": [
    "Multiplying elements together and then adding across rows is identical to doing a matrix-vector product! Python uses the `@` operator to indicate matrix products, and is supported by PyTorch tensors. Therefore, we can replicate the above calculate more simply like so:"
   ]
  },
  {
   "cell_type": "code",
   "execution_count": 58,
   "id": "fae2683a",
   "metadata": {
    "execution": {
     "iopub.execute_input": "2023-10-16T08:26:31.794741Z",
     "iopub.status.busy": "2023-10-16T08:26:31.794191Z",
     "iopub.status.idle": "2023-10-16T08:26:31.808795Z",
     "shell.execute_reply": "2023-10-16T08:26:31.807942Z"
    },
    "papermill": {
     "duration": 0.119619,
     "end_time": "2023-10-16T08:26:31.810709",
     "exception": false,
     "start_time": "2023-10-16T08:26:31.691090",
     "status": "completed"
    },
    "tags": []
   },
   "outputs": [
    {
     "data": {
      "text/plain": [
       "tensor([ 12.3288, -14.8119, -15.4540, -13.1513, -13.3511, -13.6468,   3.6248,   5.3429, -22.0878,   3.1233, -21.8742, -15.6421, -21.5504,\n",
       "          3.9393, -21.9190, -12.0010, -12.3775,   5.3550, -13.5880,  -3.1015, -21.7237, -12.2081,  12.9767,   4.7427, -21.6525, -14.9135,\n",
       "         -2.7433, -12.3210, -21.5886,   3.9387,   5.3890,  -3.6196, -21.6296, -21.8454,  12.2159,  -3.2275, -12.0289,  13.4560, -21.7230,\n",
       "         -3.1366, -13.2462, -21.7230, -13.6831,  13.3092, -21.6477,  -3.5868, -21.6854, -21.8316, -14.8158,  -2.9386,  -5.3103, -22.2384,\n",
       "        -22.1097, -21.7466, -13.3780, -13.4909, -14.8119, -22.0690, -21.6666, -21.7818,  -5.4439, -21.7407, -12.6551, -21.6671,   4.9238,\n",
       "        -11.5777, -13.3323, -21.9638, -15.3030,   5.0243, -21.7614,   3.1820, -13.4721, -21.7170, -11.6066, -21.5737, -21.7230, -11.9652,\n",
       "        -13.2382, -13.7599, -13.2170,  13.1347, -21.7049, -21.7268,   4.9207,  -7.3198,  -5.3081,   7.1065,  11.4948, -13.3135, -21.8723,\n",
       "        -21.7230,  13.3603, -15.5670,   3.4105,  -7.2857, -13.7197,   3.6909,   3.9763, -14.7227, -21.8268,   3.9387, -21.8743, -21.8367,\n",
       "        -11.8518, -13.6712, -21.8299,   4.9440,  -5.4471, -21.9666,   5.1333,  -3.2187, -11.6008,  13.7920, -21.7230,  12.6369,  -3.7268,\n",
       "        -14.8119, -22.0637,  12.9468, -22.1610,  -6.1827, -14.8119,  -3.2838, -15.4540, -11.6950,  -2.9926,  -3.0110, -21.5664, -13.8268,\n",
       "          7.3426, -21.8418,   5.0744,   5.2582,  13.3415, -21.6289, -13.9898, -21.8112,  -7.3316,   5.2296, -13.4453,  12.7891, -22.1235,\n",
       "        -14.9625,  -3.4339,   6.3089, -21.9839,   3.1968,   7.2400,   2.8558,  -3.1187,   3.7965,   5.4667, -15.1101, -15.0597, -22.9391,\n",
       "        -21.7230,  -3.0346, -13.5206, -21.7011,  13.4425,  -7.2690, -21.8335, -12.0582,  13.0489,   6.7993,   5.2160,   5.0794, -12.6957,\n",
       "        -12.1838,  -3.0873, -21.6070,   7.0744, -21.7170, -22.1001,   6.8159, -11.6002, -21.6310])"
      ]
     },
     "execution_count": 58,
     "metadata": {},
     "output_type": "execute_result"
    }
   ],
   "source": [
    "val_indep@coeffs"
   ]
  },
  {
   "cell_type": "markdown",
   "id": "d0b1e62a",
   "metadata": {
    "papermill": {
     "duration": 0.100674,
     "end_time": "2023-10-16T08:26:32.012096",
     "exception": false,
     "start_time": "2023-10-16T08:26:31.911422",
     "status": "completed"
    },
    "tags": []
   },
   "source": [
    "It also turns out that this is much faster, because matrix products in PyTorch are very highly optimised.\n",
    "\n",
    "Let's use this to replace how `calc_preds` works:"
   ]
  },
  {
   "cell_type": "code",
   "execution_count": 59,
   "id": "2ffc8880",
   "metadata": {
    "execution": {
     "iopub.execute_input": "2023-10-16T08:26:32.216785Z",
     "iopub.status.busy": "2023-10-16T08:26:32.216368Z",
     "iopub.status.idle": "2023-10-16T08:26:32.220763Z",
     "shell.execute_reply": "2023-10-16T08:26:32.220060Z"
    },
    "papermill": {
     "duration": 0.110209,
     "end_time": "2023-10-16T08:26:32.222580",
     "exception": false,
     "start_time": "2023-10-16T08:26:32.112371",
     "status": "completed"
    },
    "tags": []
   },
   "outputs": [],
   "source": [
    "def calc_preds(coeffs, indeps): return torch.sigmoid(indeps@coeffs)"
   ]
  },
  {
   "cell_type": "markdown",
   "id": "0e3bfa1b",
   "metadata": {
    "papermill": {
     "duration": 0.100756,
     "end_time": "2023-10-16T08:26:32.425748",
     "exception": false,
     "start_time": "2023-10-16T08:26:32.324992",
     "status": "completed"
    },
    "tags": []
   },
   "source": [
    "In order to do matrix-matrix products (which we'll need in the next section), we need to turn `coeffs` into a column vector (i.e. a matrix with a single column), which we can do by passing a second argument `1` to `torch.rand()`, indicating that we want our coefficients to have one column:"
   ]
  },
  {
   "cell_type": "code",
   "execution_count": 60,
   "id": "66967fd1",
   "metadata": {
    "execution": {
     "iopub.execute_input": "2023-10-16T08:26:32.630938Z",
     "iopub.status.busy": "2023-10-16T08:26:32.630646Z",
     "iopub.status.idle": "2023-10-16T08:26:32.634969Z",
     "shell.execute_reply": "2023-10-16T08:26:32.633878Z"
    },
    "papermill": {
     "duration": 0.109827,
     "end_time": "2023-10-16T08:26:32.636900",
     "exception": false,
     "start_time": "2023-10-16T08:26:32.527073",
     "status": "completed"
    },
    "tags": []
   },
   "outputs": [],
   "source": [
    "def init_coeffs(): return (torch.rand(n_coeff, 1)*0.1).requires_grad_()"
   ]
  },
  {
   "cell_type": "markdown",
   "id": "97c50bd1",
   "metadata": {
    "papermill": {
     "duration": 0.103021,
     "end_time": "2023-10-16T08:26:32.844516",
     "exception": false,
     "start_time": "2023-10-16T08:26:32.741495",
     "status": "completed"
    },
    "tags": []
   },
   "source": [
    "We'll also need to turn our dependent variable into a column vector, which we can do by indexing the column dimension with the special value `None`, which tells PyTorch to add a new dimension in this position:"
   ]
  },
  {
   "cell_type": "code",
   "execution_count": 61,
   "id": "3725cbac",
   "metadata": {
    "execution": {
     "iopub.execute_input": "2023-10-16T08:26:33.052360Z",
     "iopub.status.busy": "2023-10-16T08:26:33.051815Z",
     "iopub.status.idle": "2023-10-16T08:26:33.055986Z",
     "shell.execute_reply": "2023-10-16T08:26:33.055403Z"
    },
    "papermill": {
     "duration": 0.109406,
     "end_time": "2023-10-16T08:26:33.057869",
     "exception": false,
     "start_time": "2023-10-16T08:26:32.948463",
     "status": "completed"
    },
    "tags": []
   },
   "outputs": [],
   "source": [
    "trn_dep = trn_dep[:,None]\n",
    "val_dep = val_dep[:,None]"
   ]
  },
  {
   "cell_type": "markdown",
   "id": "eacb1e99",
   "metadata": {
    "papermill": {
     "duration": 0.104029,
     "end_time": "2023-10-16T08:26:33.264708",
     "exception": false,
     "start_time": "2023-10-16T08:26:33.160679",
     "status": "completed"
    },
    "tags": []
   },
   "source": [
    "We can now train our model as before and confirm we get identical outputs...:"
   ]
  },
  {
   "cell_type": "code",
   "execution_count": 62,
   "id": "f39cddfa",
   "metadata": {
    "execution": {
     "iopub.execute_input": "2023-10-16T08:26:33.471228Z",
     "iopub.status.busy": "2023-10-16T08:26:33.470689Z",
     "iopub.status.idle": "2023-10-16T08:26:33.492867Z",
     "shell.execute_reply": "2023-10-16T08:26:33.491891Z"
    },
    "papermill": {
     "duration": 0.129147,
     "end_time": "2023-10-16T08:26:33.494898",
     "exception": false,
     "start_time": "2023-10-16T08:26:33.365751",
     "status": "completed"
    },
    "tags": []
   },
   "outputs": [
    {
     "name": "stdout",
     "output_type": "stream",
     "text": [
      "0.512; 0.323; 0.290; 0.205; 0.200; 0.198; 0.197; 0.197; 0.196; 0.196; 0.196; 0.195; 0.195; 0.195; 0.195; 0.195; 0.195; 0.194; 0.194; 0.194; 0.194; 0.194; 0.194; 0.194; 0.194; 0.194; 0.194; 0.194; 0.194; 0.194; "
     ]
    }
   ],
   "source": [
    "coeffs = train_model(lr=100)"
   ]
  },
  {
   "cell_type": "markdown",
   "id": "af810721",
   "metadata": {
    "papermill": {
     "duration": 0.102957,
     "end_time": "2023-10-16T08:26:33.702798",
     "exception": false,
     "start_time": "2023-10-16T08:26:33.599841",
     "status": "completed"
    },
    "tags": []
   },
   "source": [
    "...and identical accuracy:"
   ]
  },
  {
   "cell_type": "code",
   "execution_count": 63,
   "id": "f8f1fa8f",
   "metadata": {
    "execution": {
     "iopub.execute_input": "2023-10-16T08:26:33.975372Z",
     "iopub.status.busy": "2023-10-16T08:26:33.975071Z",
     "iopub.status.idle": "2023-10-16T08:26:33.981368Z",
     "shell.execute_reply": "2023-10-16T08:26:33.980666Z"
    },
    "papermill": {
     "duration": 0.112167,
     "end_time": "2023-10-16T08:26:33.983024",
     "exception": false,
     "start_time": "2023-10-16T08:26:33.870857",
     "status": "completed"
    },
    "tags": []
   },
   "outputs": [
    {
     "data": {
      "text/plain": [
       "tensor(0.8258)"
      ]
     },
     "execution_count": 63,
     "metadata": {},
     "output_type": "execute_result"
    }
   ],
   "source": [
    "acc(coeffs)"
   ]
  },
  {
   "cell_type": "markdown",
   "id": "a71e4aca",
   "metadata": {
    "papermill": {
     "duration": 0.103659,
     "end_time": "2023-10-16T08:26:34.189404",
     "exception": false,
     "start_time": "2023-10-16T08:26:34.085745",
     "status": "completed"
    },
    "tags": []
   },
   "source": [
    "## A neural network"
   ]
  },
  {
   "cell_type": "markdown",
   "id": "5b795335",
   "metadata": {
    "papermill": {
     "duration": 0.102843,
     "end_time": "2023-10-16T08:26:34.394372",
     "exception": false,
     "start_time": "2023-10-16T08:26:34.291529",
     "status": "completed"
    },
    "tags": []
   },
   "source": [
    "We've now got what we need to implement our neural network.\n",
    "\n",
    "First, we'll need to create coefficients for each of our layers. Our first set of coefficients will take our `n_coeff` inputs, and create `n_hidden` outputs. We can choose whatever `n_hidden` we like -- a higher number gives our network more flexibility, but makes it slower and harder to train. So we need a matrix of size `n_coeff` by `n_hidden`. We'll divide these coefficients by `n_hidden` so that when we sum them up in the next layer we'll end up with similar magnitude numbers to what we started with.\n",
    "\n",
    "Then our second layer will need to take the `n_hidden` inputs and create a single output, so that means we need a `n_hidden` by `1` matrix there. The second layer will also need a constant term added."
   ]
  },
  {
   "cell_type": "code",
   "execution_count": 64,
   "id": "ec82f795",
   "metadata": {
    "execution": {
     "iopub.execute_input": "2023-10-16T08:26:34.601946Z",
     "iopub.status.busy": "2023-10-16T08:26:34.601424Z",
     "iopub.status.idle": "2023-10-16T08:26:34.605822Z",
     "shell.execute_reply": "2023-10-16T08:26:34.605262Z"
    },
    "papermill": {
     "duration": 0.109707,
     "end_time": "2023-10-16T08:26:34.607554",
     "exception": false,
     "start_time": "2023-10-16T08:26:34.497847",
     "status": "completed"
    },
    "tags": []
   },
   "outputs": [],
   "source": [
    "def init_coeffs(n_hidden=20):\n",
    "    layer1 = (torch.rand(n_coeff, n_hidden)-0.5)/n_hidden\n",
    "    layer2 = torch.rand(n_hidden, 1)-0.3\n",
    "    const = torch.rand(1)[0]\n",
    "    return layer1.requires_grad_(),layer2.requires_grad_(),const.requires_grad_()"
   ]
  },
  {
   "cell_type": "markdown",
   "id": "0b19b83b",
   "metadata": {
    "papermill": {
     "duration": 0.10322,
     "end_time": "2023-10-16T08:26:34.814591",
     "exception": false,
     "start_time": "2023-10-16T08:26:34.711371",
     "status": "completed"
    },
    "tags": []
   },
   "source": [
    "Now we have our coefficients, we can create our neural net. The key steps are the two matrix products, `indeps@l1` and `res@l2` (where `res` is the output of the first layer). The first layer output is passed to `F.relu` (that's our non-linearity), and the second is passed to `torch.sigmoid` as before."
   ]
  },
  {
   "cell_type": "code",
   "execution_count": 65,
   "id": "219bec9a",
   "metadata": {
    "execution": {
     "iopub.execute_input": "2023-10-16T08:26:35.026790Z",
     "iopub.status.busy": "2023-10-16T08:26:35.026274Z",
     "iopub.status.idle": "2023-10-16T08:26:35.030779Z",
     "shell.execute_reply": "2023-10-16T08:26:35.029918Z"
    },
    "papermill": {
     "duration": 0.11402,
     "end_time": "2023-10-16T08:26:35.032594",
     "exception": false,
     "start_time": "2023-10-16T08:26:34.918574",
     "status": "completed"
    },
    "tags": []
   },
   "outputs": [],
   "source": [
    "import torch.nn.functional as F\n",
    "\n",
    "def calc_preds(coeffs, indeps):\n",
    "    l1,l2,const = coeffs\n",
    "    res = F.relu(indeps@l1)\n",
    "    res = res@l2 + const\n",
    "    return torch.sigmoid(res)"
   ]
  },
  {
   "cell_type": "markdown",
   "id": "7cd29e6e",
   "metadata": {
    "papermill": {
     "duration": 0.101678,
     "end_time": "2023-10-16T08:26:35.240779",
     "exception": false,
     "start_time": "2023-10-16T08:26:35.139101",
     "status": "completed"
    },
    "tags": []
   },
   "source": [
    "Finally, now that we have more than one set of coefficients, we need to add a loop to update each one:"
   ]
  },
  {
   "cell_type": "code",
   "execution_count": 66,
   "id": "47cb8b5d",
   "metadata": {
    "execution": {
     "iopub.execute_input": "2023-10-16T08:26:35.448925Z",
     "iopub.status.busy": "2023-10-16T08:26:35.448360Z",
     "iopub.status.idle": "2023-10-16T08:26:35.452627Z",
     "shell.execute_reply": "2023-10-16T08:26:35.451773Z"
    },
    "papermill": {
     "duration": 0.109108,
     "end_time": "2023-10-16T08:26:35.454440",
     "exception": false,
     "start_time": "2023-10-16T08:26:35.345332",
     "status": "completed"
    },
    "tags": []
   },
   "outputs": [],
   "source": [
    "def update_coeffs(coeffs, lr):\n",
    "    for layer in coeffs:\n",
    "        layer.sub_(layer.grad * lr)\n",
    "        layer.grad.zero_()"
   ]
  },
  {
   "cell_type": "markdown",
   "id": "2d441f13",
   "metadata": {
    "papermill": {
     "duration": 0.101565,
     "end_time": "2023-10-16T08:26:35.657882",
     "exception": false,
     "start_time": "2023-10-16T08:26:35.556317",
     "status": "completed"
    },
    "tags": []
   },
   "source": [
    "That's it -- we're now ready to train our model!"
   ]
  },
  {
   "cell_type": "code",
   "execution_count": 67,
   "id": "23e316f7",
   "metadata": {
    "execution": {
     "iopub.execute_input": "2023-10-16T08:26:35.864385Z",
     "iopub.status.busy": "2023-10-16T08:26:35.863869Z",
     "iopub.status.idle": "2023-10-16T08:26:35.899933Z",
     "shell.execute_reply": "2023-10-16T08:26:35.899073Z"
    },
    "papermill": {
     "duration": 0.142146,
     "end_time": "2023-10-16T08:26:35.901896",
     "exception": false,
     "start_time": "2023-10-16T08:26:35.759750",
     "status": "completed"
    },
    "tags": []
   },
   "outputs": [
    {
     "name": "stdout",
     "output_type": "stream",
     "text": [
      "0.543; 0.532; 0.520; 0.505; 0.487; 0.466; 0.439; 0.407; 0.373; 0.343; 0.319; 0.301; 0.286; 0.274; 0.264; 0.256; 0.250; 0.245; 0.240; 0.237; 0.234; 0.231; 0.229; 0.227; 0.226; 0.224; 0.223; 0.222; 0.221; 0.220; "
     ]
    }
   ],
   "source": [
    "coeffs = train_model(lr=1.4)"
   ]
  },
  {
   "cell_type": "code",
   "execution_count": 68,
   "id": "35a167f5",
   "metadata": {
    "execution": {
     "iopub.execute_input": "2023-10-16T08:26:36.108260Z",
     "iopub.status.busy": "2023-10-16T08:26:36.107355Z",
     "iopub.status.idle": "2023-10-16T08:26:36.131783Z",
     "shell.execute_reply": "2023-10-16T08:26:36.130937Z"
    },
    "papermill": {
     "duration": 0.130208,
     "end_time": "2023-10-16T08:26:36.133830",
     "exception": false,
     "start_time": "2023-10-16T08:26:36.003622",
     "status": "completed"
    },
    "tags": []
   },
   "outputs": [
    {
     "name": "stdout",
     "output_type": "stream",
     "text": [
      "0.543; 0.400; 0.260; 0.390; 0.221; 0.211; 0.197; 0.195; 0.193; 0.193; 0.193; 0.193; 0.193; 0.193; 0.193; 0.193; 0.193; 0.192; 0.192; 0.192; 0.192; 0.192; 0.192; 0.192; 0.192; 0.192; 0.192; 0.192; 0.192; 0.192; "
     ]
    }
   ],
   "source": [
    "coeffs = train_model(lr=20)"
   ]
  },
  {
   "cell_type": "markdown",
   "id": "48f00d99",
   "metadata": {
    "papermill": {
     "duration": 0.102052,
     "end_time": "2023-10-16T08:26:36.338368",
     "exception": false,
     "start_time": "2023-10-16T08:26:36.236316",
     "status": "completed"
    },
    "tags": []
   },
   "source": [
    "It's looking good -- our loss is lower than before. Let's see if that translates to a better result on the validation set:"
   ]
  },
  {
   "cell_type": "code",
   "execution_count": 69,
   "id": "4c260635",
   "metadata": {
    "execution": {
     "iopub.execute_input": "2023-10-16T08:26:36.548104Z",
     "iopub.status.busy": "2023-10-16T08:26:36.547056Z",
     "iopub.status.idle": "2023-10-16T08:26:36.554335Z",
     "shell.execute_reply": "2023-10-16T08:26:36.553548Z"
    },
    "papermill": {
     "duration": 0.11607,
     "end_time": "2023-10-16T08:26:36.556183",
     "exception": false,
     "start_time": "2023-10-16T08:26:36.440113",
     "status": "completed"
    },
    "tags": []
   },
   "outputs": [
    {
     "data": {
      "text/plain": [
       "tensor(0.8258)"
      ]
     },
     "execution_count": 69,
     "metadata": {},
     "output_type": "execute_result"
    }
   ],
   "source": [
    "acc(coeffs)"
   ]
  },
  {
   "cell_type": "markdown",
   "id": "29b3e2a0",
   "metadata": {
    "papermill": {
     "duration": 0.10307,
     "end_time": "2023-10-16T08:26:36.760751",
     "exception": false,
     "start_time": "2023-10-16T08:26:36.657681",
     "status": "completed"
    },
    "tags": []
   },
   "source": [
    "In this case our neural net isn't showing better results than the linear model. That's not surprising; this dataset is very small and very simple, and isn't the kind of thing we'd expect to see neural networks excel at. Furthermore, our validation set is too small to reliably see much accuracy difference. But the key thing is that we now know exactly what a real neural net looks like!"
   ]
  },
  {
   "cell_type": "markdown",
   "id": "419069c6",
   "metadata": {
    "papermill": {
     "duration": 0.101647,
     "end_time": "2023-10-16T08:26:36.965184",
     "exception": false,
     "start_time": "2023-10-16T08:26:36.863537",
     "status": "completed"
    },
    "tags": []
   },
   "source": [
    "## Deep learning"
   ]
  },
  {
   "cell_type": "markdown",
   "id": "0a31c37f",
   "metadata": {
    "papermill": {
     "duration": 0.103963,
     "end_time": "2023-10-16T08:26:37.170701",
     "exception": false,
     "start_time": "2023-10-16T08:26:37.066738",
     "status": "completed"
    },
    "tags": []
   },
   "source": [
    "The neural net in the previous section only uses one hidden layer, so it doesn't count as \"deep\" learning. But we can use the exact same technique to make our neural net deep, by adding more matrix multiplications.\n",
    "\n",
    "First, we'll need to create additional coefficients for each layer:"
   ]
  },
  {
   "cell_type": "code",
   "execution_count": 70,
   "id": "70048645",
   "metadata": {
    "execution": {
     "iopub.execute_input": "2023-10-16T08:26:37.379011Z",
     "iopub.status.busy": "2023-10-16T08:26:37.378436Z",
     "iopub.status.idle": "2023-10-16T08:26:37.385090Z",
     "shell.execute_reply": "2023-10-16T08:26:37.384518Z"
    },
    "papermill": {
     "duration": 0.113644,
     "end_time": "2023-10-16T08:26:37.387238",
     "exception": false,
     "start_time": "2023-10-16T08:26:37.273594",
     "status": "completed"
    },
    "tags": []
   },
   "outputs": [],
   "source": [
    "def init_coeffs():\n",
    "    hiddens = [10, 10]  # <-- set this to the size of each hidden layer you want\n",
    "    sizes = [n_coeff] + hiddens + [1]\n",
    "    n = len(sizes)\n",
    "    layers = [(torch.rand(sizes[i], sizes[i+1])-0.3)/sizes[i+1]*4 for i in range(n-1)]\n",
    "    consts = [(torch.rand(1)[0]-0.5)*0.1 for i in range(n-1)]\n",
    "    for l in layers+consts: l.requires_grad_()\n",
    "    return layers,consts"
   ]
  },
  {
   "cell_type": "markdown",
   "id": "58339dbc",
   "metadata": {
    "papermill": {
     "duration": 0.104281,
     "end_time": "2023-10-16T08:26:37.594238",
     "exception": false,
     "start_time": "2023-10-16T08:26:37.489957",
     "status": "completed"
    },
    "tags": []
   },
   "source": [
    "You'll notice here that there's a lot of messy constants to get the random numbers in just the right ranges. When you train the model in a moment, you'll see that the tiniest changes to these initialisations can cause our model to fail to train at all! This is a key reason that deep learning failed to make much progress in the early days -- it's very finicky to get a good starting point for our coefficients. Nowadays, we have ways to deal with that, which we'll learn about in other notebooks.\n",
    "\n",
    "Our deep learning `calc_preds` looks much the same as before, but now we loop through each layer, instead of listing them separately:"
   ]
  },
  {
   "cell_type": "code",
   "execution_count": 71,
   "id": "219e13db",
   "metadata": {
    "execution": {
     "iopub.execute_input": "2023-10-16T08:26:37.808899Z",
     "iopub.status.busy": "2023-10-16T08:26:37.808625Z",
     "iopub.status.idle": "2023-10-16T08:26:37.814142Z",
     "shell.execute_reply": "2023-10-16T08:26:37.813274Z"
    },
    "papermill": {
     "duration": 0.115181,
     "end_time": "2023-10-16T08:26:37.816078",
     "exception": false,
     "start_time": "2023-10-16T08:26:37.700897",
     "status": "completed"
    },
    "tags": []
   },
   "outputs": [],
   "source": [
    "import torch.nn.functional as F\n",
    "\n",
    "def calc_preds(coeffs, indeps):\n",
    "    layers,consts = coeffs\n",
    "    n = len(layers)\n",
    "    res = indeps\n",
    "    for i,l in enumerate(layers):\n",
    "        res = res@l + consts[i]\n",
    "        if i!=n-1: res = F.relu(res)\n",
    "    return torch.sigmoid(res)"
   ]
  },
  {
   "cell_type": "markdown",
   "id": "ab8e4851",
   "metadata": {
    "papermill": {
     "duration": 0.111643,
     "end_time": "2023-10-16T08:26:38.030666",
     "exception": false,
     "start_time": "2023-10-16T08:26:37.919023",
     "status": "completed"
    },
    "tags": []
   },
   "source": [
    "We also need a minor update to `update_coeffs` since we've got `layers` and `consts` separated now:"
   ]
  },
  {
   "cell_type": "code",
   "execution_count": 72,
   "id": "e6c0939d",
   "metadata": {
    "execution": {
     "iopub.execute_input": "2023-10-16T08:26:38.262058Z",
     "iopub.status.busy": "2023-10-16T08:26:38.261581Z",
     "iopub.status.idle": "2023-10-16T08:26:38.267459Z",
     "shell.execute_reply": "2023-10-16T08:26:38.266241Z"
    },
    "papermill": {
     "duration": 0.137847,
     "end_time": "2023-10-16T08:26:38.270773",
     "exception": false,
     "start_time": "2023-10-16T08:26:38.132926",
     "status": "completed"
    },
    "tags": []
   },
   "outputs": [],
   "source": [
    "def update_coeffs(coeffs, lr):\n",
    "    layers,consts = coeffs\n",
    "    for layer in layers+consts:\n",
    "        layer.sub_(layer.grad * lr)\n",
    "        layer.grad.zero_()"
   ]
  },
  {
   "cell_type": "markdown",
   "id": "c38693ac",
   "metadata": {
    "papermill": {
     "duration": 0.102526,
     "end_time": "2023-10-16T08:26:38.479876",
     "exception": false,
     "start_time": "2023-10-16T08:26:38.377350",
     "status": "completed"
    },
    "tags": []
   },
   "source": [
    "Let's train our model..."
   ]
  },
  {
   "cell_type": "code",
   "execution_count": 73,
   "id": "558c1f6f",
   "metadata": {
    "execution": {
     "iopub.execute_input": "2023-10-16T08:26:38.687569Z",
     "iopub.status.busy": "2023-10-16T08:26:38.687291Z",
     "iopub.status.idle": "2023-10-16T08:26:38.717055Z",
     "shell.execute_reply": "2023-10-16T08:26:38.716024Z"
    },
    "papermill": {
     "duration": 0.135954,
     "end_time": "2023-10-16T08:26:38.719109",
     "exception": false,
     "start_time": "2023-10-16T08:26:38.583155",
     "status": "completed"
    },
    "tags": []
   },
   "outputs": [
    {
     "name": "stdout",
     "output_type": "stream",
     "text": [
      "0.521; 0.483; 0.427; 0.379; 0.379; 0.379; 0.379; 0.378; 0.378; 0.378; 0.378; 0.378; 0.378; 0.378; 0.378; 0.378; 0.377; 0.376; 0.371; 0.333; 0.239; 0.224; 0.208; 0.204; 0.203; 0.203; 0.207; 0.197; 0.196; 0.195; "
     ]
    }
   ],
   "source": [
    "coeffs = train_model(lr=4)"
   ]
  },
  {
   "cell_type": "markdown",
   "id": "f3ea93df",
   "metadata": {
    "papermill": {
     "duration": 0.10478,
     "end_time": "2023-10-16T08:26:38.928333",
     "exception": false,
     "start_time": "2023-10-16T08:26:38.823553",
     "status": "completed"
    },
    "tags": []
   },
   "source": [
    "...and check its accuracy:"
   ]
  },
  {
   "cell_type": "code",
   "execution_count": 74,
   "id": "6138cc22",
   "metadata": {
    "execution": {
     "iopub.execute_input": "2023-10-16T08:26:39.142438Z",
     "iopub.status.busy": "2023-10-16T08:26:39.141772Z",
     "iopub.status.idle": "2023-10-16T08:26:39.148399Z",
     "shell.execute_reply": "2023-10-16T08:26:39.147468Z"
    },
    "papermill": {
     "duration": 0.117781,
     "end_time": "2023-10-16T08:26:39.151177",
     "exception": false,
     "start_time": "2023-10-16T08:26:39.033396",
     "status": "completed"
    },
    "tags": []
   },
   "outputs": [
    {
     "data": {
      "text/plain": [
       "tensor(0.8258)"
      ]
     },
     "execution_count": 74,
     "metadata": {},
     "output_type": "execute_result"
    }
   ],
   "source": [
    "acc(coeffs)"
   ]
  },
  {
   "cell_type": "markdown",
   "id": "5d4f1b51",
   "metadata": {
    "papermill": {
     "duration": 0.105544,
     "end_time": "2023-10-16T08:26:39.364309",
     "exception": false,
     "start_time": "2023-10-16T08:26:39.258765",
     "status": "completed"
    },
    "tags": []
   },
   "source": [
    "## Final thoughts"
   ]
  },
  {
   "cell_type": "markdown",
   "id": "181e3d53",
   "metadata": {
    "papermill": {
     "duration": 0.10523,
     "end_time": "2023-10-16T08:26:39.573449",
     "exception": false,
     "start_time": "2023-10-16T08:26:39.468219",
     "status": "completed"
    },
    "tags": []
   },
   "source": [
    "It's actually pretty cool that we've managed to create a real deep learning model from scratch and trained it to get over 80% accuracy on this task, all in the course of a single notebook!\n",
    "\n",
    "The \"real\" deep learning models that are used in research and industry look very similar to this, and in fact if you look inside the source code of any deep learning model you'll recognise the basic steps are the same.\n",
    "\n",
    "The biggest differences in practical models to what we have above are:\n",
    "\n",
    "- How initialisation and normalisation is done to ensure the model trains correctly every time\n",
    "- Regularization (to avoid over-fitting)\n",
    "- Modifying the neural net itself to take advantage of knowledge of the problem domain\n",
    "- Doing gradient descent steps on smaller batches, rather than the whole dataset.\n",
    "\n",
    "I'll be adding notebooks about all these later, and will add links here once they're ready.\n",
    "\n",
    "If you found this notebook useful, please remember to click the little up-arrow at the top to upvote it, since I like to know when people have found my work useful, and it helps others find it too. (BTW, be sure you're looking at my [original notebook here](https://www.kaggle.com/code/jhoward/linear-model-and-neural-net-from-scratch) when you do that, and are not on your own copy of it, otherwise your upvote won't get counted!) And if you have any questions or comments, please pop them below -- I read every comment I receive!"
   ]
  },
  {
   "cell_type": "code",
   "execution_count": null,
   "id": "224826e0",
   "metadata": {
    "papermill": {
     "duration": 0.104911,
     "end_time": "2023-10-16T08:26:39.784190",
     "exception": false,
     "start_time": "2023-10-16T08:26:39.679279",
     "status": "completed"
    },
    "tags": []
   },
   "outputs": [],
   "source": []
  }
 ],
 "metadata": {
  "kernelspec": {
   "display_name": "Python 3",
   "language": "python",
   "name": "python3"
  },
  "language_info": {
   "codemirror_mode": {
    "name": "ipython",
    "version": 3
   },
   "file_extension": ".py",
   "mimetype": "text/x-python",
   "name": "python",
   "nbconvert_exporter": "python",
   "pygments_lexer": "ipython3",
   "version": "3.7.12"
  },
  "papermill": {
   "default_parameters": {},
   "duration": 49.385625,
   "end_time": "2023-10-16T08:26:40.912903",
   "environment_variables": {},
   "exception": null,
   "input_path": "__notebook__.ipynb",
   "output_path": "__notebook__.ipynb",
   "parameters": {},
   "start_time": "2023-10-16T08:25:51.527278",
   "version": "2.3.4"
  }
 },
 "nbformat": 4,
 "nbformat_minor": 5
}
